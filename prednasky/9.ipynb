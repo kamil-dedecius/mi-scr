{
 "cells": [
  {
   "cell_type": "code",
   "execution_count": 2,
   "metadata": {},
   "outputs": [],
   "source": [
    "import numpy as np\n",
    "from scipy.stats import multivariate_normal as mvn\n",
    "from scipy.stats import norm\n",
    "import matplotlib.pylab as plt\n",
    "np.set_printoptions(precision=2)"
   ]
  },
  {
   "cell_type": "markdown",
   "metadata": {},
   "source": [
    "# Téma: Unscented Kalman filter (UKF)"
   ]
  },
  {
   "cell_type": "markdown",
   "metadata": {},
   "source": [
    "Myšlenka tzv. [*unscented transformace*](https://en.wikipedia.org/wiki/Unscented_transform), tj. diskrétní reprezentace nějaké distribuce pomocí vhodně vybraných bodů (zvaných *sigma-body*) a její využití v kalmanovské filtraci se datuje do 90. let. Autory jsou [Jeffrey Uhlmann](https://en.wikipedia.org/wiki/Jeffrey_Uhlmann) (nejen matematik, ale také herec a hudebník) a Simon Julier.\n",
    "\n",
    "[UKF](https://en.wikipedia.org/wiki/Kalman_filter#Unscented_Kalman_filter) je často mnohem snazší nasadit na reálné problémy, než [EKF](https://en.wikipedia.org/wiki/Extended_Kalman_filter). Navíc dává v praxi srovnatelnou či lepší kvalitu odhadů, z hlediska teorie poskytuje lepší aproximaci než EKF. Stejně jako EKF ale není optimální ve smyslu minimalizace [střední kvadratické chyby](https://en.wikipedia.org/wiki/Minimum_mean_square_error)."
   ]
  },
  {
   "cell_type": "markdown",
   "metadata": {},
   "source": [
    "# Motivace\n",
    "\n",
    "Předpokládejme stavový model ve tvaru\n",
    "\n",
    "$$\n",
    "\\begin{align}\n",
    "x_t &= f_t(x_{t-1}, u_t) + w_t, \\\\\n",
    "y_t &= h_t(x_t) + \\varepsilon_t,\n",
    "\\end{align}\n",
    "$$\n",
    "\n",
    "kde\n",
    "- $x_t$ je neznámý stav\n",
    "- $y_t$ pozorovaná veličina (měření)\n",
    "- $w_t\\sim (0,Q_t)$ nepozorovaný centrovaný iid šum stavu (procesu) s kovariancí $Q_t$\n",
    "- $\\varepsilon_t \\sim (0,R_t)$ nepozorovaný centrovaný iid šum modelu (pozorování, měření) s kovariancí $R_t$\n",
    "- $u_t$ externí veličina (regresor, vstup, řídící veličina)\n",
    "- $f_t$ a $h_t$ jsou **nelineární funkce**."
   ]
  },
  {
   "cell_type": "markdown",
   "metadata": {},
   "source": [
    "Rozšířený Kalmanův filtr (EKF) využívá **linearizaci** funkcí $f_t$ a $h_t$ pomocí Taylorova polynomu prvního stupně (tedy vlastně jen derivací):\n",
    "\n",
    "$$\n",
    "\\begin{align}\n",
    "F_t &= \\frac{\\partial f_t}{\\partial x}\\bigg|_{\\hat{x}_{t-1}^+},\\\\\n",
    "H_t &= \\frac{\\partial h_t}{\\partial x}\\bigg|_{\\hat{x}_{t}^-},\\\\\n",
    "\\end{align}\n",
    "$$\n",
    "\n",
    "který vede na stavový model\n",
    "\n",
    "$$\n",
    "\\begin{aligned}\n",
    "x_t &= F_t x_{t-1} + \\tilde{u}_t + w_t,\\\\\n",
    "y_t &= H_t x_t + z_t + \\varepsilon_t,\n",
    "\\end{aligned}\n",
    "$$\n",
    "\n",
    "kde\n",
    "$$\n",
    "\\begin{align}\n",
    "\\tilde{u}_t &= f_t\\left(\\hat{x}_t^+, u_t, 0\\right) - F_t \\hat{x}_t^+, \\\\\n",
    "z_t &= h_t \\left(\\hat{x}_t^-, 0\\right) - H_t \\hat{x}_t^-, \\\\\n",
    "\\end{align}\n",
    "$$\n",
    "\n",
    "Pro odhad stavů takového modelu už můžeme využít standardní lineární Kalmanův filtr."
   ]
  },
  {
   "cell_type": "markdown",
   "metadata": {},
   "source": [
    "### Co je na tom zvláštního?\n",
    "\n",
    "- Máme známé nelineární funkce $f_t$ a $h_t$\n",
    "- a ne tak docela známou distribuci pro $x_t$\n",
    "- **přesto mírně nelogicky aproximujeme funkce**\n",
    "\n",
    "   - logika je v tom, že chceme použít standardní KF, což je rozumné,\n",
    "   - ale stejně by bylo logičtější aproximovat spíš tu distribuci.\n",
    "   \n",
    "**Navíc:**\n",
    "   \n",
    "- počítání derivací může být pěkný numerický průšvih\n",
    "- linearizace 1. řádem nemusí být dostatečně přesnou aproximací"
   ]
  },
  {
   "cell_type": "markdown",
   "metadata": {},
   "source": [
    "# Unscented transformation (UT)\n",
    "\n",
    "Základní myšlenka UT je následující:\n",
    "\n",
    "1. Aproximujme distribuci stavové veličiny diskrétní distribucí, tj. množinou bodů. Ideálně tak, aby byly **zachovány první dva momenty**, jež standardní KF využívá, a potenciálně i momenty vyšší.\n",
    "2. Použít nelineární funkci na bod je **přímočaré**.\n",
    "\n",
    "Body, pomocí nichž reprezentujeme skutečnou hustotu a které propagujeme zmíněnými funkcemi v modelu, nazýváme **sigma-body**."
   ]
  },
  {
   "cell_type": "markdown",
   "metadata": {},
   "source": [
    "### Základní UT\n",
    "\n",
    "Předpokládejme, že máme stavový vektor $x\\in\\mathbb{R}^{n}$ se známou střední hodnotou - vektorem $\\bar{x}$ a kovarianční maticí $P$,\n",
    "\n",
    "$$\n",
    "x \\sim (\\bar{x}, P).\n",
    "$$\n",
    "\n",
    "Předpokládejme dále zadanou nelineární funkci\n",
    "\n",
    "$$\n",
    "y = h(x).\n",
    "$$\n",
    "\n",
    "Namísto počítání Taylorova polynomu můžeme použít UT k transformaci střední hodnoty a kovariance veličiny $y$."
   ]
  },
  {
   "cell_type": "markdown",
   "metadata": {},
   "source": [
    "#### Sigma-body\n",
    "\n",
    "Vybíráme $2n$ sigma-bodů $x^{(i)}$ tak, aby diskrétní aproximace hustoty $x$ rovněž měla střední hodnotu $\\bar{x}$ a kovarianci $P$:\n",
    "\n",
    "$$\n",
    "\\begin{alignat}{2}\n",
    "x^{(i)} &= \\bar{x} + \\tilde{x}^{(i)} \\qquad &&i=1,\\ldots,2n, \\\\\n",
    "\\tilde{x}^{(i)} &= \\left( \\sqrt{nP} \\right)_{i}^\\intercal \\qquad &&i=1,\\ldots,n,\\\\\n",
    "\\tilde{x}^{(n+i)} &= -\\left( \\sqrt{nP} \\right)_{i}^\\intercal \\qquad &&i=1,\\ldots,n.\n",
    "\\end{alignat}\n",
    "$$\n",
    "\n",
    "V zápisu výše je $\\sqrt{nP}$ maticová odmocnina matice $nP$, taková, že\n",
    "\n",
    "$$\n",
    "\\left( \\sqrt{nP} \\right)^\\intercal \\left( \\sqrt{nP} \\right) = nP,\n",
    "$$\n",
    "\n",
    "a $\\left( \\sqrt{nP} \\right)_i$ značí $i$. řádek matice $\\sqrt{nP}$."
   ]
  },
  {
   "cell_type": "code",
   "execution_count": 3,
   "metadata": {},
   "outputs": [
    {
     "name": "stdout",
     "output_type": "stream",
     "text": [
      "Matice nP:\n",
      " [[2 0]\n",
      " [0 4]]\n",
      "\n",
      "Matice sqrt(nP):\n",
      " [[1.41 0.  ]\n",
      " [0.   2.  ]]\n",
      "\n",
      "Součin pro kontrolu:\n",
      " [[2. 0.]\n",
      " [0. 4.]]\n"
     ]
    }
   ],
   "source": [
    "P = np.diag([1,2])\n",
    "n = 2\n",
    "sqrt_nP = np.linalg.cholesky(n*P).T\n",
    "print(\"Matice nP:\\n\", n*P)\n",
    "print(\"\\nMatice sqrt(nP):\\n\", sqrt_nP)\n",
    "print(\"\\nSoučin pro kontrolu:\\n\", sqrt_nP.T @ sqrt_nP)"
   ]
  },
  {
   "cell_type": "markdown",
   "metadata": {},
   "source": [
    "#### Aproximace střední hodnoty $y$\n",
    "\n",
    "Spočteme transformované sigma-body:\n",
    "\n",
    "$$\n",
    "y^{(i)} = h\\left(x^{(i)}\\right), \\qquad i=1,\\ldots,2n.\n",
    "$$\n",
    "\n",
    "Aproximovaná střední hodnota $y$ potom je\n",
    "\n",
    "$$\n",
    "\\bar{y}_u = \\sum_{i=1}^{2n} W^{(i)} y^{(i)}\\qquad\\text{kde}\\qquad W^{(i)} = \\frac{1}{2n}, \\qquad i=1,\\ldots,2n.\n",
    "$$\n",
    "\n",
    "V této základní verzi UT má tedy každý sigma-bod rovnoměrně přidělenou váhu a počítáme tedy $\\bar{y}_u$ jako aritmetický průměr ze všech sigma-bodů."
   ]
  },
  {
   "cell_type": "markdown",
   "metadata": {},
   "source": [
    "#### Aproximace kovariance $P$\n",
    "\n",
    "Kovarianci aproximujeme vztahem \n",
    "\n",
    "$$\n",
    "P_u = \\sum_{i=1}^{2n} W^{(i)} \n",
    "\\left(y^{(i)} - \\bar{y}_u \\right)\n",
    "\\left(y^{(i)} - \\bar{y}_u \\right)^\\intercal,\n",
    "$$\n",
    "\n",
    "kde všechny proměnné jsou uvedeny výše."
   ]
  },
  {
   "cell_type": "markdown",
   "metadata": {},
   "source": [
    "**Kvalita aproximace**\n",
    "\n",
    "Jde poměrně jednoduše ukázat, že taková aproximace odpovídá Taylorově aproximaci do třetího řádu. Připomeňme, že v EKF jsme využívali pouze řád první.\n",
    "\n",
    "**Pro a proti ve srovnání s Taylorem**\n",
    "\n",
    "Vygenerování sigma-bodů při zadané kovarianční matici $P$ a střední hodnotě $\\bar{x}$ je přímočaré. Počítání odmocniny z matice není úplně základní věc, ale oproti hledání linearizace je stále velmi přijatelné."
   ]
  },
  {
   "cell_type": "markdown",
   "metadata": {},
   "source": [
    "# Příklad\n",
    "\n",
    "Jako jednoduchý příklad můžeme transformovat $x\\in\\mathbb{R}$ vybranou funkcí."
   ]
  },
  {
   "cell_type": "code",
   "execution_count": 22,
   "metadata": {},
   "outputs": [
    {
     "data": {
      "image/png": "[encoded data removed]",
      "text/plain": [
       "<Figure size 1008x216 with 2 Axes>"
      ]
     },
     "metadata": {
      "needs_background": "light"
     },
     "output_type": "display_data"
    }
   ],
   "source": [
    "def fx(x):\n",
    "    return np.sqrt(x)               ### Nelineární transf.\n",
    "    #return 2*x                       ### Můžeme zkusit i lineární transf.\n",
    "\n",
    "xbar = 9\n",
    "P = 4\n",
    "n = 1\n",
    "\n",
    "xtilde = np.array([np.sqrt(n*P), -np.sqrt(n*P)])\n",
    "xi = xbar + xtilde\n",
    "yi = fx(xi)\n",
    "y = np.mean(yi)\n",
    "Py = np.mean((y-yi)**2)\n",
    "\n",
    "plt.figure(figsize=(14,3))\n",
    "xx = np.linspace(xbar-4*np.sqrt(P), xbar+4*np.sqrt(P), 1000)\n",
    "plt.subplot(121)\n",
    "plt.title(f'N({xbar}, {P})')\n",
    "plt.plot(xx, norm.pdf(xx, loc=xbar, scale=np.sqrt(P)))\n",
    "plt.stem(xi, np.ones_like(xi)/xi.size, basefmt='C0:', use_line_collection=True)\n",
    "plt.subplot(122)\n",
    "plt.title(f'N({y:.3f}, {Py:.3f})')\n",
    "xx = np.linspace(y-4*np.sqrt(P), y+4*np.sqrt(P), 1000)\n",
    "plt.stem(yi, np.ones_like(xi)/xi.size, basefmt='C0:', use_line_collection=True)\n",
    "plt.plot(xx, norm.pdf(xx, loc=y, scale=np.sqrt(Py)))\n",
    "plt.show()"
   ]
  },
  {
   "cell_type": "markdown",
   "metadata": {},
   "source": [
    "Rozdíly mezi analytickým zobrazením, linearizací v EKF a UT v UKF ukazuje následující obrázek:\n",
    "\n",
    "![ekfukf](img/ekfukf.jpg)\n",
    "(zdroj: E.A. Wan & R. van der Merwe)"
   ]
  },
  {
   "cell_type": "markdown",
   "metadata": {},
   "source": [
    "# Unscented Kalman filter - UKF"
   ]
  },
  {
   "cell_type": "markdown",
   "metadata": {},
   "source": [
    "UKF je typ filtru, který využívá výše uvedenou transformaci k reprezentaci distribuce stavu $x_t$. Budeme uvažovat model\n",
    "\n",
    "$$\n",
    "\\begin{align}\n",
    "x_t &= f_t(x_{t-1}, u_t) + w_t, &w_t\\sim(0,Q_t)\\\\\n",
    "y_t &= h_t(x_t) + \\varepsilon_t, &\\varepsilon_t\\sim(0,R_t)\n",
    "\\end{align}\n",
    "$$"
   ]
  },
  {
   "cell_type": "markdown",
   "metadata": {},
   "source": [
    "## Algoritmus UKF\n",
    "\n",
    "**Inicializace:** Nastavíme $x_0$ (iniciální odhad stavu) a $P_0^+$ (iniciální kovariance odhadů).\n",
    "\n",
    "**Pro $t=1,2,\\ldots$:**\n",
    "\n",
    "    - Inicializace sigma-bodů\n",
    "$$\n",
    "\\begin{align}\n",
    "\\hat{x}_{t-1}^{(i)} &= \\hat{x}_{t-1}^+ + \\tilde{x}^{(i)}, &i=1,\\ldots,2n,\\\\\n",
    "\\tilde{x}^{(i)} &= \\left( \\sqrt{nP_{t-1}^+} \\right)_{i}^\\intercal &i=1,\\ldots,n,\\\\\n",
    "\\tilde{x}^{(n+i)} &= -\\left( \\sqrt{nP_{t-1}^+} \\right)_{i}^\\intercal &i=1,\\ldots,n.\n",
    "\\end{align}\n",
    "$$\n",
    "\n",
    "    - Predikce stavů (časový update)\n",
    "$$\n",
    "\\begin{align}\n",
    "\\hat{x}_t^{(i)} &= f_t\\left(\\hat{x}_{t-1}^{(i)}, u_t\\right),\\\\\n",
    "\\hat{x}_t^- &= \\frac{1}{2n} \\sum_{i=1}^{2n} \\hat{x}_t^{(i)},\\\\\n",
    "P_t^- &= \\frac{1}{2n} \\sum_{i=1}^{2n} \n",
    "\\left(\\hat{x}_t^{(i)} - \\hat{x}_t^-\\right)\n",
    "\\left(\\hat{x}_t^{(i)} - \\hat{x}_t^-\\right)^\\intercal\n",
    "+ Q_t\n",
    "\\end{align}\n",
    "$$\n",
    "\n",
    "    - Volitelná reinicializace sigma-bodů pro korekci\n",
    "$$\n",
    "\\begin{align}\n",
    "\\hat{x}_{t}^{(i)} &= \\hat{x}_{t}^- + \\tilde{x}^{(i)}, &i=1,\\ldots,2n,\\\\\n",
    "\\tilde{x}^{(i)} &= \\left( \\sqrt{nP_{t}^-} \\right)_{i}^\\intercal &i=1,\\ldots,n,\\\\\n",
    "\\tilde{x}^{(n+i)} &= -\\left( \\sqrt{nP_{t}^-} \\right)_{i}^\\intercal &i=1,\\ldots,n.\n",
    "\\end{align}\n",
    "$$\n",
    "\n",
    "    - Korekce (datový update) stavů pozorováním\n",
    "$$\n",
    "\\begin{aligned}\n",
    "\\hat{y}_t^{(i)} &= h_t\\left(\\hat{x}_t^{(i)}\\right) \\\\\n",
    "\\hat{y}_t &= \\frac{1}{2n} \\sum_{i=1}^{2n} \\hat{y}_t^{(i)}\\\\\n",
    "P_y &= \\frac{1}{2n}\\sum_{i=1}^{2n} \n",
    "\\left( \\hat{y}_t^{(i)} - \\hat{y}_t \\right)\n",
    "\\left( \\hat{y}_t^{(i)} - \\hat{y}_t \\right)^\\intercal + R_t \\\\\n",
    "P_{xy} &= \\frac{1}{2n}\\sum_{i=1}^{2n} \n",
    "\\left( \\hat{x}_t^{(i)} - \\hat{x}_t^- \\right)\n",
    "\\left( \\hat{y}_t^{(i)} - \\hat{y}_t \\right)^\\intercal \\\\\n",
    "\\ & \\\\\n",
    "K_t &= P_{xy}P_y^{-1} \\\\\n",
    "\\hat{x}_t^+ &= \\hat{x}_{t}^{-} + K_t\\left[y_t - \\hat{y}_t\\right]\\\\\n",
    "P_t^{+} &= P_t^- - K_t P_y K_t^\\intercal.\n",
    "\\end{aligned}\n",
    "$$\n",
    "\n",
    "Pozn.: Vztahy pro $K_t$ a $P_t^+$ vycházejí z ekvivalentní formulace standardního lineárního Kalmanova filtru. Jeho rovnice je totiž možné zapsat několika způsoby."
   ]
  },
  {
   "cell_type": "markdown",
   "metadata": {},
   "source": [
    "#### Neaditivní šum\n",
    "\n",
    "Je-li šum stejně jako v našem prvním EKF neaditivní a stavový model má tvar\n",
    "\n",
    "$$\n",
    "\\begin{align}\n",
    "x_t &= f_t(x_{t-1}, u_t, w_t), \\\\\n",
    "y_t &= h_t(x_t, \\varepsilon_t),\n",
    "\\end{align}\n",
    "$$\n",
    "\n",
    "je UKF filtr možné rovněž použít. Použijeme rozšířený ('augmented') stavový vektor v podobě\n",
    "\n",
    "$$\n",
    "x_{a,t} =\n",
    "\\begin{bmatrix}\n",
    "x_t \\\\ w_t \\\\ \\varepsilon_t\n",
    "\\end{bmatrix}\n",
    "$$\n",
    "\n",
    "a filtr inicializujeme s parametry\n",
    "\n",
    "$$\n",
    "\\hat{x}_{a,0}^+ =\n",
    "\\begin{bmatrix}\n",
    "\\hat{x}_0^+ \\\\ 0 \\\\ 0\n",
    "\\end{bmatrix},\n",
    "\\qquad\n",
    "P_{a,0}^+ =\n",
    "\\begin{bmatrix}\n",
    "P_0^+ & 0 & 0 \\\\\n",
    "0 & Q_0 & 0 \\\\\n",
    "0 & 0 & R_0\n",
    "\\end{bmatrix}.\n",
    "$$\n",
    "\n",
    "V rovnicích výše potom nebudou $Q_t$ a $R_t$ na pravých stranách."
   ]
  },
  {
   "cell_type": "markdown",
   "metadata": {},
   "source": [
    "## Obecná UT\n",
    "\n",
    "Jiná varianta, jak vybírat sigma-body, spočívá v obecné unscented transformaci. Ta vybírá $2n+1$ bodů následovně:\n",
    "\n",
    "$$\n",
    "\\begin{alignat}{2}\n",
    "x^{(0)} &= \\bar{x} && \\\\\n",
    "x^{(i)} &= \\bar{x} + \\tilde{x}^{(i)} \\qquad &&i=1,\\ldots,2n, \\\\\n",
    "\\tilde{x}^{(i)} &= \\left( \\sqrt{(n+\\lambda)P} \\right)_{i}^\\intercal \\qquad &&i=1,\\ldots,n,\\\\\n",
    "\\tilde{x}^{(n+i)} &= -\\left( \\sqrt{(n+\\lambda)P} \\right)_{i}^\\intercal\\qquad &&i=1,\\ldots,n.\n",
    "\\end{alignat}\n",
    "$$\n",
    "\n",
    "Váhy jsou potom\n",
    "\n",
    "$$\n",
    "\\begin{align}\n",
    "W^{(0)} &= \\frac{\\lambda}{n+\\lambda} \\\\\n",
    "W^{(1)} &= \\frac{1}{2(n+\\lambda)} \\\\\n",
    "\\end{align}\n",
    "$$\n",
    "\n",
    "Označme stejně jako výše\n",
    "\n",
    "$$\n",
    "y^{(i)} = h\\left(x^{(i)}\\right), \\qquad i=1,\\ldots,2n.\n",
    "$$\n",
    "\n",
    "Výsledná aproximovaná střední hodnota a kovariance jsou\n",
    "\n",
    "$$\n",
    "\\begin{align}\n",
    "\\bar{y}_u &= \\sum_{i=0}^{2n} W^{(i)} y^{(i)} \\\\\n",
    "P_u &= \\sum_{i=0}^{2n} W^{(i)} \n",
    "\\left(y^{(i)} - \\bar{y}_u \\right)\n",
    "\\left(y^{(i)} - \\bar{y}_u \\right)^\\intercal.\n",
    "\\end{align}\n",
    "$$\n",
    "\n",
    "Pokud $\\lambda=0$, dostaneme vztahy z výše první uvedené transformace (indexované ovšem od nuly). Nenulové hodnoty umožňují potenciálně snižovat chyby vyšších řádů v Taylorově rozvoji. Například $\\lambda=3-n$ bude při normalitě $x$ minimalizovat chyby ve čtvrtém řádu."
   ]
  },
  {
   "cell_type": "markdown",
   "metadata": {},
   "source": [
    "Zkusme ještě jednou příklad s transformací jako výše."
   ]
  },
  {
   "cell_type": "code",
   "execution_count": 33,
   "metadata": {},
   "outputs": [
    {
     "data": {
      "image/png": "[encoded data removed]",
      "text/plain": [
       "<Figure size 1008x216 with 2 Axes>"
      ]
     },
     "metadata": {
      "needs_background": "light"
     },
     "output_type": "display_data"
    }
   ],
   "source": [
    "\"\"\"\n",
    "def fx(x):\n",
    "    return np.sqrt(x)\n",
    "\n",
    "xbar = 9\n",
    "P = 4\n",
    "n = 1\n",
    "\"\"\"\n",
    "lambd = 0.\n",
    "xtilde = np.array([0, np.sqrt((n+lambd)*P), -np.sqrt((n+lambd)*P)])\n",
    "W = np.array([lambd/(n+lambd), 1/(2*(n+lambd)), 1/(2*(n+lambd))])\n",
    "xi = xbar + xtilde\n",
    "yi = fx(xi)\n",
    "y = np.sum(W * yi)\n",
    "Py = np.sum(W * (y-yi)**2)\n",
    "\n",
    "plt.figure(figsize=(14,3))\n",
    "xx = np.linspace(xbar-4*np.sqrt(P), xbar+4*np.sqrt(P), 1000)\n",
    "plt.subplot(121)\n",
    "plt.title(f'N({xbar}, {P})')\n",
    "plt.plot(xx, norm.pdf(xx, loc=xbar, scale=np.sqrt(P)))\n",
    "plt.stem(xi, np.ones_like(xi)/xi.size, basefmt='C0:', use_line_collection=True)\n",
    "plt.subplot(122)\n",
    "plt.title(f'N({y:.3f}, {Py:.3f})')\n",
    "xx = np.linspace(y-4*np.sqrt(P), y+4*np.sqrt(P), 1000)\n",
    "plt.stem(yi, np.ones_like(xi)/xi.size, basefmt='C0:', use_line_collection=True)\n",
    "plt.plot(xx, norm.pdf(xx, loc=y, scale=np.sqrt(Py)))\n",
    "plt.show()"
   ]
  },
  {
   "cell_type": "markdown",
   "metadata": {},
   "source": [
    "## Van der Merweho varianta\n",
    "\n",
    "Van der Merwe navrhl v současné době pravděpodobně nejpoužívanější variantu vah. Ta má odlišná počáteční nastavení vah pro stavy (S) a kovarianci (C). Váhy jsou laděny s pomocí parametrů $\\alpha, \\beta$ a $\\kappa$ s hodnotami typicky 0.001, 2 a 0. Tyto parametry určují rozptýlení sigma-bodů. Někdy může být výhodné je nechat více rozptýlit, aby byly zachyceny případné silnější nelinearity.\n",
    "\n",
    "$$\n",
    "\\begin{align}\n",
    "W_S^{(0)} &= \\frac{\\lambda}{n+\\lambda}, \\\\\n",
    "W_C^{(0)} &= \\frac{\\lambda}{n+\\lambda} + (1-\\alpha^2+\\beta), \\\\\n",
    "W_S^{(i)}=W_C^{(i)} &= \\frac{1}{2(n+\\lambda)}, \\\\\n",
    "\\end{align}\n",
    "$$\n",
    "\n",
    "kde\n",
    "\n",
    "$$\n",
    "\\lambda = \\alpha^2(n+\\kappa) - n.\n",
    "$$"
   ]
  },
  {
   "cell_type": "markdown",
   "metadata": {},
   "source": [
    "Existuje celá řada publikací zabývajících se nastavením UKF, některé cílící na výpočetní nenáročnost, jiné na minimalizaci chyb aproximace atd."
   ]
  }
 ],
 "metadata": {
  "kernelspec": {
   "display_name": "Python 3",
   "language": "python",
   "name": "python3"
  },
  "language_info": {
   "codemirror_mode": {
    "name": "ipython",
    "version": 3
   },
   "file_extension": ".py",
   "mimetype": "text/x-python",
   "name": "python",
   "nbconvert_exporter": "python",
   "pygments_lexer": "ipython3",
   "version": "3.8.3"
  }
 },
 "nbformat": 4,
 "nbformat_minor": 4
}
