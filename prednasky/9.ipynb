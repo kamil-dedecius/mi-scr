{
 "cells": [
  {
   "cell_type": "code",
   "execution_count": 1,
   "metadata": {},
   "outputs": [],
   "source": [
    "import numpy as np\n",
    "from scipy.stats import multivariate_normal as mvn\n",
    "from scipy.stats import norm\n",
    "import matplotlib.pylab as plt\n",
    "np.set_printoptions(precision=2)"
   ]
  },
  {
   "cell_type": "markdown",
   "metadata": {},
   "source": [
    "# Téma: Kalmanův filtr, nelineární filtry"
   ]
  },
  {
   "cell_type": "markdown",
   "metadata": {},
   "source": [
    "> *It appears that no particular approximate [nonlinear] filter is consistently better than any other, though ... any nonlinear filter is better than a strictly linear one.*\n",
    ">\n",
    "> L. Schwartz and E. Stear: \"A computational comparison of several nonlinear filters,\" IEEE Trans. Autom. Control, 1968."
   ]
  },
  {
   "cell_type": "markdown",
   "metadata": {},
   "source": [
    "**V reálném světě prakticky není lineárních systémů**\n",
    "\n",
    "- linearita je zpravidla nanejvýš slušná lokální aproximace,\n",
    "- ...a to ještě za příznivých podmínek.\n",
    "    - např. klasické vztahy mezi rychlostí, časem a drahou přestanou platit při vysokých rychlostech (relativistické jevy).\n",
    "    - např. volt-amperové charakteristiky rezistorů ($I=U/R$) jsou lineární při rozumně nízkých napětích.\n",
    "- **někdy ani lokální linearita neplatí a musíme sáhnout po nelineárních modelech.**"
   ]
  },
  {
   "cell_type": "markdown",
   "metadata": {},
   "source": [
    "## Přehled lineárního Kalmanova filtru\n",
    "\n",
    "**Stavový model a proměnné:**\n",
    "\n",
    "$$\n",
    "\\begin{align}\n",
    "x_t &= A_t x_{t-1} + B_t u_t + w_t, &w_t \\sim (0, Q_t),\\\\\n",
    "y_t &= H_t x_t + \\varepsilon_t, &\\varepsilon_t \\sim (0, R_t).\n",
    "\\end{align}\n",
    "$$\n",
    "\n",
    "- $x_t$ neznámý stav\n",
    "- $y_t$ pozorovaná veličina (měření)\n",
    "- $w_t\\sim (0,Q_t)$ nepozorovaný centrovaný iid šum stavu (procesu) s kovariancí $Q_t$\n",
    "- $\\varepsilon_t \\sim (0,R_t)$ nepozorovaný centrovaný iid šum modelu (pozorování, měření) s kovariancí $R_t$\n",
    "- $u_t$ externí veličina (regresor, vstup, řídící veličina)\n",
    "- $A_t, B_t, H_t$ - matice odpovídajících rozměrů\n",
    "\n",
    "---\n",
    "\n",
    "**Inicializace:** Nastavíme $x_0$ (iniciální odhad stavu) a $P_0^+$ (iniciální kovariance odhadů).\n",
    "\n",
    "**Pro $t=1,2,\\ldots$:**\n",
    "\n",
    "    - Predikce stavů (časový update)\n",
    "$$\n",
    "\\begin{align}\n",
    "\\hat{x}_t^{-} &= A_t \\hat{x}_{t-1}^{+} + B_t u_t,\\\\\n",
    "P_t^{-} &= A_t P_{t-1}^{+} A_t^\\intercal + Q_t.\n",
    "\\end{align}\n",
    "$$\n",
    "\n",
    "    - Korekce (datový update) stavů pozorováním $y_t$\n",
    "$$\n",
    "\\begin{aligned}\n",
    "K_t &= P_{t}^- H_t^\\intercal (H_t P_{t}^{-} H_t^\\intercal + R_t)^{-1},\\\\\n",
    "\\hat{x}_t^+ &= \\hat{x}_{t}^{-} + K_t(y_t - H_t \\hat{x}_{t}^{-}), \\\\\n",
    "P_t^{+} &= (I - K_t H_t) P_{t}^{-} (I - K_t H_t)^\\intercal + K_t R_t K_t^\\intercal.\n",
    "\\end{aligned}\n",
    "$$"
   ]
  },
  {
   "cell_type": "markdown",
   "metadata": {},
   "source": [
    "## Příklad\n",
    "\n",
    "Podíváme se na následující příklad: máme online zašuměná měření polohy objektu na 2D ploše, v osách $(x_1, x_2)$, tj. $x_{1,t}$ a $x_{2,t}$. Tato měření jsou získávána každou jednu sekundu. Cílem je odhadovat polohu filtrovanou od šumu a rychlosti v obou osách. Máme tedy\n",
    "\n",
    "\n",
    "$$\n",
    "x_t =\n",
    "\\begin{bmatrix}\n",
    "x_{1,t} \\\\ \n",
    "x_{2,t} \\\\ \n",
    "v_{x_1,t} \\\\ \n",
    "v_{x_2,t}\n",
    "\\end{bmatrix}\n",
    "$$\n",
    "\n",
    "Víme, že pro polohu v první ose platí\n",
    "\n",
    "$$\n",
    "x_{1,t} = x_{1,t-1} + v_{x_1,t} dt + w_{x_1,t},\n",
    "$$\n",
    "\n",
    "a že analogicky platí totéž i pro polohu v ose druhé. Abychom se nemuseli zaobírat zrychlením, budeme uvažovat, že rychlost je stejná a její změny jsou způsobeny jen šumem,\n",
    "\n",
    "$$\n",
    "v_{x_1,t} = v_{x_1, t-1} + w_{vx_1, t}.\n",
    "$$\n",
    "\n",
    "Pokud sestavíme odpovídající stavový model\n",
    "\n",
    "$$\n",
    "\\begin{align}\n",
    "x_t &= A_t x_{t-1} + B_t u_t + w_t, &w_t \\sim (0, Q_t),\\\\\n",
    "y_t &= H_t x_t + \\varepsilon_t, &\\varepsilon_t \\sim (0, R_t)\n",
    "\\end{align}\n",
    "$$\n",
    "\n",
    "a filtrujeme stavy, dobereme se k výsledku:\n",
    "\n",
    "![KF](img/kf-tracking.gif)\n",
    "\n",
    "![KF](img/kf-tracking.png)\n",
    "![KF](img/kf-rychlost.png)\n",
    "\n",
    "Teď by byla na řadě analýza reziduí atd. Co ale vidíme z obrázků?\n",
    "\n",
    "- filtrovaná poloha prochází mezi body. Odchylky od skutečné trajektorie v pokročilejších časových okamžicích jsou kvůli interpolaci šumu s realizacemi na jedné straně trajektorie.\n",
    "- filtr se na začátku učil (a měl tam v tomto konkrétním případě celkem těžkou situaci).\n",
    "- odhady rychlostí jsou odchýlené od skutečných rychlostí. To kvůli jednoduchému modelu, kdybychom zahrnuli do modelu zrychlení, bylo by modelování hned lepší."
   ]
  },
  {
   "cell_type": "markdown",
   "metadata": {},
   "source": [
    "# Trocha matematiky před nelinaritou...\n",
    "\n",
    "Předpokládejme, že máme funkci $f(x)$, kterou lze v okolí bodu $a$ rozvinout konvergentní mocninnou řadou:\n",
    "\n",
    "$$\n",
    "f(x) = \\sum_{n=0}^\\infty z_n (x-a)^n.\n",
    "$$\n",
    "\n",
    "Takové funkci se říká **analytická**. Pokud bychom uvedený vztah $n$-krát derivovali a položili $x=a$, dostaneme vyjádření pro $z_n$,\n",
    "\n",
    "$$\n",
    "z_n = \\frac{f^{(n)}(a)}{n!}.\n",
    "$$\n",
    "\n",
    "Takové řadě se říká [**Taylorova řada**](https://en.wikipedia.org/wiki/Taylor_series). Umožňuje nám pro $n\\to\\infty$ psát\n",
    "\n",
    "$$\n",
    "\\begin{align}\n",
    "f(x) &= f(a) + f'(a)(x-a) + \\frac{f''(a)}{2!}(x-a)^2 + \\ldots \\\\\n",
    "&= \\sum_{n=0}^\\infty \\frac{f^{(n)}(a)}{n!} (x-a)^n.\n",
    "\\end{align}\n",
    "$$\n",
    "\n",
    "Pokud má funkce $f$ v bodě $a$ konečné derivace do konečného řádu $n$, potom mluvíme o **Taylorově polynomu řádu $n$** ve tvaru\n",
    "\n",
    "$$\n",
    "\\begin{align}\n",
    "T_n(f, a) &= f(a) + f'(a)(x-a) + \\frac{f''(a)}{2!}(x-a)^2 + \\ldots + \\frac{f^{(n)}(a)}{n!} (x-a)^n \\\\\n",
    "&= \\sum_{n=0}^n \\frac{f^{(n)}(a)}{n!} (x-a)^n.\n",
    "\\end{align}\n",
    "$$\n",
    "\n",
    "> [**Taylorova věta**](https://en.wikipedia.org/wiki/Taylor%27s_theorem)\n",
    ">\n",
    "> Nechť funkce $f:\\mathbb{R}\\to\\mathbb{R}$ má konečné derivace v bodě $a\\in\\mathbb{R}$ až do řádu $n+1$. Potom existuje Taylorův polynom řádu $n$ a zbytek $R_{n+1}^{(f,a)}(x)$ ve tvaru\n",
    ">\n",
    ">$$\n",
    "f(x) = f(a) + f'(a)(x-a) + \\frac{f''(a)}{2!}(x-a)^2 + \\ldots + \\frac{f^{(n)}(a)}{n!} (x-a)^n + R_{n+1}^{(f,a)}(x).\n",
    "$$\n",
    "\n",
    "Taylorův polynom konverguje v $x$ k hodnotě $f(x)$, právě když $\\lim_{n\\to\\infty} R_{n+1}^{(f,a)}(x)=0$."
   ]
  },
  {
   "cell_type": "markdown",
   "metadata": {},
   "source": [
    "### Příklad\n",
    "Zkusíme několik prvních aproximací funkce $f(x) = e^x$ v okolí bodu $a=0$.\n",
    "\n",
    "$$f(x) = e^x = 1 + x + \\frac{x^2}{2!} + \\frac{x^3}{3!} + \\ldots$$"
   ]
  },
  {
   "cell_type": "code",
   "execution_count": 11,
   "metadata": {},
   "outputs": [
    {
     "data": {
      "image/png": "[encoded data removed]",
      "text/plain": [
       "<Figure size 1080x432 with 1 Axes>"
      ]
     },
     "metadata": {
      "needs_background": "light"
     },
     "output_type": "display_data"
    }
   ],
   "source": [
    "x = np.linspace(-2,4,1000)\n",
    "plt.figure(figsize=(15,6))\n",
    "plt.plot(x, np.exp(x), 'r', lw=2, label=r'$e^x$')\n",
    "plt.plot(x, 1+x, label=r'$1+x$')\n",
    "plt.plot(x, 1+x+x**2/2, label=r'$1+x+\\frac{x^2}{2!}$')\n",
    "plt.plot(x, 1+x+x**2/2+x**3/6, label=r'$1+x+\\frac{x^2}{2!}+\\frac{x^3}{3!}$')\n",
    "plt.xlabel(r'$x$')\n",
    "plt.ylabel(r'$f(x)$')\n",
    "plt.legend()\n",
    "plt.show()"
   ]
  },
  {
   "cell_type": "markdown",
   "metadata": {},
   "source": [
    "Je dobře patrné, že čím vyšší řád Taylorova polynomu, tím lepší aproximace, zejména v oblastech dále od nuly."
   ]
  },
  {
   "cell_type": "markdown",
   "metadata": {},
   "source": [
    "# Rozšířený Kalmanův filtr"
   ]
  },
  {
   "cell_type": "markdown",
   "metadata": {},
   "source": [
    "Předpokládejme nyní stavový model **s aditivním šumem** ve tvaru\n",
    "\n",
    "$$\n",
    "\\begin{align}\n",
    "x_t &= f_t(x_{t-1}, u_t) + w_t, \\\\\n",
    "y_t &= h_t(x_t) + \\varepsilon_t,\n",
    "\\end{align}\n",
    "$$\n",
    "\n",
    "kde $f_t$ a $h_t$ jsou nelineární funkce a ostatní veličiny mají stejné vlastnosti jako v lineárním stavovém modelu. Pokud příslušné funkce mají derivace aspoň prvního řádu, je možné zkusit použít rozšířený [Kalmanův filtr (Extended Kalman Filter, EKF)](https://en.wikipedia.org/wiki/Extended_Kalman_filter). Ten využívá lokální linearizaci pomocí derivace (resp. Taylorova rozvoje)."
   ]
  },
  {
   "cell_type": "markdown",
   "metadata": {},
   "source": [
    "## Linearizace v modelu s aditivním šumem\n",
    "\n",
    "Určíme Taylorův rozvoj stavové rovnice okolo bodu $x_{t-1} = \\hat{x}_{t-1}^{+}$:\n",
    "\n",
    "$$\n",
    "\\begin{aligned}\n",
    "x_t \n",
    "&= \n",
    "f_t\\left(\\hat{x}_{t-1}^{+}, u_t\\right) +\n",
    "f_{t}'(\\hat{x}_{t-1}^{+})\n",
    "\\left( x_{t-1} - \\hat{x}_{t-1}^+\\right) +\n",
    "w_t \\\\\n",
    "&=\n",
    "f_t\\left(\\hat{x}_{t-1}^{+}, u_t\\right) +\n",
    "F_{t}\\left(x_{t-1} - \\hat{x}_{t-1}^+\\right) +\n",
    "w_t \\\\\n",
    "&=\n",
    "F_t x_{t-1} + \\left[ f_t\\left(\\hat{x}_{t-1}^{+}, u_t\\right) - F_t \\hat{x}_{t-1}^+ \\right] + w_t \\\\\n",
    "&=\n",
    "F_t x_{t-1} + \\tilde{u}_t + w_t.\n",
    "\\end{aligned}\n",
    "$$\n",
    "\n",
    "Proměnná $F_t=f_t'(\\hat{x}_{t-1}^{+})$ je určena výše a\n",
    "\n",
    "$$\n",
    "\\begin{aligned}\n",
    "\\tilde{u}_t &= f_t\\left(\\hat{x}_t^+, u_t\\right) - F_t \\hat{x}_{t-1}^+.\n",
    "\\end{aligned}\n",
    "$$"
   ]
  },
  {
   "cell_type": "markdown",
   "metadata": {},
   "source": [
    "Podobně najdeme Taylorův rozvoj druhé stavové rovnice pro $x_t = \\hat{x}_t^-$:\n",
    "\n",
    "$$\n",
    "\\begin{align}\n",
    "y_t \n",
    "&=\n",
    "h_t \\left(\\hat{x}_t^-\\right) + h_t'(\\hat{x}_t^-) \\left( x_t - \\hat{x}_t^- \\right) + \\varepsilon_t \\\\\n",
    "&=\n",
    "h_t \\left(\\hat{x}_t^-\\right) + H_t\\left(x_t - \\hat{x}_t^- \\right) + \\varepsilon_t \\\\\n",
    "&=\n",
    "H_t x_t + \\left[ h_t \\left(\\hat{x}_t^-\\right) - H_t \\hat{x}_t^- \\right] + \\varepsilon_t \\\\\n",
    "&=\n",
    "H_t x_t + z_t + \\varepsilon_t,\n",
    "\\end{align}\n",
    "$$\n",
    "\n",
    "kde\n",
    "\n",
    "$$\n",
    "\\begin{align}\n",
    "H_t &= h_t'(\\hat{x}_t^-), \\\\\n",
    "z_t &= h_t \\left(\\hat{x}_t^-\\right) - H_t \\hat{x}_t^-.\n",
    "\\end{align}\n",
    "$$"
   ]
  },
  {
   "cell_type": "markdown",
   "metadata": {},
   "source": [
    "Máme tedy **linearizovaný stavový model** ve tvaru:\n",
    "\n",
    "$$\n",
    "\\begin{aligned}\n",
    "x_t &= F_t x_{t-1} + \\tilde{u}_t + {w}_t,\\\\\n",
    "y_t &= H_t x_t + z_t + \\varepsilon_t,\n",
    "\\end{aligned}\n",
    "$$\n",
    "\n",
    "kde všechny příslušné proměnné najdeme výše a který můžeme odhadovat pomocí standardního **lineárního** Kalmanova filtru."
   ]
  },
  {
   "cell_type": "markdown",
   "metadata": {},
   "source": [
    "## Algoritmus EKF (aditivní šum)\n",
    "\n",
    "**Inicializace:** Nastavíme $x_0$ (iniciální odhad stavu) a $P_0^+$ (iniciální kovariance odhadů).\n",
    "\n",
    "**Pro $t=1,2,\\ldots$:**\n",
    "\n",
    "    - Linearizace pro predikci\n",
    "$$\n",
    "\\begin{align}\n",
    "F_t &= f_t'(\\hat{x}_{t-1}^+).\n",
    "\\end{align}\n",
    "$$\n",
    "\n",
    "    - Predikce stavů (časový update)\n",
    "$$\n",
    "\\begin{align}\n",
    "\\hat{x}_t^{-} &= f_t(\\hat{x}_{t-1}^+, u_t),\\\\\n",
    "P_t^{-} &= F_t P_{t-1}^{+} F_t^\\intercal + Q_t.\n",
    "\\end{align}\n",
    "$$\n",
    "\n",
    "    - Linearizace pro korekci\n",
    "$$\n",
    "\\begin{align}\n",
    "H_t &= h_t'(\\hat{x}_{t}^-).\n",
    "\\end{align}\n",
    "$$\n",
    "\n",
    "    - Korekce (datový update) stavů pozorováním\n",
    "$$\n",
    "\\begin{aligned}\n",
    "K_t &= P_{t}^- H_t^\\intercal (H_t P_{t}^{-} H_t^\\intercal + R_t)^{-1},\\\\\n",
    "\\hat{x}_t^+ &= \\hat{x}_{t}^{-} + K_t\\left[y_t - h_t\\left(\\hat{x}_{t}^{-}\\right)\\right], \\\\\n",
    "P_t^{+} &= (I - K_t H_t) P_{t}^{-} (I - K_t H_t)^\\intercal + K_t R_t K_t^\\intercal.\n",
    "\\end{aligned}\n",
    "$$"
   ]
  },
  {
   "cell_type": "markdown",
   "metadata": {},
   "source": [
    "Za povšimnutí určitě stojí, že bodové odhady stavové veličiny a predikce pozorování získáváme namísto z linearizovaných výrazů rovnou z funkcí stavového modelu. Linearizace nám pomůže zejména pro vývoj kovariancí odhadů stavů."
   ]
  },
  {
   "cell_type": "markdown",
   "metadata": {},
   "source": [
    "## Vlastnosti EKF\n",
    "\n",
    "- odhad EKF obecně není optimální. Optimalita je zajištěna pouze tehdy, pokud jsou stavové funkce lineární - pak se vše ale zredukuje na lineární stavový model a lineární KF.\n",
    "- EKF může divergovat, zvl. pokud jsou iniciální stavy nastaveny hodně špatně.\n",
    "- kovarianční matice odhadů je obvykle podhodnocena, čímž může být filtr inkonzistentní.\n",
    "- pokud není model dostatečně dobře znám nebo je nepřesný, je lepší stejně použít Monte Carlo metody.\n",
    "- obecně má ale EKF natolik dobré vlastnosti, že je standardem v celé řadě problémů, včetně navigace a GPS.\n",
    "- v případě potřeby navíc existují vylepšené verze, např. s Taylorovým polynomem druhého řádu. Bohužel s tím ale roste náročnost."
   ]
  },
  {
   "cell_type": "markdown",
   "metadata": {},
   "source": [
    "# Doporučená literatura\n",
    "\n",
    "**Dan Simon: Optimal State Estimation - Kalman, H$_\\infty$ and Nonlinear Approaches**\n",
    "\n",
    "![Simon](img/simon.jpg)"
   ]
  },
  {
   "cell_type": "markdown",
   "metadata": {},
   "source": [
    "---\n",
    "---\n",
    "\n",
    "## Linearizace při obecném šumu (pro zvídavé)\n",
    "\n",
    "Není-li šum aditivní, tj. model je obecně\n",
    "\n",
    "$$\n",
    "\\begin{align}\n",
    "x_t &= f_t(x_{t-1}, u_t, w_t), \\\\\n",
    "y_t &= h_t(x_t, \\varepsilon_t),\n",
    "\\end{align}\n",
    "$$\n",
    "\n",
    "postupujeme podobně jako výše, jen musíme trochu více linearizovat. Určíme Taylorův rozvoj stavové rovnice okolo bodu $x_{t-1} = \\hat{x}_{t-1}^{+}$ a $w_t=0$:\n",
    "\n",
    "$$\n",
    "\\begin{aligned}\n",
    "x_t \n",
    "&= \n",
    "f_t\\left(\\hat{x}_{t-1}^{+}, u_t, 0\\right) +\n",
    "\\frac{\\partial f_{t}}{\\partial x} \\bigg|_{\\hat{x}_{t-1}^{+}}\n",
    "\\left( x_{t-1} - \\hat{x}_{t-1}^+\\right) +\n",
    "\\frac{\\partial f_{t}}{\\partial w} \\bigg|_{\\hat{x}_{t-1}^{+}} w_t \\\\\n",
    "&=\n",
    "f_t\\left(\\hat{x}_{t-1}^{+}, u_t, 0\\right) +\n",
    "F_{t}\\left(x_{t-1} - \\hat{x}_{t-1}^+\\right) +\n",
    "L_t w_t \\\\\n",
    "&=\n",
    "F_t x_{t-1} + \\left[ f_t\\left(\\hat{x}_{t-1}^{+}, u_t, 0\\right) - F_t \\hat{x}_{t-1}^+ \\right] + L_t w_t \\\\\n",
    "&=\n",
    "F_t x_{t-1} + \\tilde{u}_t + \\tilde{w}_t.\n",
    "\\end{aligned}\n",
    "$$\n",
    "\n",
    "Veličiny $F_t$ a $L_t$ jsou určeny v rovnicích výše a\n",
    "\n",
    "$$\n",
    "\\begin{aligned}\n",
    "\\tilde{u}_t &= f_t\\left(\\hat{x}_t^+, u_t, 0\\right) - F_t \\hat{x}_t^+, \\\\\n",
    "\\tilde{w}_t &\\sim (0, L_t Q_t L_t^\\intercal).\n",
    "\\end{aligned}\n",
    "$$"
   ]
  },
  {
   "cell_type": "markdown",
   "metadata": {},
   "source": [
    "Máme tedy **linearizovaný stavový model** ve tvaru:\n",
    "\n",
    "$$\n",
    "\\begin{aligned}\n",
    "x_t &= F_t x_{t-1} + \\tilde{u}_t + \\tilde{w}_t,\\\\\n",
    "y_t &= H_t x_t + z_t + \\tilde{\\varepsilon}_t,\n",
    "\\end{aligned}\n",
    "$$\n",
    "\n",
    "kde všechny příslušné proměnné najdeme výše a který můžeme odhadovat pomocí standardního **lineárního** Kalmanova filtru."
   ]
  },
  {
   "cell_type": "markdown",
   "metadata": {},
   "source": [
    "## Algoritmus EKF\n",
    "\n",
    "**Inicializace:** Nastavíme $x_0$ (iniciální odhad stavu) a $P_0^+$ (iniciální kovariance odhadů).\n",
    "\n",
    "**Pro $t=1,2,\\ldots$:**\n",
    "\n",
    "    - Linearizace pro predikci\n",
    "$$\n",
    "\\begin{align}\n",
    "F_t &= \\frac{\\partial f_t}{\\partial x}\\bigg|_{\\hat{x}_{t-1}^+},\\\\\n",
    "L_t &= \\frac{\\partial f_t}{\\partial w}\\bigg|_{\\hat{x}_{t-1}^+}\n",
    "\\end{align}\n",
    "$$\n",
    "\n",
    "    - Predikce stavů (časový update)\n",
    "$$\n",
    "\\begin{align}\n",
    "\\hat{x}_t^{-} &= f_t(\\hat{x}_{t-1}^+, u_t, 0),\\\\\n",
    "P_t^{-} &= F_t P_{t-1}^{+} F_t^\\intercal + L_t Q_t L_t^\\intercal.\n",
    "\\end{align}\n",
    "$$\n",
    "\n",
    "    - Linearizace pro korekci\n",
    "$$\n",
    "\\begin{align}\n",
    "H_t &= \\frac{\\partial h_t}{\\partial x}\\bigg|_{\\hat{x}_{t}^-},\\\\\n",
    "M_t &= \\frac{\\partial h_t}{\\partial \\varepsilon}\\bigg|_{\\hat{x}_{t}^-}\n",
    "\\end{align}\n",
    "$$\n",
    "\n",
    "    - Korekce (datový update) stavů pozorováním\n",
    "$$\n",
    "\\begin{aligned}\n",
    "K_t &= P_{t}^- H_t^\\intercal (H_t P_{t}^{-} H_t^\\intercal + M_t R_t M_t^\\intercal)^{-1},\\\\\n",
    "\\hat{x}_t^+ &= \\hat{x}_{t}^{-} + K_t\\left[y_t - h_t\\left(\\hat{x}_{t}^{-},0\\right)\\right], \\\\\n",
    "P_t^{+} &= (I - K_t H_t) P_{t}^{-} (I - K_t H_t)^\\intercal + K_t R_t K_t^\\intercal.\n",
    "\\end{aligned}\n",
    "$$"
   ]
  }
 ],
 "metadata": {
  "kernelspec": {
   "display_name": "Python 3",
   "language": "python",
   "name": "python3"
  },
  "language_info": {
   "codemirror_mode": {
    "name": "ipython",
    "version": 3
   },
   "file_extension": ".py",
   "mimetype": "text/x-python",
   "name": "python",
   "nbconvert_exporter": "python",
   "pygments_lexer": "ipython3",
   "version": "3.9.1"
  }
 },
 "nbformat": 4,
 "nbformat_minor": 4
}
