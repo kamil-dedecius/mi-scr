{
 "cells": [
  {
   "cell_type": "code",
   "execution_count": 55,
   "metadata": {},
   "outputs": [],
   "source": [
    "import numpy as np\n",
    "from scipy.stats.distributions import norm\n",
    "import matplotlib.pylab as plt\n",
    "import pandas as pd\n",
    "import warnings; warnings.simplefilter('ignore')\n",
    "import statsmodels.api as sm\n",
    "import sys\n",
    "sys.path.append('../zdrojaky')\n",
    "from tsplot import tsplot"
   ]
  },
  {
   "cell_type": "markdown",
   "metadata": {},
   "source": [
    "# Téma 5: Stacionarita, sezónní modely a velké opáčko"
   ]
  },
  {
   "cell_type": "markdown",
   "metadata": {},
   "source": [
    "Stacionarita, unit-root process, ADF testy, detrendování diferencemi"
   ]
  },
  {
   "cell_type": "markdown",
   "metadata": {},
   "source": [
    "# Modely SARIMA(p,d,q)(P,D,Q)s"
   ]
  },
  {
   "cell_type": "markdown",
   "metadata": {},
   "source": [
    "Pokud časová řada vykazuje sezónnost, tj. cyklické opakování určitého vývoje, ARIMA modely stále nebudou stačit. Konkrétně říkáme, že časová řada bez trendu vykazuje sezónnost s periodou $s$, pokud\n",
    "\n",
    "$$\n",
    "\\mathbb{E}[X_t]=\\mathbb{E}[X_{t-s}].\n",
    "$$\n",
    "\n",
    "V časových řadách se sezónností je situace komplikovanější, neboť tam je sezónnost dalším důvodem nestacionarity.\n",
    "\n",
    "Typicky předpokládáme, že perioda $s$ je konstantní, nicméně to samozřejmě není úplná pravda. Data navíc mohou mít více period, např. týdenní a měsíční.\n",
    "\n",
    "## Přiblížení stacionaritě (d, D)\n",
    "\n",
    "Z teorie ARIMA modelů už víme, že ke stacionaritě nás posune diferencování, tedy vytvoření nové řady z rozdílů po sobě jdoucích hodnot,\n",
    "\n",
    "$$\n",
    "\\nabla X_t = (1-B) X_t = X_t - X_{t-1}.\n",
    "$$\n",
    "\n",
    "Toto můžeme dělat $d$ krát, většinou maximálně dvakrát, $\\nabla^2 X_t$.\n",
    "\n",
    "Analogicky můžeme přibližně zestacionárnit i časovou řadu se sezónností s periodou $s$,\n",
    "\n",
    "$$\n",
    "\\nabla_s X_t = (1-B^s) X_t = X_t - X_{t-s}.\n",
    "$$\n",
    "\n",
    "Pozor, index je dolní. Opět můžeme diferencovat víckrát, $\\nabla_s^D$, zpravidla maximálně jednou. Spojíme-li to dohromady, dostaneme diferencování\n",
    "\n",
    "$$\n",
    "\\nabla_s^D \\nabla^d X_t.\n",
    "$$\n",
    "\n",
    "Z AR, MA, ARMA a ARIMA víme, že modelovat závislosti dat v řadě můžeme do libovolné hloubky. Teoreticky bychom mohli sezónnost zkusit postihnout dostatečně složitým modelem, sahajícím pro veličiny hlouběji v minulosti. To je ovšem v rozporu s požadavkem na jednoduchost modelů. Např. při $s=12$ bychom závislost tří po sobě jdoucích sezón modelovali 36 AR  nebo MA koeficienty! Mnohem jednodušší je uvažovat běžný a sezónní vývoj zvlášť a použít multiplikativní model SARIMA(p,d,q)(P,D,Q)s:\n",
    "\n",
    "$$\n",
    "\\Phi_P(B^s) \\phi_p(B) \\nabla_s^D \\nabla^d X_t = \\theta_q(B) \\Theta_Q (B^s)\\varepsilon_t\n",
    "$$\n",
    "\n",
    "kde\n",
    "\n",
    "- $\\Phi_P(B^s) = (1-\\Phi_1 B^s - \\ldots - \\Phi_p B^{sP})$ je sezónní AR operátor řádu $P$,\n",
    "- $\\phi_p = (1 - \\phi_1 B - \\ldots - \\phi_p B^p)$ je běžný AR operátor řádu $p$,\n",
    "- $\\nabla_s^D = (1-B^s)^D$ je operátor sezónní diference řádu $D$,\n",
    "- $\\nabla^d = (1-B)^d$ je operátor běžné diference řádu $d$,\n",
    "- $\\Theta_Q(B^s) = (1 + \\Theta_1 B^s + \\ldots + \\Theta_Q B^{sQ})$ je sezónní MA operátor řádu $Q$,\n",
    "- $\\theta_q(B) = (1 + \\theta_1 B + \\ldots + \\theta_q B^{q})$ je běžný MA operátor řádu $q$,\n",
    "\n",
    "Zcela patrný je zde (poněkud naivní) předpoklad, že i sezóny se vyvíjí podle neměnného modelu."
   ]
  },
  {
   "cell_type": "markdown",
   "metadata": {},
   "source": [
    "## Příklad - počty pasažérů\n",
    "\n",
    "Podívejme se na příklad s [měsíčními počty pasažérů (v tisících) z období leden 1949 - prosinec 1960](https://datamarket.com/data/set/22u3/international-airline-passengers-monthly-totals-in-thousands-jan-49-dec-60#!ds=22u3&display=line), který jsme si představili na první přednášce. Na grafu vidíme jednoznačně trend i sezónnost. Na spodním grafu je vidět i predikce na (nesmyslných) 100 kroků dopředu (tj. 1 na každý měsíc) a to včetně 95% pásu spolehlivosti.\n",
    "\n",
    "Odhad byl proveden pomocí pythonu a `statsmodels.tsa.statespace.sarimax`. \n",
    "\n",
    "![acf](img/passengers-acf.png)\n",
    "\n",
    "![arima](img/passengers-arima2.png)\n",
    "\n",
    "A ještě rezidua:\n",
    "\n",
    "![arima](img/passengers-resid.png)\n",
    "![qq](img/passengers-qqhist.png)"
   ]
  },
  {
   "cell_type": "markdown",
   "metadata": {},
   "source": [
    "Sezonni rw, sezonni trend, obecné sezonní modely...\n",
    "\n",
    "Možná přidáme eXogeneous vars?"
   ]
  }
 ],
 "metadata": {
  "kernelspec": {
   "display_name": "Python 3",
   "language": "python",
   "name": "python3"
  },
  "language_info": {
   "codemirror_mode": {
    "name": "ipython",
    "version": 3
   },
   "file_extension": ".py",
   "mimetype": "text/x-python",
   "name": "python",
   "nbconvert_exporter": "python",
   "pygments_lexer": "ipython3",
   "version": "3.8.3"
  }
 },
 "nbformat": 4,
 "nbformat_minor": 4
}
