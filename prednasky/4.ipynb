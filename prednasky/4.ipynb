{
 "cells": [
  {
   "cell_type": "code",
   "execution_count": 3,
   "metadata": {},
   "outputs": [],
   "source": [
    "import numpy as np\n",
    "from scipy.stats.distributions import norm\n",
    "import matplotlib.pylab as plt\n",
    "import pandas as pd\n",
    "from statsmodels.graphics.tsaplots import plot_acf, plot_pacf\n",
    "import sys\n",
    "sys.path.append('../zdrojaky')\n",
    "from tsplot import tsplot"
   ]
  },
  {
   "cell_type": "markdown",
   "metadata": {},
   "source": [
    "# Téma 4: Modely MA a ARMA"
   ]
  },
  {
   "cell_type": "markdown",
   "metadata": {},
   "source": [
    "## Moving average, MA(q) - modely klouzavých průměrů"
   ]
  },
  {
   "cell_type": "markdown",
   "metadata": {},
   "source": [
    "## Smíšené modely ARMA(p, q)"
   ]
  },
  {
   "cell_type": "markdown",
   "metadata": {},
   "source": [
    "### MLE odhad AR(1) procesu\n",
    "\n",
    "Uvažujme stacionární gaussovský AR(1) proces\n",
    "\n",
    "$$\n",
    "X_t = c + \\phi X_{t-1} + \\varepsilon_t, \\qquad \\varepsilon_t \\sim iid \\mathcal{N}(0, \\sigma^2), |\\phi|<1 \\text{(proč?)}\n",
    "$$\n",
    "\n",
    "Vektor neznámých parametrů tedy je $\\theta = [c, \\phi, \\sigma^2]^\\intercal$.\n",
    "\n",
    "Z minulé přednášky už víme, že\n",
    "\n",
    "$$\n",
    "\\mathbb{E}[X_1] = \\mu = \\frac{c}{1-\\phi}, \\qquad \\operatorname{var} X_1 = \\frac{\\sigma^2}{1-\\phi^2},\n",
    "$$\n",
    "\n",
    "a jelikož šum je normální (gaussovský), platí\n",
    "\n",
    "$$\n",
    "X_1 \\sim \\mathcal{N}(\\mu, \\operatorname{var} X_1) = \\mathcal{N}\\left( \\frac{c}{1-\\phi}, \\frac{\\sigma^2}{1-\\phi^2}\\right).\n",
    "$$\n",
    "\n",
    "Připomeňme, že hustota pravděpodobnosti takového normálního rozdělení je\n",
    "\n",
    "$$\n",
    "f(x_1; \\theta) = f(x_1; c, \\phi, \\sigma^2) = \\frac{1}{\\sqrt{2\\pi} \\sqrt{\\sigma^2/(1 - \\phi^2)}}\n",
    "\\exp\n",
    "\\left[\n",
    "-\\frac{1}{2} \\frac{[x_1 - [c/(1-\\phi)]^2}{\\sigma^2/(1-\\phi^2)}\n",
    "\\right].\n",
    "$$\n",
    "\n",
    "Podívejme se nyní na druhé pozorování $X_2$, které je v autoregresním modelu podmíněné $X_1$,\n",
    "\n",
    "$$\n",
    "X_2 = c + \\phi X_1 + \\varepsilon_2 \\qquad \\Rightarrow X_2|X_1=x_1 \\sim \\mathcal{N}\\left((c+\\phi x_1), \\sigma^2\\right),\n",
    "$$\n",
    "\n",
    "neboť zde je $X_1$ bráno jako deterministická konstanta $x_1$. Tedy ke konstantě $(c+\\phi x_1)$ přičítáme šum z $\\mathcal{N}(0, \\sigma^2)$ a\n",
    "\n",
    "$$\n",
    "f(x_2|x_1;\\theta) = \\frac{1}{\\sqrt{2\\pi\\sigma^2}} \\exp \n",
    "\\left[\n",
    "-\\frac{1}{2} \\frac{(x_2 - c - \\phi x_1)^2}{\\sigma^2}\n",
    "\\right].\n",
    "$$\n",
    "\n",
    "Podobně budeme mít $(X_3|X_2, X_1) = (X_3|X_2)$ atd., neboť do modelu v čase $t$ vstupuje na pravé straně jen $X_{t-1}$. Tedy hustota v čase $t$ je\n",
    "\n",
    "$$\n",
    "f(x_t|x_{t-1}, x_{t-2}, \\ldots, x_1; \\theta) = f(x_t|x_{t-1}; \\theta)\n",
    "$$\n",
    "\n",
    "a věrohodnostní funkce (\"pravděpodobnost\") všech pozorování do času $T$\n",
    "\n",
    "$$\n",
    "f(x_T, x_{T-1},\\ldots, x_1;\\theta) = f(x_1;\\theta) \\prod_{t=2}^{T} f(x_t|x_{t-1}; \\theta), \\qquad\\text{kde}\\ \\theta = [c, \\phi, \\sigma^2]^\\intercal.\n",
    "$$\n",
    "\n",
    "Logaritmus věrohodnosti - log-likelihood - je tedy\n",
    "\n",
    "$$\n",
    "\\begin{aligned}\n",
    "\\mathcal{L}(\\theta) &= \\log f(x_1;\\theta) + \\sum_{t=2}^{T} \\log f(x_t|x_{t-1}; \\theta) \\\\\n",
    "&= \\underbrace{\n",
    "-\\frac{1}{2} \\log (2\\pi) - \\frac{1}{2} \\log\\left(\\frac{\\sigma^2}{1-\\phi^2}\\right)\n",
    "- \\frac{\\left( x_1 - \\frac{c}{1-\\phi}\\right)^2}{2 \\frac{\\sigma^2}{1-\\phi^2}}\n",
    "}_{\\log f(x_1;\\theta)}\n",
    "\\underbrace{\n",
    "-\\frac{T-1}{2} \\log(2\\pi) - \\frac{T-1}{2}\\log(\\sigma^2) - \\sum_{t=1}^{T} \\frac{\\varepsilon_t^2}{2\\sigma^2}\n",
    "}_{\\log\\prod f(x_t|x_{t-1};\\theta)},\n",
    "\\end{aligned}\n",
    "$$\n",
    "\n",
    "kde $\\varepsilon_t = x_t - c - \\phi x_{t-1}$. Ta se nám budou hodit u odhadu MA části.\n",
    "\n",
    "Nyní bychom položili log-likelihood rovný nule a hledali maximum přes parametry $\\theta = [c, \\phi, \\sigma^2]^\\intercal$, což je úkol iterativní a pro počítač :-)"
   ]
  },
  {
   "cell_type": "markdown",
   "metadata": {},
   "source": [
    "### Conditional MLE - metoda podmíněné maximální věrohodnosti pro AR(1)\n",
    "\n",
    "Alternativně k výše uvedené plné věrohodnosti lze uvažovat hodnotu $y_1$ deterministickou a tedy $f(y_1) = 1$. Potom maximalizujeme log-likelihood podmíněný prvním pozorováním, tedy jen tu součtovou část $\\sum \\log f(x_t|x_{t-1}; \\theta)$,\n",
    "\n",
    "$$\n",
    "\\mathcal{L}^*(\\theta) = -\\frac{T-1}{2} \\log(2\\pi) - \\frac{T-1}{2}\\log(\\sigma^2) - \\sum_{t=1}^{T} \\frac{\\varepsilon_t^2}{2\\sigma^2}.\n",
    "$$\n",
    "\n",
    "Dá se ukázat, že toto odpovídá odhadu pomocí nejmenších čtverců."
   ]
  },
  {
   "cell_type": "markdown",
   "metadata": {},
   "source": [
    "## MLE pro AR(p)\n",
    "\n",
    "Mějme nyní autoregresní model řádu $p$, tedy\n",
    "\n",
    "$$\n",
    "X_t = c + \\phi_1 X_{t-1} + \\phi_2 X_{t-2} + \\ldots + \\phi_p X_{t-p} + \\varepsilon_t, \\qquad \\varepsilon_t \\sim iid \\mathcal{N}(0, \\sigma^2).\n",
    "$$\n",
    "\n",
    "Nyní $\\theta = [c, \\phi_1, \\ldots, \\phi_p, \\sigma^2]^\\intercal$. Kdybychom postupovali jako u AR(1), ukázalo by se, že podmíněná maximální věrohodnost bude pracovat s log-likelihoodem\n",
    "\n",
    "$$\n",
    "\\mathcal{L}^*(\\theta) = -\\frac{T-p}{2} \\log(2\\pi) - \\frac{T-p}{2}\\log(\\sigma^2) - \\sum_{t=p1}^{T} \\frac{\\varepsilon_t^2}{2\\sigma^2}.\n",
    "$$"
   ]
  },
  {
   "cell_type": "code",
   "execution_count": null,
   "metadata": {},
   "outputs": [],
   "source": []
  }
 ],
 "metadata": {
  "kernelspec": {
   "display_name": "Python 3",
   "language": "python",
   "name": "python3"
  },
  "language_info": {
   "codemirror_mode": {
    "name": "ipython",
    "version": 3
   },
   "file_extension": ".py",
   "mimetype": "text/x-python",
   "name": "python",
   "nbconvert_exporter": "python",
   "pygments_lexer": "ipython3",
   "version": "3.6.5"
  }
 },
 "nbformat": 4,
 "nbformat_minor": 2
}
