{
 "cells": [
  {
   "cell_type": "markdown",
   "metadata": {},
   "source": [
    "# NI-SCR :: Statistická analýza časových řad\n",
    "\n",
    "**Kamil Dedecius**\n",
    "- kamil.dedecius@fit.cvut.cz\n",
    "- Teams\n",
    "- kancelář A1424\n",
    "- konzultace po předchozí domluvě - osobně, online, jakkoliv :)\n",
    "\n",
    "**Požadavky**\n",
    "- na každé přednášce online testík :)\n",
    "- cvičení\n",
    "- body za extra aktivitu\n",
    "- body za dobrovolné projekty - mohou nahradit nebo dohnat body odjinud\n",
    "- ke zkoušce povinný prakticky zaměřený miniprojektík\n",
    "\n",
    "**Co nás čeká**\n",
    "- modelování časových řad :D\n",
    "\n",
    "A hlavně spousta legrace s matematikou v praktických problémech :-)\n",
    "\n",
    "## Hurá na první přednášku :-)"
   ]
  }
 ],
 "metadata": {
  "kernelspec": {
   "display_name": "Python 3",
   "language": "python",
   "name": "python3"
  },
  "language_info": {
   "codemirror_mode": {
    "name": "ipython",
    "version": 3
   },
   "file_extension": ".py",
   "mimetype": "text/x-python",
   "name": "python",
   "nbconvert_exporter": "python",
   "pygments_lexer": "ipython3",
   "version": "3.9.1"
  }
 },
 "nbformat": 4,
 "nbformat_minor": 4
}
