{
 "cells": [
  {
   "cell_type": "code",
   "execution_count": null,
   "metadata": {},
   "outputs": [],
   "source": [
    "import numpy as np\n",
    "import matplotlib.pylab as plt\n",
    "import pandas as pd\n",
    "import statsmodels.api as sm\n",
    "import statsmodels.tsa.api as smt"
   ]
  },
  {
   "cell_type": "markdown",
   "metadata": {},
   "source": [
    "# Exponenciální vyhlazování: Holtova-Wintersova metoda\n",
    "\n",
    "Holtova-Wintersova metoda trojitého exponenciálního vyhlazování slouží k modelování časových řad s trendem a sezónností. Ostatní probrané metody exp. vyhlazování jsou jejími speciálními případy.\n",
    "\n",
    "Uvažujme:\n",
    "- $y_t$ - aktuální měření\n",
    "- $\\hat{y}_{\\cdot}$ - predikce\n",
    "- $m$ - sezónnost (počet vzorků od jedné sezóny do druhé)\n",
    "- $l_t$ - level (složka hladiny)\n",
    "- $b_t$ - trend\n",
    "- $s_t$ - sezónní složka\n",
    "- $\\alpha, \\beta^*, \\gamma$ - koeficienty\n",
    "\n",
    "### Aditivní metoda\n",
    "Aditivní metoda předpokládá, že sezónní složky jsou prakticky stejné a sčítají se (přibližně) do nuly. Model má tvar\n",
    "\n",
    "$$\n",
    "\\begin{alignat}{2}\n",
    "\\text{Forecast eq.}&&\\qquad \\hat{y}_{t+h|t} &= l_t + hb_t + s_{t+h-m(k+1)}, \\\\\n",
    "\\text{Level eq.}&&\\qquad l_t &= \\alpha (y_t - s_{t-m}) + (1 - \\alpha)(l_{t-1} + b_{t-1}),\\\\\n",
    "\\text{Trend eq.}&&\\qquad b_t &= \\beta^{*}(l_t - l_{t-1}) + (1 - \\beta^{*})b_{t-1}, \\\\\n",
    "\\text{Seasonal eq.} &&\\qquad s_t &= \\gamma(y_t - l_{t-1} - b_{t-1}) + (1-\\gamma)s_{t-m},\n",
    "\\end{alignat}\n",
    "$$\n",
    "\n",
    "kde $k = \\lfloor (h-1)/m \\rfloor$. Poslední z rovnic vyjadřuje vážený průměr mezi současnou hodnotou sezónnosti (sezónního indexu) a téže veličinou v předchozí sezóně.\n",
    "\n",
    "### Multiplikativní metoda\n",
    "Multiplikativní metoda předpokládá, že sezónní složky se mění v závislost na hladině $l_t$. Sezónní komponenta je v modelu vyjádřena jako relativní (procentuální) veličina, srov. s aditivním modelem. Komponentní forma má tvar\n",
    "\n",
    "$$\n",
    "\\begin{alignat}{2}\n",
    "\\text{Forecast eq.}&&\\qquad \\hat{y}_{t+h|t} &= (l_t + hb_t)s_{t+h-m(k+1)}, \\\\\n",
    "\\text{Level eq.}&&\\qquad l_t &= \\alpha \\frac{y_t}{s_{t-m}} + (1 - \\alpha)(l_{t-1} + b_{t-1}),\\\\\n",
    "\\text{Trend eq.}&&\\qquad b_t &= \\beta^{*}(l_t - l_{t-1}) + (1 - \\beta^{*})b_{t-1}, \\\\\n",
    "\\text{Seasonal eq.} &&\\qquad s_t &= \\gamma \\frac{y_t}{l_{t-1} + b_{t-1}} + (1-\\gamma)s_{t-m}.\n",
    "\\end{alignat}\n",
    "$$"
   ]
  },
  {
   "cell_type": "code",
   "execution_count": null,
   "metadata": {},
   "outputs": [],
   "source": [
    "#fn = 'https://onemocneni-aktualne.mzcr.cz/api/v1/covid-19/nakazeni-vyleceni-umrti-testy.csv'\n",
    "fn = 'nakazeni-vyleceni-umrti-testy.csv'\n",
    "data = pd.read_csv(fn, index_col=0, parse_dates=True)\n",
    "dt = data['prirustkovy_pocet_provedenych_testu'].last('10W')\n",
    "dt.plot(figsize=(10,4))"
   ]
  },
  {
   "cell_type": "code",
   "execution_count": null,
   "metadata": {},
   "outputs": [],
   "source": [
    "method_add = smt.ExponentialSmoothing(dt, initialization_method=\"heuristic\", freq='D',\n",
    "                                  trend='add', damped_trend=True, \n",
    "                                  seasonal='add', seasonal_periods=7)\n",
    "method_mul = smt.ExponentialSmoothing(dt, initialization_method=\"heuristic\", freq='D',\n",
    "                                  trend='mul', damped_trend=True, \n",
    "                                  seasonal='mul', seasonal_periods=7)\n",
    "fit_add = method_add.fit(method='ls')\n",
    "fit_mul = method_mul.fit(method='ls')\n",
    "fcast_add = fit_add.forecast(10)\n",
    "fcast_mul = fit_mul.forecast(10)\n",
    "\n",
    "plt.figure(figsize=(10, 5))\n",
    "plt.title(rf\"DES add: alpha = {fit_add.model.params['smoothing_level']:.3e}, \" \n",
    "         + fr\"beta* = {fit_add.model.params['smoothing_trend']:.3e}, \"\n",
    "         + fr\"gamma = {fit_add.model.params['smoothing_seasonal']:.3e}, \"\n",
    "         + fr\"phi={fit_add.model.params['damping_trend']:.3f}\" + '\\n'\n",
    "         + fr\"DES mul: alpha = {fit_mul.model.params['smoothing_level']:.3e}, \" \n",
    "         + fr\"beta* = {fit_mul.model.params['smoothing_trend']:.3e}, \"\n",
    "         + fr\"gamma = {fit_mul.model.params['smoothing_seasonal']:.3e}, \"\n",
    "         + fr\"phi={fit_mul.model.params['damping_trend']:.3f}\"\n",
    "         )\n",
    "plt.plot(dt, marker='.', lw=2, label=r'$y_t$')\n",
    "plt.plot(fit_add.fittedvalues.append(fcast_add), label=r'add $\\hat{y}_t$')\n",
    "plt.plot(fit_mul.fittedvalues.append(fcast_mul), label=r'mul $\\hat{y}_t$')\n",
    "plt.legend()\n",
    "plt.show()"
   ]
  }
 ],
 "metadata": {
  "kernelspec": {
   "display_name": "Python 3",
   "language": "python",
   "name": "python3"
  },
  "language_info": {
   "codemirror_mode": {
    "name": "ipython",
    "version": 3
   },
   "file_extension": ".py",
   "mimetype": "text/x-python",
   "name": "python",
   "nbconvert_exporter": "python",
   "pygments_lexer": "ipython3",
   "version": "3.9.1"
  }
 },
 "nbformat": 4,
 "nbformat_minor": 4
}
