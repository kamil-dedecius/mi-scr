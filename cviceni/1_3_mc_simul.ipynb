{
 "cells": [
  {
   "cell_type": "code",
   "execution_count": null,
   "metadata": {},
   "outputs": [],
   "source": [
    "import numpy as np\n",
    "np.set_printoptions(precision=3)"
   ]
  },
  {
   "cell_type": "markdown",
   "metadata": {},
   "source": [
    "# Simulace a odhad přechodové matice markovského řetězce\n",
    "\n",
    "Máme simulovat `size` kroků markovského řetězce s přechodovou maticí\n",
    "\n",
    "$$\n",
    "P =\n",
    "\\begin{bmatrix}\n",
    ".5 & .5 & .0 \\\\\n",
    ".3 & .3 & .4 \\\\\n",
    ".3 & .5 & .2\n",
    "\\end{bmatrix}\n",
    "$$\n",
    "\n",
    "Zadefinujme navíc počáteční podmínku $X_0 = 1$. Ta by samozřejmě mohla být jiná, dokonce náhodná.\n",
    "\n",
    "**Úkol 1: Nakreslete přechodový graf. Zadefinujte size=1000 a matici P.**"
   ]
  },
  {
   "cell_type": "code",
   "execution_count": null,
   "metadata": {},
   "outputs": [],
   "source": [
    "size = 1000\n",
    "\n",
    "P = np.array([\n",
    "        ***\n",
    "        ])"
   ]
  },
  {
   "cell_type": "markdown",
   "metadata": {},
   "source": [
    "**Úkol 2: simulujte markovský řetězec o délce `size`**"
   ]
  },
  {
   "cell_type": "code",
   "execution_count": null,
   "metadata": {},
   "outputs": [],
   "source": [
    "mc_states = np.zeros(size, dtype=int)\n",
    "mc_states[0] = 1\n",
    "for t in range(1, size):\n",
    "    mc_states[t] = ***\n",
    "\n",
    "\n",
    "print(mc_states[0:100])"
   ]
  },
  {
   "cell_type": "markdown",
   "metadata": {},
   "source": [
    "**Úkol 3: Zkusme ze simulovaných dat zrekonstruovat matici přechodu `Phat`.**"
   ]
  },
  {
   "cell_type": "code",
   "execution_count": null,
   "metadata": {},
   "outputs": [],
   "source": [
    "***\n",
    "\n",
    "print(Phat)"
   ]
  },
  {
   "cell_type": "markdown",
   "metadata": {},
   "source": [
    "**Úkol 4: Vytiskněte rozdíl coby normu $||P - \\hat{P}||^2$ kde $\\hat{P}$ je odhad přechodové matice. Rozdíl interpretujte.**"
   ]
  },
  {
   "cell_type": "code",
   "execution_count": null,
   "metadata": {},
   "outputs": [],
   "source": [
    "diff = np.linalg.norm(***)\n",
    "print(diff)"
   ]
  },
  {
   "cell_type": "markdown",
   "metadata": {},
   "source": [
    "Otestujte, jak se chová odhad $\\hat{P}$ pro různě dlouhé simulace řetězce."
   ]
  }
 ],
 "metadata": {
  "kernelspec": {
   "display_name": "Python 3",
   "language": "python",
   "name": "python3"
  },
  "language_info": {
   "codemirror_mode": {
    "name": "ipython",
    "version": 3
   },
   "file_extension": ".py",
   "mimetype": "text/x-python",
   "name": "python",
   "nbconvert_exporter": "python",
   "pygments_lexer": "ipython3",
   "version": "3.8.3"
  }
 },
 "nbformat": 4,
 "nbformat_minor": 2
}
