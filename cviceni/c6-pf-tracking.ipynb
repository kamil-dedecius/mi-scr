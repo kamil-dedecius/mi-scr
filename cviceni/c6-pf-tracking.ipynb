{
 "cells": [
  {
   "cell_type": "code",
   "execution_count": null,
   "metadata": {},
   "outputs": [],
   "source": [
    "import numpy as np\n",
    "from scipy.stats import multivariate_normal as mvn\n",
    "import matplotlib.pylab as plt\n",
    "import sys\n",
    "sys.path.insert(0, '../zdrojaky/kf')\n",
    "from kf import KF\n",
    "from trajectory import trajectory\n",
    "np.set_printoptions(precision=2)"
   ]
  },
  {
   "cell_type": "markdown",
   "metadata": {},
   "source": [
    "# Cvičení 5: Sledování objektu ve 2D pomocí particle filtru\n",
    "\n",
    "Cílem tohoto cvičení je filtrace polohy objektu pohybujícího se na ploše, tj. ve 2D, tentokrát ale particle filtrem. Jelikož uvažujeme lineární model, je to trochu kladivo na komára, ale uvidíme, že funguje dobře.\n",
    "\n",
    "Cílem je odhadovat stavový vektor sestávající se z polohy v osách $x_1$ a $x_2$ a rychlostech v obou těchto osách.\n",
    "\n",
    "$$\n",
    "x_t =\n",
    "\\begin{bmatrix}\n",
    "x_{1,t} \\\\ \n",
    "x_{2,t} \\\\ \n",
    "v_{x_1,t} \\\\ \n",
    "v_{x_2,t}\n",
    "\\end{bmatrix}\n",
    "$$\n",
    "\n",
    "Víme, že pro polohu v první ose platí\n",
    "\n",
    "$$\n",
    "x_{1,t} = x_{1,t-1} + v_{x_1,t} dt + w_{x_1,t},\n",
    "$$\n",
    "\n",
    "a že analogicky platí totéž i pro polohu v ose druhé. Abychom se nemuseli zaobírat zrychlením, budeme uvažovat, že rychlost je stejná a její změny jsou způsobeny jen šumem,\n",
    "\n",
    "$$\n",
    "v_{x_1,t} = v_{x_1, t-1} + w_{vx_1, t}.\n",
    "$$\n",
    "\n",
    "Analogicky pro druhou složku rychlosti. K dispozici jsou jen měření polohy v obou osách a to v časovém kroku 0.1s.\n",
    "\n",
    "Potřebujeme tedy sestavit stavový model\n",
    "\n",
    "$$\n",
    "\\begin{aligned}\n",
    "x_t &\\sim \\mathcal{N}(Ax_{t-1} + Bu_t, Q),\\\\\n",
    "y_t &\\sim \\mathcal{N}(Hx_{t}, R).\n",
    "\\end{aligned}\n",
    "$$\n",
    "\n",
    "Kovarianční matice nám musí někdo dodat, níže jsou uvedeny."
   ]
  },
  {
   "cell_type": "markdown",
   "metadata": {},
   "source": [
    "\\begin{align*}\n",
    "    A &=\n",
    "    \\begin{bmatrix}\n",
    "       1 & 0 & dt & 0 \\\\\n",
    "       0 & 1 & 0 & dt \\\\\n",
    "       0 & 0 & 1 &  0 \\\\\n",
    "       0 & 0 & 0 &  1 \n",
    "    \\end{bmatrix},\n",
    "    \\quad\n",
    "    &Q &= q\\cdot\n",
    "    \\begin{bmatrix}\n",
    "        \\frac{dt^3}{3}    & 0                 & \\frac{dt^{2}}{2}  & 0  \\\\\n",
    "        0                 & \\frac{dt^3}{3}    & 0                 & \\frac{dt^{2}}{2} \\\\\n",
    "        \\frac{dt^{2}}{2}  & 0                 & dt                & 0 \\\\\n",
    "        0                 & \\frac{dt^{2}}{2}  & 0                 & dt\n",
    "    \\end{bmatrix}\n",
    "    \\notag \\\\\n",
    "    H &=\n",
    "    \\begin{bmatrix}\n",
    "        1 & 0 &0 & 0 \\\\\n",
    "        0 & 1 &0 & 0\n",
    "    \\end{bmatrix}\n",
    "    \\quad\n",
    "    &R &=\n",
    "    r^{2}\\cdot\n",
    "    \\begin{bmatrix}\n",
    "        1 & 0 \\\\\n",
    "        0 & 1\n",
    "    \\end{bmatrix}\n",
    "\\end{align*}\n",
    "kde $dt = 1$, $q = .5$, $r=3$."
   ]
  },
  {
   "cell_type": "markdown",
   "metadata": {},
   "source": [
    "** Úkol: doplňte chybějící proměnné**"
   ]
  },
  {
   "cell_type": "code",
   "execution_count": null,
   "metadata": {},
   "outputs": [],
   "source": [
    "q = .5\n",
    "dt = 1.\n",
    "r = 3.\n",
    "A = ***\n",
    "Q = q * np.array([[dt**3/3, 0      , dt**2/2, 0      ],\n",
    "                  [0,       dt**3/3, 0,       dt**2/2],\n",
    "                  [dt**2/2, 0,       dt,      0      ],\n",
    "                  [0,       dt**2/2, 0,       dt     ]])\n",
    "H = np.array([[1., 0, 0, 0],\n",
    "              [0., 1, 0, 0]])\n",
    "R = r**2 * np.eye(2)"
   ]
  },
  {
   "cell_type": "markdown",
   "metadata": {},
   "source": [
    "**Vykreslíme si sledovanou polohu křížky.**"
   ]
  },
  {
   "cell_type": "code",
   "execution_count": null,
   "metadata": {},
   "outputs": [],
   "source": [
    "code = 1305\n",
    "traj = trajectory(code)\n",
    "plt.figure(figsize=(10, 10))\n",
    "plt.plot(traj.Y[0,:], traj.Y[1,:], '+')\n",
    "plt.axis('equal')\n",
    "plt.show()"
   ]
  },
  {
   "cell_type": "markdown",
   "metadata": {},
   "source": [
    "**Úkol: Dodefinujte proposal distribuci a nasimulujte z ní `nsamples` vzorků. Proposal bude N(0, 10I)**"
   ]
  },
  {
   "cell_type": "code",
   "execution_count": null,
   "metadata": {},
   "outputs": [],
   "source": [
    "ndat = traj.ndat\n",
    "nsamples = 100\n",
    "proposal_loc = ###\n",
    "proposal_cov = ###\n",
    "\n",
    "samples_x = mvn.rvs(###)\n",
    "weights = np.ones(nsamples)\n",
    "weights /= weights.sum()\n",
    "print(\"Kontrola vah: 1 =\", weights.sum())"
   ]
  },
  {
   "cell_type": "markdown",
   "metadata": {},
   "source": [
    "**Úkol: doplňte funkce kde jsou `###` **"
   ]
  },
  {
   "cell_type": "code",
   "execution_count": null,
   "metadata": {},
   "outputs": [],
   "source": [
    "# Logs\n",
    "log_x = np.zeros((4, ndat))\n",
    "\n",
    "def prediction(samples_x):\n",
    "    samples_x_new = np.zeros_like(samples_x)\n",
    "    for i in range(nsamples):\n",
    "        mean = ###\n",
    "        samples_x_new[i] = mvn.rvs(mean=mean, cov=Q)\n",
    "    return samples_x_new\n",
    "\n",
    "def update(yt, samples_x, weights):\n",
    "    for i in range(nsamples):\n",
    "        mean = ###\n",
    "        likelihood = mvn.pdf(yt, mean=mean, cov=R)\n",
    "        weights[i] *= likelihood\n",
    "    weights /= weights.sum()\n",
    "    return weights\n",
    "\n",
    "def resample(samples_x, weights):\n",
    "    indices = np.random.choice(np.arange(weights.size), replace=True, p=weights, size=weights.size)\n",
    "    samples_x_new = samples_x[indices]\n",
    "    weights = np.ones_like(weights)/weights.size\n",
    "    return [samples_x_new, weights]"
   ]
  },
  {
   "cell_type": "markdown",
   "metadata": {},
   "source": [
    "**Zkusíme pustit filtr. Dodefinujte `estimate` - bude to bodový odhad.**"
   ]
  },
  {
   "cell_type": "code",
   "execution_count": null,
   "metadata": {},
   "outputs": [],
   "source": [
    "for t, yt in enumerate(traj.Y.T):\n",
    "    \n",
    "    # Resampling\n",
    "    samples_x, weights = resample(samples_x, weights)\n",
    "    \n",
    "    # Prediction\n",
    "    samples_x = prediction(samples_x)\n",
    "\n",
    "    # Update\n",
    "    weights = update(yt, samples_x, weights)\n",
    "    \n",
    "    # Estimate & log\n",
    "    estimate = ###\n",
    "    log_x[:,t] = estimate"
   ]
  },
  {
   "cell_type": "markdown",
   "metadata": {},
   "source": [
    "**Vykreslíme výsledky**"
   ]
  },
  {
   "cell_type": "code",
   "execution_count": null,
   "metadata": {},
   "outputs": [],
   "source": [
    "plt.figure(figsize=(10,10))\n",
    "plt.plot(traj.Y[0,:], traj.Y[1,:], '.', label='Měření')\n",
    "plt.plot(log_x[0,:], log_x[1,:], '-', color='red', label='Filtrovaný odhad')\n",
    "plt.plot(traj.X[0,:], traj.X[1,:], 'k', label='Skutečnost')\n",
    "plt.grid(True)\n",
    "plt.axis('equal')\n",
    "plt.legend()\n",
    "plt.show()"
   ]
  },
  {
   "cell_type": "code",
   "execution_count": null,
   "metadata": {},
   "outputs": [],
   "source": [
    "plt.figure(figsize=(10, 4))\n",
    "plt.subplot(1,2,1)\n",
    "plt.plot(log_x[2,:], 'r')\n",
    "plt.plot(traj.X[2,:], 'k')\n",
    "plt.subplot(1,2,2)\n",
    "plt.plot(log_x[3,:])\n",
    "plt.plot(traj.X[3,:], 'k')\n",
    "plt.show()"
   ]
  }
 ],
 "metadata": {
  "kernelspec": {
   "display_name": "Python 3",
   "language": "python",
   "name": "python3"
  },
  "language_info": {
   "codemirror_mode": {
    "name": "ipython",
    "version": 3
   },
   "file_extension": ".py",
   "mimetype": "text/x-python",
   "name": "python",
   "nbconvert_exporter": "python",
   "pygments_lexer": "ipython3",
   "version": "3.7.1"
  }
 },
 "nbformat": 4,
 "nbformat_minor": 2
}
