{
 "cells": [
  {
   "cell_type": "code",
   "execution_count": 16,
   "metadata": {},
   "outputs": [],
   "source": [
    "import numpy as np\n",
    "import pandas as pd\n",
    "import matplotlib.pylab as plt\n",
    "np.set_printoptions(precision=3)\n",
    "import sys\n",
    "sys.path.append('../../zdrojaky')\n",
    "from tsplot import tsplot\n",
    "from statsmodels.tsa.ar_model import AutoReg, ar_select_order\n",
    "import warnings\n",
    "warnings.simplefilter(action='ignore', category=(FutureWarning, DeprecationWarning))"
   ]
  },
  {
   "cell_type": "markdown",
   "metadata": {},
   "source": [
    "# Modelování časové řady COVID-19 pomocí AR modelu\n",
    "\n",
    "*Zdroj dat: https://onemocneni-aktualne.mzcr.cz/api/v2/covid-19*\n",
    "\n",
    "Uvažujme datovou sadu svého času poskytovanou MZ ČR s následujícím popisem:\n",
    "\n",
    "```Obsahem je komplexní přehled základních epidemiologických parametrů (počty diagnostikovaných osob s COVID-19, počty aktuálně nakažených, hospitalizovaní pacienti) se zaměřením na seniorní zranitelné skupiny obyvatel (kategorie věku 65+, 75+) na geografické úrovni obcí s rozšířenou působností (ORP).```\n",
    "\n",
    "Schema CSV je podle poskytovatele následující:\n",
    "\n",
    "```\n",
    "den:string\n",
    "datum:date\n",
    "orp_kod:string\n",
    "orp_nazev:string\n",
    "incidence_7:integer\n",
    "incidence_65_7:integer\n",
    "incidence_75_7:integer\n",
    "prevalence:integer\n",
    "prevalence_65:integer\n",
    "prevalence_75:integer\n",
    "aktualni_pocet_hospitalizovanych_osob:integer\n",
    "nove_hosp_7:integer\n",
    "testy_7:integer\n",
    "```"
   ]
  },
  {
   "cell_type": "code",
   "execution_count": 17,
   "metadata": {},
   "outputs": [
    {
     "data": {
      "text/html": [
       "<div>\n",
       "<style scoped>\n",
       "    .dataframe tbody tr th:only-of-type {\n",
       "        vertical-align: middle;\n",
       "    }\n",
       "\n",
       "    .dataframe tbody tr th {\n",
       "        vertical-align: top;\n",
       "    }\n",
       "\n",
       "    .dataframe thead th {\n",
       "        text-align: right;\n",
       "    }\n",
       "</style>\n",
       "<table border=\"1\" class=\"dataframe\">\n",
       "  <thead>\n",
       "    <tr style=\"text-align: right;\">\n",
       "      <th></th>\n",
       "      <th>den</th>\n",
       "      <th>orp_kod</th>\n",
       "      <th>orp_nazev</th>\n",
       "      <th>incidence_7</th>\n",
       "      <th>incidence_65_7</th>\n",
       "      <th>incidence_75_7</th>\n",
       "      <th>prevalence</th>\n",
       "      <th>prevalence_65</th>\n",
       "      <th>prevalence_75</th>\n",
       "      <th>aktualni_pocet_hospitalizovanych_osob</th>\n",
       "      <th>nove_hosp_7</th>\n",
       "      <th>testy_7</th>\n",
       "    </tr>\n",
       "    <tr>\n",
       "      <th>datum</th>\n",
       "      <th></th>\n",
       "      <th></th>\n",
       "      <th></th>\n",
       "      <th></th>\n",
       "      <th></th>\n",
       "      <th></th>\n",
       "      <th></th>\n",
       "      <th></th>\n",
       "      <th></th>\n",
       "      <th></th>\n",
       "      <th></th>\n",
       "      <th></th>\n",
       "    </tr>\n",
       "  </thead>\n",
       "  <tbody>\n",
       "    <tr>\n",
       "      <th>2021-05-04</th>\n",
       "      <td>úterý</td>\n",
       "      <td>4207</td>\n",
       "      <td>Louny</td>\n",
       "      <td>90</td>\n",
       "      <td>10</td>\n",
       "      <td>2</td>\n",
       "      <td>179</td>\n",
       "      <td>25</td>\n",
       "      <td>6</td>\n",
       "      <td>12</td>\n",
       "      <td>9</td>\n",
       "      <td>459</td>\n",
       "    </tr>\n",
       "    <tr>\n",
       "      <th>2021-05-05</th>\n",
       "      <td>středa</td>\n",
       "      <td>4207</td>\n",
       "      <td>Louny</td>\n",
       "      <td>83</td>\n",
       "      <td>11</td>\n",
       "      <td>3</td>\n",
       "      <td>182</td>\n",
       "      <td>25</td>\n",
       "      <td>7</td>\n",
       "      <td>10</td>\n",
       "      <td>8</td>\n",
       "      <td>423</td>\n",
       "    </tr>\n",
       "    <tr>\n",
       "      <th>2021-05-06</th>\n",
       "      <td>čtvrtek</td>\n",
       "      <td>4207</td>\n",
       "      <td>Louny</td>\n",
       "      <td>83</td>\n",
       "      <td>13</td>\n",
       "      <td>4</td>\n",
       "      <td>160</td>\n",
       "      <td>23</td>\n",
       "      <td>7</td>\n",
       "      <td>11</td>\n",
       "      <td>6</td>\n",
       "      <td>368</td>\n",
       "    </tr>\n",
       "    <tr>\n",
       "      <th>2021-05-07</th>\n",
       "      <td>pátek</td>\n",
       "      <td>4207</td>\n",
       "      <td>Louny</td>\n",
       "      <td>63</td>\n",
       "      <td>10</td>\n",
       "      <td>4</td>\n",
       "      <td>145</td>\n",
       "      <td>20</td>\n",
       "      <td>5</td>\n",
       "      <td>12</td>\n",
       "      <td>7</td>\n",
       "      <td>349</td>\n",
       "    </tr>\n",
       "    <tr>\n",
       "      <th>2021-05-08</th>\n",
       "      <td>sobota</td>\n",
       "      <td>4207</td>\n",
       "      <td>Louny</td>\n",
       "      <td>59</td>\n",
       "      <td>9</td>\n",
       "      <td>4</td>\n",
       "      <td>153</td>\n",
       "      <td>21</td>\n",
       "      <td>6</td>\n",
       "      <td>11</td>\n",
       "      <td>6</td>\n",
       "      <td>354</td>\n",
       "    </tr>\n",
       "  </tbody>\n",
       "</table>\n",
       "</div>"
      ],
      "text/plain": [
       "                den  orp_kod orp_nazev  incidence_7  incidence_65_7  \\\n",
       "datum                                                                 \n",
       "2021-05-04    úterý     4207     Louny           90              10   \n",
       "2021-05-05   středa     4207     Louny           83              11   \n",
       "2021-05-06  čtvrtek     4207     Louny           83              13   \n",
       "2021-05-07    pátek     4207     Louny           63              10   \n",
       "2021-05-08   sobota     4207     Louny           59               9   \n",
       "\n",
       "            incidence_75_7  prevalence  prevalence_65  prevalence_75  \\\n",
       "datum                                                                  \n",
       "2021-05-04               2         179             25              6   \n",
       "2021-05-05               3         182             25              7   \n",
       "2021-05-06               4         160             23              7   \n",
       "2021-05-07               4         145             20              5   \n",
       "2021-05-08               4         153             21              6   \n",
       "\n",
       "            aktualni_pocet_hospitalizovanych_osob  nove_hosp_7  testy_7  \n",
       "datum                                                                    \n",
       "2021-05-04                                     12            9      459  \n",
       "2021-05-05                                     10            8      423  \n",
       "2021-05-06                                     11            6      368  \n",
       "2021-05-07                                     12            7      349  \n",
       "2021-05-08                                     11            6      354  "
      ]
     },
     "execution_count": 17,
     "metadata": {},
     "output_type": "execute_result"
    }
   ],
   "source": [
    "fn = 'orp.csv'\n",
    "data = pd.read_csv(fn, index_col=1, parse_dates=True, \n",
    "                   infer_datetime_format=True)\n",
    "data.head()"
   ]
  },
  {
   "cell_type": "markdown",
   "metadata": {},
   "source": [
    "Budeme si vybírat konkrétní ORP (obec s rozšířenou působností) a v ní jen určitou část období (proč?). Vykreslíme si průběh vybrané řady a ACF s PACF:"
   ]
  },
  {
   "cell_type": "code",
   "execution_count": 19,
   "metadata": {},
   "outputs": [
    {
     "data": {
      "image/png": "[encoded data removed]",
      "text/plain": [
       "<Figure size 1008x432 with 3 Axes>"
      ]
     },
     "metadata": {
      "needs_background": "light"
     },
     "output_type": "display_data"
    }
   ],
   "source": [
    "df_orig = data.loc[data['orp_nazev']=='Tábor']\n",
    "df = df_orig['testy_7'].last('6W')\n",
    "df = df.asfreq('D')\n",
    "\n",
    "tsplot(df, lags=10)"
   ]
  },
  {
   "cell_type": "markdown",
   "metadata": {},
   "source": [
    "...a dál už můžete sami :)"
   ]
  }
 ],
 "metadata": {
  "kernelspec": {
   "display_name": "Python 3",
   "language": "python",
   "name": "python3"
  },
  "language_info": {
   "codemirror_mode": {
    "name": "ipython",
    "version": 3
   },
   "file_extension": ".py",
   "mimetype": "text/x-python",
   "name": "python",
   "nbconvert_exporter": "python",
   "pygments_lexer": "ipython3",
   "version": "3.9.1"
  }
 },
 "nbformat": 4,
 "nbformat_minor": 4
}
