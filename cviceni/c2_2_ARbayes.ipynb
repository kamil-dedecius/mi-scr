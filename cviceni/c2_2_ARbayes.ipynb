{
 "cells": [
  {
   "cell_type": "code",
   "execution_count": null,
   "metadata": {},
   "outputs": [],
   "source": [
    "import numpy as np\n",
    "import matplotlib.pylab as plt\n",
    "import sys\n",
    "sys.path.append('../zdrojaky')\n",
    "from tsplot import tsplot\n",
    "from nig import NiG\n",
    "from scipy.io import loadmat"
   ]
  },
  {
   "cell_type": "markdown",
   "metadata": {},
   "source": [
    "# Konstrukce a online bayesovský odhad AR modelu\n",
    "\n",
    "V tomto příkladu se budeme zabývat průmyslovými daty, konkrétně měřeními a predikcemi válcovací štěrbiny v soustavě pro válcování plechů. Budeme používat AR model, zkusíme různé řády. S výhodou využijeme online update apriorní informace, která bude reprezentována normální-inverzní gama distribucí.\n",
    "\n",
    "Nejprve nahrajeme data uložená v souboru `Gi.mat`, tedy v matlabovském formátu. Jedná se o matlabí strukturu. Do proměnné `ndat` uložte rozsah dat."
   ]
  },
  {
   "cell_type": "code",
   "execution_count": null,
   "metadata": {},
   "outputs": [],
   "source": [
    "datafile = loadmat('Gi.mat')\n",
    "rolling_data = datafile['CDsel']\n",
    "\n",
    "start = 300\n",
    "end = 850\n",
    "data = rolling_data[start:end,10]\n",
    "ndat = ***"
   ]
  },
  {
   "cell_type": "markdown",
   "metadata": {},
   "source": [
    "Pomocí funkce `tsplot` vykreslíme data a ACF a PACF. Interpretujte grafy."
   ]
  },
  {
   "cell_type": "code",
   "execution_count": null,
   "metadata": {},
   "outputs": [],
   "source": [
    "tsplot(data)"
   ]
  },
  {
   "cell_type": "markdown",
   "metadata": {},
   "source": [
    "V proměnné `ARorder` bude uložen řád modelu. Matice `xi0` a skalár `nu0` definují parametry iniciální apriorní NiG distribuce."
   ]
  },
  {
   "cell_type": "code",
   "execution_count": null,
   "metadata": {},
   "outputs": [],
   "source": [
    "ARorder = ***\n",
    "xi0 = np.eye(ARorder+2) * 0.1\n",
    "xi0[0,0] = 0.01\n",
    "nu0 = 10\n",
    "\n",
    "ar = NiG(xi0, nu0)"
   ]
  },
  {
   "cell_type": "markdown",
   "metadata": {},
   "source": [
    "Nyní nás čeká asi nejnáročnější část. S každým příchozím měřením - datem - $X_t$ musíme:\n",
    "\n",
    "- udělat predikci budoucí hodnoty $X_{t+1} = \\hat{\\beta}^\\intercal [1, X_{t}, \\ldots, X_{t-p+1}]^\\intercal$, kde $p$ je řád modelu a ve vektoru máme schovaný celý regresor. Ten sestavíme z proměnné `data` vybráním podstatných prvků, následným otočením funkcí `np.flip` a vložením jedničky pomocí `np.insert`. Odhad beta nalezneme v `ar.beta_hat`.\n",
    "- updatovat apriorní distribuci metodou `ar.update(xt, regressor)`, kde `xt` je **aktuální měření** a `regressor` je regresor $[1, X_{t-1},\\ldots,X_{t-p}]^\\intercal$, tedy o jednu posunutý oproti předchozímu bodu. Tedy použijeme stejný postup, jen na jinak posunutá data."
   ]
  },
  {
   "cell_type": "code",
   "execution_count": null,
   "metadata": {},
   "outputs": [],
   "source": [
    "pred = []\n",
    "for t in range(ndat):\n",
    "    if t < ARorder or t == ndat:\n",
    "        pred.append(0)\n",
    "        continue\n",
    "    \n",
    "    data_for_pred = np.flip(***)\n",
    "    pred.append(np.dot(***, np.insert(***))\n",
    "    \n",
    "    regressor = np.insert(np.flip(data[t-ARorder:t],0), 0, 1)\n",
    "    xt = data[t]\n",
    "    ar.update(xt, regressor)\n",
    "    ar.log()"
   ]
  },
  {
   "cell_type": "markdown",
   "metadata": {},
   "source": [
    "V proměnných níže najdeme online získávané odhady a predikce. Protože vznikají jako pythoní typ `list`, uděláme z nich numpy pole."
   ]
  },
  {
   "cell_type": "code",
   "execution_count": null,
   "metadata": {},
   "outputs": [],
   "source": [
    "Ebeta_log = np.array(ar.Ebeta_log)\n",
    "varbeta_log = np.array(ar.var_beta_log)\n",
    "Esigma2_log = np.array(ar.Esigma2_log)\n",
    "varsigma2_log = np.array(ar.var_sigma2_log)\n",
    "pred = np.array(pred)"
   ]
  },
  {
   "cell_type": "markdown",
   "metadata": {},
   "source": [
    "Nyní vykreslíme vývoj odhadů regresních koeficientů v `Ebeta_log` včetně 3-sigma pásu z `varbeta_log`."
   ]
  },
  {
   "cell_type": "code",
   "execution_count": null,
   "metadata": {},
   "outputs": [],
   "source": [
    "plt.figure(figsize=(14, 2*ARorder))\n",
    "for i in range(ARorder+1):\n",
    "    plt.subplot(ARorder+1, 1, i+1)\n",
    "    plt.plot(***)\n",
    "    plt.plot(*** + 3*np.sqrt(varbeta_log[:,i]), 'gray')\n",
    "    plt.plot(*** - 3*np.sqrt(varbeta_log[:,i]), 'gray')\n",
    "plt.show()"
   ]
  },
  {
   "cell_type": "markdown",
   "metadata": {},
   "source": [
    "Totéž uděláme s odhadem variance šumu `Esigma2_log` a jaho variancí `varsigma2_log`."
   ]
  },
  {
   "cell_type": "code",
   "execution_count": null,
   "metadata": {},
   "outputs": [],
   "source": [
    "plt.figure(figsize=(14,3))\n",
    "plt.plot(Esigma2_log)\n",
    "plt.plot(Esigma2_log - ***)\n",
    "plt.plot(Esigma2_log + ***)"
   ]
  },
  {
   "cell_type": "markdown",
   "metadata": {},
   "source": [
    "Nakonec se podíváme na to nejzajímavější - jak si stály predikce ve srovnání se skutečností a určíme RMSE, střední kvadratickou chybu predikce \n",
    "\n",
    "$$\n",
    "RMSE = \\sqrt{\\frac{1}{n} \\sum_{i=1}^{n} (X_i - \\hat{X_i})^2}.\n",
    "$$\n",
    "\n",
    "Na závěr vykreslíme histogram reziduí."
   ]
  },
  {
   "cell_type": "code",
   "execution_count": null,
   "metadata": {
    "scrolled": true
   },
   "outputs": [],
   "source": [
    "plt.figure(figsize=(14, 4))\n",
    "plt.plot(pred, '+')\n",
    "plt.plot(data)\n",
    "plt.show()\n",
    "residues = pred[***] - data[***]\n",
    "print(\"RMSE: \", ***)\n",
    "plt.hist(***)\n",
    "plt.show()"
   ]
  }
 ],
 "metadata": {
  "kernelspec": {
   "display_name": "Python 3",
   "language": "python",
   "name": "python3"
  },
  "language_info": {
   "codemirror_mode": {
    "name": "ipython",
    "version": 3
   },
   "file_extension": ".py",
   "mimetype": "text/x-python",
   "name": "python",
   "nbconvert_exporter": "python",
   "pygments_lexer": "ipython3",
   "version": "3.6.5"
  }
 },
 "nbformat": 4,
 "nbformat_minor": 2
}
