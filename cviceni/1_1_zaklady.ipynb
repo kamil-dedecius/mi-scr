{
 "cells": [
  {
   "cell_type": "code",
   "execution_count": null,
   "metadata": {},
   "outputs": [],
   "source": [
    "import numpy as np\n",
    "import matplotlib.pylab as plt"
   ]
  },
  {
   "cell_type": "markdown",
   "metadata": {},
   "source": [
    "# Základní operace s časovou řadou\n",
    "\n",
    "V tomto příkladu použijeme časovou řadu popisující měsíční počet narozených dětí v New Yorku od ledna 1946 do prosince 1959. Tato řada je uložena v souboru 'nybirths.dat'.\n",
    "\n",
    "**Úkol 1: načtěte do proměnné `data` soubor nybirths.dat jako numpy array a vytiskněte prvních 20 hodnot.**"
   ]
  },
  {
   "cell_type": "code",
   "execution_count": null,
   "metadata": {},
   "outputs": [],
   "source": [
    "fn = 'nybirths.dat'\n",
    "data = ***\n",
    "data[***]"
   ]
  },
  {
   "cell_type": "markdown",
   "metadata": {},
   "source": [
    "**Úkol 2: zjistěte, kolik hodnot je v řadě uloženo.**"
   ]
  },
  {
   "cell_type": "code",
   "execution_count": null,
   "metadata": {},
   "outputs": [],
   "source": [
    "data.***"
   ]
  },
  {
   "cell_type": "markdown",
   "metadata": {},
   "source": [
    "**Úkol 3: vykreslete průběh časové řady a diskutujte její pravděpodobné vlastnosti.**"
   ]
  },
  {
   "cell_type": "code",
   "execution_count": null,
   "metadata": {},
   "outputs": [],
   "source": [
    "plt.figure(figsize=(14,5))\n",
    "***"
   ]
  },
  {
   "cell_type": "markdown",
   "metadata": {},
   "source": [
    "**Úkol 4: rozložte časovou řadu na trend atd.**"
   ]
  },
  {
   "cell_type": "code",
   "execution_count": null,
   "metadata": {},
   "outputs": [],
   "source": [
    "import pandas as pd\n",
    "from statsmodels.tsa.seasonal import seasonal_decompose\n",
    "from statsmodels.tsa.stattools import acf\n",
    "\n",
    "result = seasonal_decompose(data, freq=12, model='additive')\n",
    "resid_acf = acf(result.resid, nlags=10, missing='drop')\n",
    "sum_of_squares_resid_acf = np.sum(resid_acf**2)\n",
    "print('Suma kvadrátů reziduí ACF:', sum_of_squares_resid_acf)\n",
    "\n",
    "result.plot()\n",
    "plt.show()"
   ]
  },
  {
   "cell_type": "markdown",
   "metadata": {},
   "source": [
    "**Úkol 5: Odstraňte trend z časové řady a vykreslete výsledek.**"
   ]
  },
  {
   "cell_type": "code",
   "execution_count": null,
   "metadata": {},
   "outputs": [],
   "source": [
    "detrended = ***\n",
    "plt.plot(detrended)"
   ]
  }
 ],
 "metadata": {
  "kernelspec": {
   "display_name": "Python 3",
   "language": "python",
   "name": "python3"
  },
  "language_info": {
   "codemirror_mode": {
    "name": "ipython",
    "version": 3
   },
   "file_extension": ".py",
   "mimetype": "text/x-python",
   "name": "python",
   "nbconvert_exporter": "python",
   "pygments_lexer": "ipython3",
   "version": "3.6.5"
  }
 },
 "nbformat": 4,
 "nbformat_minor": 2
}
