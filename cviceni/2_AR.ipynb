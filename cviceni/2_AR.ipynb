{
 "cells": [
  {
   "cell_type": "code",
   "execution_count": null,
   "metadata": {},
   "outputs": [],
   "source": [
    "import numpy as np\n",
    "import matplotlib.pylab as plt\n",
    "import matplotlib.cbook\n",
    "import pandas as pd\n",
    "from statsmodels.graphics.tsaplots import plot_acf, plot_pacf\n",
    "from statsmodels.tsa.ar_model import AR\n",
    "import sys\n",
    "sys.path.append('../zdrojaky')\n",
    "from tsplot import tsplot\n",
    "import warnings\n",
    "warnings.simplefilter(action='ignore', category=(FutureWarning,matplotlib.cbook.mplDeprecation))"
   ]
  },
  {
   "cell_type": "markdown",
   "metadata": {},
   "source": [
    "# Konstrukce a odhad AR modelu\n",
    "\n",
    "Máme k dispozici burzovní ceny akcií společnosti Google v období od 7. února 2005 do 7. července 2005. Ty jsou uloženy v souboru `googlestock.txt`, který vypadá následovně:\n",
    "```\n",
    "date\t   price\n",
    "2/7/2005    196.03\n",
    "2/8/2005    198.64\n",
    "2/9/2005    191.58\n",
    "2/10/2005   187.98\n",
    "2/11/2005   187.4\n",
    "2/14/2005   192.99\n",
    "```\n",
    "\n",
    "Načtěte data z druhého sloupce do proměnné `data`, ideálně pro jednoduchost do numpy.array. Do proměnné `ndat` uložte počet měření a vykreslete řadu, ACF a PACF pomocí funkce `tsplot()`. Interpretujte, co grafy znázorňují."
   ]
  },
  {
   "cell_type": "code",
   "execution_count": null,
   "metadata": {},
   "outputs": [],
   "source": [
    "data = np.genfromtxt('googlestock.txt', ***)\n",
    "ndat = data.size\n",
    "tsplot(data)"
   ]
  },
  {
   "cell_type": "markdown",
   "metadata": {},
   "source": [
    "Vykreslete 4 grafy - scatterploty - znázorňující závislost pozorované veličiny (ceny) v čase $t$ na ceně v předchozích 4 časech $t-1$, $t-2$, $t-3$ a $t-4$. Pozor na stejná měřítka os. Interpretujte grafy, navíc s pomocí ACF a PACF. "
   ]
  },
  {
   "cell_type": "code",
   "execution_count": null,
   "metadata": {},
   "outputs": [],
   "source": [
    "plt.figure(figsize=(10, 6))\n",
    "for i in range(4):\n",
    "    plt.subplot(1,4,i+1)\n",
    "    plt.scatter(data[***], data[***])\n",
    "    plt.title('Lag: {0}'.format(i+1))\n",
    "    plt.axis('image')"
   ]
  },
  {
   "cell_type": "markdown",
   "metadata": {},
   "source": [
    "NaFITujte mautoregresní model `AR` z balíčku `statsmodels.tsa.ar_model` na data. Je potřeba vhodně zvolit argument `maxlag`, jinak dostanete model výrazně komplikovanější. K tomu se lze propracovat kromě ACF/PACF rovněž pomocí metody `AR.select_order()`, jejíž nápovědu nalezneme rovněž níže. K dispozici máme několik kritérií IC - _information criterion_, vždy hledáme model s menší hodnotou kritéria. Oblíbená jsou:\n",
    "\n",
    "- [AIC - Akaikeho informační kritérium](https://en.wikipedia.org/wiki/Akaike_information_criterion) - měří kvalitu FITu pomocí vztahu $AIC = 2p - 2\\ln(L)$, kde $p$ je počet parametrů a $L$ je likelihood, věrohodnost fitovaných dat. Je asymptoticky ekvivalentní k leave-one-out křížové validaci lineárních regresních modelů.\n",
    "- [BIC - Bayesovské informační kritérium](https://en.wikipedia.org/wiki/Bayesian_information_criterion) - funguje podobně, akorát podle vztahu $BIC = \\ln(n)k - 2\\ln(L)$, kde $n$ počet dat."
   ]
  },
  {
   "cell_type": "code",
   "execution_count": null,
   "metadata": {},
   "outputs": [],
   "source": [
    "#help(AR)"
   ]
  },
  {
   "cell_type": "code",
   "execution_count": null,
   "metadata": {},
   "outputs": [],
   "source": [
    "model = AR(data)\n",
    "order = model.select_order(maxlag=***, ic=***, trend=*** , method='cmle')\n",
    "print('Řád AR modelu: ', order)"
   ]
  },
  {
   "cell_type": "markdown",
   "metadata": {},
   "source": [
    "Nyní budeme FITovat :-)\n",
    "Do proměnné `beta` uložte odhady (parametry) z FITu a koukněte na konfidenční intervaly na standardní hladině spolehlivosti 95%."
   ]
  },
  {
   "cell_type": "code",
   "execution_count": null,
   "metadata": {},
   "outputs": [],
   "source": [
    "result = model.fit(maxlag=***)\n",
    "beta = result.***\n",
    "print('Odhad vektoru regresních koeficientů: ', beta)\n",
    "print('Konfidenční intervaly pro parametry (v řádcích):\\n', result.conf_int())"
   ]
  },
  {
   "cell_type": "markdown",
   "metadata": {},
   "source": [
    "Zajímá nás obvykle i odhad variance šumu. Uložte jej do proměnné `sigma2` a vytiskněte."
   ]
  },
  {
   "cell_type": "code",
   "execution_count": null,
   "metadata": {},
   "outputs": [],
   "source": [
    "sigma2 = result.***\n",
    "print(f'Odhad variance šumu: {sigma2:.3f}')"
   ]
  },
  {
   "cell_type": "markdown",
   "metadata": {},
   "source": [
    "Mělo by nás zajímat, zda je proces stacionární. To zjistíme z kořenů charakteristického polynomu položeného rovno nule:\n",
    "\n",
    "$$\n",
    "1 - \\beta_1 z - \\beta_2 z^2 - \\ldots - \\beta_p z^p  = 0,\n",
    "$$\n",
    "\n",
    "což v našem případě vede na jednoduchou rovnici\n",
    "\n",
    "$$\n",
    "1 - \\beta_1 z = 0,\n",
    "$$\n",
    "\n",
    "s řešením\n",
    "\n",
    "$$\n",
    "z = \\frac{1}{\\beta_1}.\n",
    "$$\n",
    "\n",
    "Statsmodels toto spočte za nás:"
   ]
  },
  {
   "cell_type": "code",
   "execution_count": null,
   "metadata": {},
   "outputs": [],
   "source": [
    "print('Kořen charakteristického polynomu: ', result.***)"
   ]
  },
  {
   "cell_type": "markdown",
   "metadata": {},
   "source": [
    "Že proces není stacionární jsme v tomto jednoduchém případě poznali už z $|\\beta_1|>1$. U složitějších modelů už by to takto přímočaře nešlo."
   ]
  },
  {
   "cell_type": "markdown",
   "metadata": {},
   "source": [
    "Zkusíme i pár predikcí budoucích hodnot, jejichž počet si předdefinujeme v proměnné `npreds`. K predikování můžeme použít jak metodu `result.predict()`, tak predikci pomocí skalárního součinu $[1, X_{t-1}]^\\intercal \\beta$.\n",
    "\n",
    "Napočítejte 100 kroků predikce:"
   ]
  },
  {
   "cell_type": "code",
   "execution_count": null,
   "metadata": {},
   "outputs": [],
   "source": [
    "npreds = 100\n",
    "***"
   ]
  },
  {
   "cell_type": "markdown",
   "metadata": {},
   "source": [
    "Vykreslíme data následovaná predikcemi."
   ]
  },
  {
   "cell_type": "code",
   "execution_count": null,
   "metadata": {},
   "outputs": [],
   "source": [
    "plt.plot(np.arange(ndat), data[:ndat], 'b')\n",
    "plt.plot(np.arange(ndat, ndat+npreds), ***, 'r')"
   ]
  },
  {
   "cell_type": "markdown",
   "metadata": {},
   "source": [
    "V `result.resid` najdeme rezidua regrese na datech, pomocí kterých jsme počítali odhady. Velmi užitečné je kouknout na jejich rozdělení, resp. histogram. Čekali bychom rezidua centrovaná v počátku, ideálně i symetrická."
   ]
  },
  {
   "cell_type": "code",
   "execution_count": null,
   "metadata": {},
   "outputs": [],
   "source": [
    "plt.hist(result.resid, bins=15)\n",
    "plt.show()"
   ]
  },
  {
   "cell_type": "markdown",
   "metadata": {},
   "source": [
    "**Mnohé z výše uvedených analýz lze zobrazit metodou `summary` :)**"
   ]
  },
  {
   "cell_type": "code",
   "execution_count": null,
   "metadata": {},
   "outputs": [],
   "source": [
    "result.summary()"
   ]
  }
 ],
 "metadata": {
  "kernelspec": {
   "display_name": "Python 3",
   "language": "python",
   "name": "python3"
  },
  "language_info": {
   "codemirror_mode": {
    "name": "ipython",
    "version": 3
   },
   "file_extension": ".py",
   "mimetype": "text/x-python",
   "name": "python",
   "nbconvert_exporter": "python",
   "pygments_lexer": "ipython3",
   "version": "3.8.3"
  }
 },
 "nbformat": 4,
 "nbformat_minor": 4
}
