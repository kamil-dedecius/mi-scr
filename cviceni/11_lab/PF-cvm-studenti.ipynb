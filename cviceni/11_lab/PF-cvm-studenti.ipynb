{
 "cells": [
  {
   "cell_type": "code",
   "execution_count": 1,
   "metadata": {},
   "outputs": [],
   "source": [
    "import numpy as np\n",
    "from scipy.stats import multivariate_normal as mvn\n",
    "import matplotlib.pylab as plt\n",
    "import sys\n",
    "from trajectory import trajectory\n",
    "np.set_printoptions(precision=2)"
   ]
  },
  {
   "cell_type": "markdown",
   "metadata": {},
   "source": [
    "# Particle filter: Constant velocity model podruhé\n",
    "\n",
    "Cílem tohoto cvičení je filtrace polohy objektu pohybujícího se na ploše, tj. ve 2D, tentokrát ale particle filtrem. Model je lineární a PF tak přinese jen zvýšené výpočetní nároky oproti KF, nicméně jako vstup do světa particle filtrace je to dobré cvičení.\n",
    "\n",
    "Připomeňme, že cílem je odhadovat stavový vektor sestávající se z polohy v osách $x_1$ a $x_2$ a rychlostech v obou těchto osách.\n",
    "\n",
    "$$\n",
    "x_t =\n",
    "\\begin{bmatrix}\n",
    "x_{1,t} \\\\ \n",
    "x_{2,t} \\\\ \n",
    "v_{x_1,t} \\\\ \n",
    "v_{x_2,t}\n",
    "\\end{bmatrix}\n",
    "$$\n",
    "\n",
    "Víme, že pro polohu v první ose platí\n",
    "\n",
    "$$\n",
    "x_{1,t} = x_{1,t-1} + v_{x_1,t} dt + w_{x_1,t},\n",
    "$$\n",
    "\n",
    "a že analogicky platí totéž i pro polohu v ose druhé. Abychom se nemuseli zaobírat zrychlením, budeme uvažovat, že rychlost je stejná a její změny jsou způsobeny jen šumem,\n",
    "\n",
    "$$\n",
    "v_{x_1,t} = v_{x_1, t-1} + w_{vx_1, t}.\n",
    "$$\n",
    "\n",
    "Analogicky pro druhou složku rychlosti. K dispozici jsou jen měření polohy v obou osách a to v časovém kroku 1s.\n",
    "\n",
    "Potřebujeme tedy sestavit stavový model\n",
    "\n",
    "$$\n",
    "\\begin{aligned}\n",
    "x_t &\\sim \\mathcal{N}(Ax_{t-1} + Bu_t, Q),\\\\\n",
    "y_t &\\sim \\mathcal{N}(Hx_{t}, R).\n",
    "\\end{aligned}\n",
    "$$\n",
    "\n",
    "Kovarianční matice nám musí někdo dodat, níže jsou uvedeny."
   ]
  },
  {
   "cell_type": "markdown",
   "metadata": {},
   "source": [
    "\\begin{align*}\n",
    "    A &=\n",
    "    \\begin{bmatrix}\n",
    "       1 & 0 & dt & 0 \\\\\n",
    "       0 & 1 & 0 & dt \\\\\n",
    "       0 & 0 & 1 &  0 \\\\\n",
    "       0 & 0 & 0 &  1 \n",
    "    \\end{bmatrix},\n",
    "    \\quad\n",
    "    &Q &= q\\cdot\n",
    "    \\begin{bmatrix}\n",
    "        \\frac{dt^3}{3}    & 0                 & \\frac{dt^{2}}{2}  & 0  \\\\\n",
    "        0                 & \\frac{dt^3}{3}    & 0                 & \\frac{dt^{2}}{2} \\\\\n",
    "        \\frac{dt^{2}}{2}  & 0                 & dt                & 0 \\\\\n",
    "        0                 & \\frac{dt^{2}}{2}  & 0                 & dt\n",
    "    \\end{bmatrix}\n",
    "    \\notag \\\\\n",
    "    H &=\n",
    "    \\begin{bmatrix}\n",
    "        1 & 0 &0 & 0 \\\\\n",
    "        0 & 1 &0 & 0\n",
    "    \\end{bmatrix}\n",
    "    \\quad\n",
    "    &R &=\n",
    "    r^{2}\\cdot\n",
    "    \\begin{bmatrix}\n",
    "        1 & 0 \\\\\n",
    "        0 & 1\n",
    "    \\end{bmatrix}\n",
    "\\end{align*}\n",
    "\n",
    "kde $dt = 1$, $q = .5$, $r=3$."
   ]
  },
  {
   "cell_type": "code",
   "execution_count": 2,
   "metadata": {},
   "outputs": [],
   "source": [
    "q = .5\n",
    "dt = 1.\n",
    "r = 3.\n",
    "A = np.array([[1, 0, dt, 0],\n",
    "              [0, 1, 0, dt],\n",
    "              [0, 0, 1,  0],\n",
    "              [0, 0, 0,  1]])\n",
    "Q = q * np.array([[dt**3/3, 0      , dt**2/2, 0      ],\n",
    "                  [0,       dt**3/3, 0,       dt**2/2],\n",
    "                  [dt**2/2, 0,       dt,      0      ],\n",
    "                  [0,       dt**2/2, 0,       dt     ]])\n",
    "H = np.array([[1., 0, 0, 0],\n",
    "              [0., 1, 0, 0]])\n",
    "R = r**2 * np.eye(2)"
   ]
  },
  {
   "cell_type": "markdown",
   "metadata": {},
   "source": [
    "**Vykreslíme si sledovanou polohu křížky.**"
   ]
  },
  {
   "cell_type": "code",
   "execution_count": 3,
   "metadata": {},
   "outputs": [
    {
     "data": {
      "image/png": "[encoded data removed]",
      "text/plain": [
       "<Figure size 720x720 with 1 Axes>"
      ]
     },
     "metadata": {
      "needs_background": "light"
     },
     "output_type": "display_data"
    }
   ],
   "source": [
    "code = 656\n",
    "traj = trajectory(code)\n",
    "plt.figure(figsize=(10, 10))\n",
    "plt.plot(traj.Y[0,:], traj.Y[1,:], '+')\n",
    "plt.axis('equal')\n",
    "plt.show()"
   ]
  },
  {
   "cell_type": "markdown",
   "metadata": {},
   "source": [
    "**Úkol: Dodefinujte proposal distribuci a nasimulujte z ní `nsamples` vzorků. Proposal bude N(0, 10I)**"
   ]
  },
  {
   "cell_type": "code",
   "execution_count": null,
   "metadata": {},
   "outputs": [],
   "source": [
    "ndat = traj.ndat\n",
    "nsamples = ***\n",
    "proposal_loc = ***\n",
    "proposal_cov = ***\n",
    "\n",
    "samples_x = *** # Použijte mvn\n",
    "weights = ***\n",
    "print(\"Kontrola vah: 1 =\", weights.sum())"
   ]
  },
  {
   "cell_type": "markdown",
   "metadata": {},
   "source": [
    "**Úkol: doplňte funkce**"
   ]
  },
  {
   "cell_type": "code",
   "execution_count": null,
   "metadata": {},
   "outputs": [],
   "source": [
    "# Logs\n",
    "log_x = np.zeros((4, ndat))\n",
    "\n",
    "def prediction(samples_x):\n",
    "    # Funkce bude predikovat nové vzorky z předcházejících aposteriorních vzorků\n",
    "    # Váhy se nemění, pozor na return\n",
    "    return samples_x_new\n",
    "\n",
    "def update(yt, samples_x, weights):\n",
    "    # Funkce bude updatovat vzorky. Nemění se jejich poloha v R^4, ale váhy.\n",
    "    # Pozor na return\n",
    "    return weights\n",
    "\n",
    "def resample(samples_x, weights):\n",
    "    # Funkce provede resampling. Pozor na výsledné váhy a return.\n",
    "    return [samples_x_new, weights]"
   ]
  },
  {
   "cell_type": "markdown",
   "metadata": {},
   "source": [
    "**Zkusíme pustit filtr. Dodefinujte `estimate` - bude to bodový odhad.**"
   ]
  },
  {
   "cell_type": "code",
   "execution_count": null,
   "metadata": {},
   "outputs": [],
   "source": [
    "for t, yt in enumerate(traj.Y.T):\n",
    "    \n",
    "    # Resampling\n",
    "    samples_x, weights = resample(samples_x, weights)\n",
    "    \n",
    "    # Prediction\n",
    "    samples_x = prediction(samples_x)\n",
    "\n",
    "    # Update\n",
    "    weights = update(yt, samples_x, weights)\n",
    "    \n",
    "    # Estimate & log\n",
    "    estimate = np.sum(samples_x * weights[:,np.newaxis], axis=0)\n",
    "    log_x[:,t] = estimate"
   ]
  },
  {
   "cell_type": "markdown",
   "metadata": {},
   "source": [
    "### Výsledky: \n",
    "\n",
    "**1. Poloha - měření, skutečnost a odhad:**"
   ]
  },
  {
   "cell_type": "code",
   "execution_count": null,
   "metadata": {},
   "outputs": [],
   "source": [
    "plt.figure(figsize=(10,10))\n",
    "plt.plot(traj.Y[0,:], traj.Y[1,:], '.', label='Měření')\n",
    "plt.plot(log_x[0,:], log_x[1,:], '-', color='red', label='Filtrovaný odhad')\n",
    "plt.plot(traj.X[0,:], traj.X[1,:], 'k', label='Skutečnost')\n",
    "plt.grid(True)\n",
    "plt.axis('equal')\n",
    "plt.legend()\n",
    "plt.show()"
   ]
  },
  {
   "cell_type": "markdown",
   "metadata": {},
   "source": [
    "**2. Poloha v jednotlivých souřadnicích**"
   ]
  },
  {
   "cell_type": "code",
   "execution_count": null,
   "metadata": {},
   "outputs": [],
   "source": [
    "plt.figure(figsize=(10,10))\n",
    "plt.subplot(2,1,1)\n",
    "plt.title('Vodorovné souřadnice')\n",
    "plt.plot(traj.Y[0,:], '.', label='Měření')\n",
    "plt.plot(log_x[0,:], '-', color='red', label='Filtrovaný odhad')\n",
    "plt.plot(traj.X[0,:], 'k', label='Skutečnost')\n",
    "plt.grid(True)\n",
    "plt.legend()\n",
    "plt.subplot(2,1,2)\n",
    "plt.title('Svislé souřadnice')\n",
    "plt.plot(traj.Y[1,:], '.', label='Měření')\n",
    "plt.plot(log_x[1,:], '-', color='red', label='Filtrovaný odhad')\n",
    "plt.plot(traj.X[1,:], 'k', label='Skutečnost')\n",
    "plt.grid(True)\n",
    "plt.legend()\n",
    "plt.show()"
   ]
  },
  {
   "cell_type": "markdown",
   "metadata": {},
   "source": [
    "**3. Rychlost v jednotlivých souřadnicích**"
   ]
  },
  {
   "cell_type": "code",
   "execution_count": null,
   "metadata": {},
   "outputs": [],
   "source": [
    "plt.figure(figsize=(10, 4))\n",
    "plt.subplot(1,2,1)\n",
    "plt.title('Vodorovné souřadnice')\n",
    "plt.plot(log_x[2,:], 'r', label='Odhad')\n",
    "plt.plot(traj.X[2,:], 'k', label='Skutečnost')\n",
    "plt.legend()\n",
    "plt.subplot(1,2,2)\n",
    "plt.title('Svislé souřadnice')\n",
    "plt.plot(log_x[3,:], label='Odhad')\n",
    "plt.plot(traj.X[3,:], 'k', label='Skutečnost')\n",
    "plt.legend()\n",
    "plt.show()"
   ]
  },
  {
   "cell_type": "markdown",
   "metadata": {},
   "source": [
    "**Úkoly:**\n",
    "- zkuste posadit počáteční particly mimo (např. do [10,...,10])\n",
    "- vysledujte, co se stane, pokud se mění množství particlů\n",
    "- zkuste nasimulovat výpadek měření"
   ]
  }
 ],
 "metadata": {
  "kernelspec": {
   "display_name": "Python 3 (ipykernel)",
   "language": "python",
   "name": "python3"
  },
  "language_info": {
   "codemirror_mode": {
    "name": "ipython",
    "version": 3
   },
   "file_extension": ".py",
   "mimetype": "text/x-python",
   "name": "python",
   "nbconvert_exporter": "python",
   "pygments_lexer": "ipython3",
   "version": "3.9.18"
  }
 },
 "nbformat": 4,
 "nbformat_minor": 4
}
