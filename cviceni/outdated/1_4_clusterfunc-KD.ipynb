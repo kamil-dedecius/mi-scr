{
 "cells": [
  {
   "cell_type": "code",
   "execution_count": 1,
   "metadata": {},
   "outputs": [],
   "source": [
    "import numpy as np\n",
    "import matplotlib.pylab as plt"
   ]
  },
  {
   "cell_type": "markdown",
   "metadata": {},
   "source": [
    "# Odhad přechodové matice v aplikaci\n",
    "\n",
    "Máme k dispozici klastr 3 výpočetních strojů běžících v load balancingu. Supervizorský uzel, který rozděluje úlohy pro jednotlivé výpočetní uzly loguje situaci následovně:\n",
    "\n",
    "- A: 3 uzly k dispozici (\"OK\")\n",
    "- B: 2 uzly k dispozici (\"OK\")\n",
    "- C: 1 uzel k dispozici (\"OK\")\n",
    "- D: 0 uzlů k dispozici (\"failure\")\n",
    "\n",
    "Mezi stavy se přepíná podle množství příchozích úloh a máme předpoklad, že toto přepínání lze modelovat homogenním markovským řetězcem. Ze stavu D se může objevit přeskok až do stavu A, např. v důsledku resetu klusteru.\n",
    "\n",
    "K dispozici jsou měření v souboru \"clusterfunc.txt\".\n",
    "\n",
    "**Úkol 1: otevřete soubor a vytvořte pole `mc`, v němž budou stavy reprezentovány číslicemi 0 (A) až 3 (D)**"
   ]
  },
  {
   "cell_type": "code",
   "execution_count": 2,
   "metadata": {},
   "outputs": [],
   "source": [
    "fn = 'clusterfunc.txt'\n",
    "with open(fn, 'r') as f:\n",
    "    mc = f.read()\n",
    "\n",
    "mc = [ord(i) - 97 for i in mc]\n",
    "mc = np.array(mc)"
   ]
  },
  {
   "cell_type": "markdown",
   "metadata": {},
   "source": [
    "**Úkol 2: vytvořte matici `trans_counts` a uložte do ní počty přechodů mezi jednotlivými stavy. Vykreslete tuto matici pomocí plt.imshow(), přidejte plt.colorbar() a interpretujte graf.**"
   ]
  },
  {
   "cell_type": "code",
   "execution_count": 3,
   "metadata": {},
   "outputs": [
    {
     "name": "stdout",
     "output_type": "stream",
     "text": [
      "[[1186. 1494.  168.  156.]\n",
      " [1310. 1609. 1342.  206.]\n",
      " [ 381. 1158.  391.   99.]\n",
      " [ 128.  205.  128.   38.]]\n"
     ]
    },
    {
     "data": {
      "image/png": "[encoded data removed]",
      "text/plain": [
       "<Figure size 432x288 with 2 Axes>"
      ]
     },
     "metadata": {
      "needs_background": "light"
     },
     "output_type": "display_data"
    }
   ],
   "source": [
    "nstates = np.unique(mc).size\n",
    "trans_counts = np.zeros((nstates, nstates))\n",
    "\n",
    "for (i,j) in zip(mc, mc[1:]):\n",
    "    trans_counts[i,j] += 1\n",
    "    \n",
    "print(trans_counts)\n",
    "plt.imshow(trans_counts)\n",
    "plt.colorbar()\n",
    "plt.show()"
   ]
  },
  {
   "cell_type": "markdown",
   "metadata": {},
   "source": [
    "**Úkol 3: vypočítejte matici přechodu $P$. Vykreslete opět obrázek a interpretujte.**"
   ]
  },
  {
   "cell_type": "code",
   "execution_count": 4,
   "metadata": {},
   "outputs": [
    {
     "name": "stdout",
     "output_type": "stream",
     "text": [
      "[[0.39480692 0.49733688 0.05592543 0.05193076]\n",
      " [0.2932617  0.360197   0.30042534 0.04611596]\n",
      " [0.18777723 0.57072449 0.19270577 0.04879251]\n",
      " [0.25651303 0.41082164 0.25651303 0.0761523 ]]\n"
     ]
    },
    {
     "data": {
      "image/png": "[encoded data removed]",
      "text/plain": [
       "<Figure size 432x288 with 2 Axes>"
      ]
     },
     "metadata": {
      "needs_background": "light"
     },
     "output_type": "display_data"
    }
   ],
   "source": [
    "P = trans_counts / trans_counts.sum(axis=1).reshape(-1, 1)\n",
    "print(P)\n",
    "plt.imshow(P)\n",
    "plt.colorbar()\n",
    "plt.show()"
   ]
  },
  {
   "cell_type": "markdown",
   "metadata": {},
   "source": [
    "**Úkol 4: nakreslete přechodový graf**"
   ]
  },
  {
   "cell_type": "code",
   "execution_count": 5,
   "metadata": {},
   "outputs": [],
   "source": [
    "# samostatně na papír"
   ]
  },
  {
   "cell_type": "markdown",
   "metadata": {},
   "source": [
    "**Úkol 5: vyšetřete stacionární rozdělení.**"
   ]
  },
  {
   "cell_type": "code",
   "execution_count": 6,
   "metadata": {},
   "outputs": [
    {
     "name": "stdout",
     "output_type": "stream",
     "text": [
      "[[0.30054429 0.44665505 0.20289505 0.04990561]\n",
      " [0.30054429 0.44665505 0.20289505 0.04990561]\n",
      " [0.30054429 0.44665505 0.20289505 0.04990561]\n",
      " [0.30054429 0.44665505 0.20289505 0.04990561]]\n"
     ]
    }
   ],
   "source": [
    "P1000 = np.linalg.matrix_power(P, 1000)\n",
    "print(P1000)"
   ]
  },
  {
   "cell_type": "code",
   "execution_count": null,
   "metadata": {},
   "outputs": [],
   "source": []
  }
 ],
 "metadata": {
  "kernelspec": {
   "display_name": "Python 3",
   "language": "python",
   "name": "python3"
  },
  "language_info": {
   "codemirror_mode": {
    "name": "ipython",
    "version": 3
   },
   "file_extension": ".py",
   "mimetype": "text/x-python",
   "name": "python",
   "nbconvert_exporter": "python",
   "pygments_lexer": "ipython3",
   "version": "3.8.3"
  }
 },
 "nbformat": 4,
 "nbformat_minor": 2
}
