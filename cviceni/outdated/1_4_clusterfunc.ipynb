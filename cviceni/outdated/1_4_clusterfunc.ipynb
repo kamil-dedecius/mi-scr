{
 "cells": [
  {
   "cell_type": "code",
   "execution_count": null,
   "metadata": {},
   "outputs": [],
   "source": [
    "import numpy as np\n",
    "import matplotlib.pylab as plt"
   ]
  },
  {
   "cell_type": "markdown",
   "metadata": {},
   "source": [
    "# Odhad přechodové matice v aplikaci\n",
    "\n",
    "Máme k dispozici klastr 3 výpočetních strojů běžících v load balancingu. Supervizorský uzel, který rozděluje úlohy pro jednotlivé výpočetní uzly loguje situaci následovně:\n",
    "\n",
    "- A: 3 uzly k dispozici (\"OK\")\n",
    "- B: 2 uzly k dispozici (\"OK\")\n",
    "- C: 1 uzel k dispozici (\"OK\")\n",
    "- D: 0 uzlů k dispozici (\"failure\")\n",
    "\n",
    "Mezi stavy se přepíná podle množství příchozích úloh a máme předpoklad, že toto přepínání lze modelovat homogenním markovským řetězcem. Ze stavu D se může objevit přeskok až do stavu A, např. v důsledku resetu klusteru.\n",
    "\n",
    "K dispozici jsou měření v souboru \"clusterfunc.txt\".\n",
    "\n",
    "**Úkol 1: otevřete soubor a vytvořte pole `mc`, v němž budou stavy reprezentovány číslicemi 0 (A) až 3 (D)**"
   ]
  },
  {
   "cell_type": "code",
   "execution_count": null,
   "metadata": {},
   "outputs": [],
   "source": [
    "fn = 'clusterfunc.txt'\n",
    "with open(fn, 'r') as f:\n",
    "    mc = ***\n",
    "***\n",
    "\n",
    "mc = np.array(mc)"
   ]
  },
  {
   "cell_type": "markdown",
   "metadata": {},
   "source": [
    "**Úkol 2: vytvořte matici `trans_counts` a uložte do ní počty přechodů mezi jednotlivými stavy. Vykreslete tuto matici pomocí plt.imshow(), přidejte plt.colorbar() a interpretujte graf.**"
   ]
  },
  {
   "cell_type": "code",
   "execution_count": null,
   "metadata": {},
   "outputs": [],
   "source": [
    "nstates = np.unique(mc).size\n",
    "trans_counts = np.zeros((nstates, nstates))\n",
    "\n",
    "***\n",
    "\n",
    "print(trans_counts)\n",
    "plt.imshow(trans_counts)\n",
    "plt.colorbar()\n",
    "plt.show()"
   ]
  },
  {
   "cell_type": "markdown",
   "metadata": {},
   "source": [
    "**Úkol 3: vypočítejte matici přechodu $P$. Vykreslete opět obrázek a interpretujte.**"
   ]
  },
  {
   "cell_type": "code",
   "execution_count": null,
   "metadata": {},
   "outputs": [],
   "source": [
    "P = ***\n",
    "print(P)\n",
    "plt.imshow(P)\n",
    "plt.colorbar()\n",
    "plt.show()"
   ]
  },
  {
   "cell_type": "markdown",
   "metadata": {},
   "source": [
    "**Úkol 4: nakreslete přechodový graf**"
   ]
  },
  {
   "cell_type": "code",
   "execution_count": null,
   "metadata": {},
   "outputs": [],
   "source": [
    "# samostatně na papír :)"
   ]
  },
  {
   "cell_type": "markdown",
   "metadata": {},
   "source": [
    "**Úkol 5: vyšetřete (zjednodušeně, simulačně) stacionární rozdělení.**"
   ]
  },
  {
   "cell_type": "code",
   "execution_count": null,
   "metadata": {},
   "outputs": [],
   "source": [
    "P1000 = np.linalg.***\n",
    "print(P1000)"
   ]
  }
 ],
 "metadata": {
  "kernelspec": {
   "display_name": "Python 3",
   "language": "python",
   "name": "python3"
  },
  "language_info": {
   "codemirror_mode": {
    "name": "ipython",
    "version": 3
   },
   "file_extension": ".py",
   "mimetype": "text/x-python",
   "name": "python",
   "nbconvert_exporter": "python",
   "pygments_lexer": "ipython3",
   "version": "3.8.3"
  }
 },
 "nbformat": 4,
 "nbformat_minor": 2
}
