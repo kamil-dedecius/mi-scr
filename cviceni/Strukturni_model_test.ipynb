{
 "cells": [
  {
   "cell_type": "code",
   "execution_count": 4,
   "metadata": {},
   "outputs": [],
   "source": [
    "import numpy as np\n",
    "from scipy.stats import norm\n",
    "import matplotlib.pylab as plt\n",
    "import sys\n",
    "sys.path.insert(0, '../zdrojaky/kf')\n",
    "from trajectory import trajectory\n",
    "np.set_printoptions(precision=2)"
   ]
  },
  {
   "cell_type": "code",
   "execution_count": 41,
   "metadata": {},
   "outputs": [],
   "source": [
    "class KF():\n",
    "    def __init__(self, A, B, H, R, Q):\n",
    "        self.A = A\n",
    "        self.B = B\n",
    "        self.H = H\n",
    "        self.R = R\n",
    "        self.Q = Q\n",
    "        self.P = np.eye(self.Q.shape[0]) * 10000\n",
    "        self.x = np.ones(self.Q.shape[0])\n",
    "        self.log_x = []\n",
    "    \n",
    "    def predict(self, u=None):\n",
    "        xminus = self.A.dot(self.x)\n",
    "        Pminus = self.A.dot(self.P).dot(self.A.T) + self.Q\n",
    "        self.x = xminus\n",
    "        self.P = Pminus\n",
    "    \n",
    "    def correct(self, yt):\n",
    "        HPHT = self.H.dot(self.P).dot(self.H.T)\n",
    "        zavorka_inv = np.linalg.inv(HPHT + self.R)\n",
    "        K = self.P.dot(self.H.T).dot(zavorka_inv)\n",
    "        innovation = yt - self.H.dot(self.x)\n",
    "        xplus = self.x + K.dot(innovation)\n",
    "        zavorka = np.eye(K.shape[0]) - K.dot(self.H)\n",
    "        KRKT = K.dot(self.R).dot(K.T)\n",
    "        Pplus = zavorka.dot(self.P).dot(zavorka.T) + KRKT\n",
    "        self.x = xplus\n",
    "        self.P = Pplus\n",
    "    \n",
    "    def log(self):\n",
    "        self.log_x.append(self.x)"
   ]
  },
  {
   "cell_type": "markdown",
   "metadata": {},
   "source": [
    "# Strukturní modely\n",
    "\n",
    "Už známe klasické modely časových řad typu ARIMA. Existuje ale ještě jedna možnost, jak časové řady modelovat, a sice prostřednictvím tzv. strukturních modelů. Ty jsou modely stavovými, ovšem namísto koeficientů AR či MA částí modelujme přímo vývoj střední hodnoty, sezónních složek atd.\n",
    "\n",
    "V tomto cvičení (které je současně testem) si zkusíme jeden z nejjednodušších a přitom ohromně mocných modelů: lokální lineární trend. Opět budeme mít pozorovanou veličinu $y_t$, která má tentokrát střední hodnotu $\\mu$ a je zatížena normálním šumem $\\varepsilon_t$. Střední hodnotu budeme rovněž modelovat, a sice jako veličinu, která je ovlivněna svou přechozí hodnotou $\\mu_{t-1}$ a šumem $\\xi_t$, ale vstupuje do ní i drift $\\nu_t$. Jedná se tedy o náhodnou procházku s driftem. A abychom dokázali pochytat i dynamiku na střední hodnotě, budeme i samotný drift modelovat jako náhodnou procházku. V řeči statového modelu to bude vypadat následovně (dobře rozmyslete!):"
   ]
  },
  {
   "cell_type": "markdown",
   "metadata": {},
   "source": [
    "$$\n",
    "\\begin{alignat}{2}\n",
    "y_t &= \\mu_t + \\varepsilon_t, \\qquad &\\varepsilon \\sim \\mathcal{N}(0, \\sigma_{\\varepsilon}^2), \\\\\n",
    "\\mu_t &= \\mu_{t-1} + \\nu_{t-1} + \\xi_t, \\qquad &\\xi_t \\sim \\mathcal{N}(0, \\sigma_{\\xi}^2), \\\\\n",
    "\\nu_t &= \\nu_{t-1} + \\zeta_t, \\qquad &\\zeta_t \\sim \\mathcal{N}(0, \\sigma_{\\zeta}^2).\n",
    "\\end{alignat}\n",
    "$$"
   ]
  },
  {
   "cell_type": "markdown",
   "metadata": {},
   "source": [
    "Je důležité myslet na to, že pozorovaná veličina je $y_t$, zatímco nepozorovatelné $\\mu_t$ a $\\nu_t$ budeme uvažovat jako stavy.\n",
    "\n",
    "Zkusíme si systém nasimulovat s nějakými hodnotami variancí (v kódu níže zadávám směrodatné odchylky kvůli scipy!):"
   ]
  },
  {
   "cell_type": "code",
   "execution_count": 297,
   "metadata": {},
   "outputs": [
    {
     "data": {
      "image/png": "[encoded data removed]",
      "text/plain": [
       "<Figure size 432x288 with 1 Axes>"
      ]
     },
     "metadata": {
      "needs_background": "light"
     },
     "output_type": "display_data"
    }
   ],
   "source": [
    "ndat = 300\n",
    "pred = 50\n",
    "sigma_epsilon = 10\n",
    "sigma_xi = .9\n",
    "sigma_zeta = .3\n",
    "mu = np.zeros(ndat)\n",
    "nu = np.zeros(ndat)\n",
    "y = np.zeros(ndat)\n",
    "\n",
    "for t in range(1, ndat):\n",
    "    nu[t] = nu[t-1] + norm.rvs(scale=sigma_zeta)\n",
    "    mu[t] = mu[t-1] + nu[t-1] + norm.rvs(scale=sigma_xi)\n",
    "    y[t] = mu[t] + norm.rvs(scale=sigma_epsilon)\n",
    "    \n",
    "plt.plot(y, label=r'$y_t$')\n",
    "plt.legend()\n",
    "plt.show()"
   ]
  },
  {
   "cell_type": "markdown",
   "metadata": {},
   "source": [
    "Zkuste si pustit simulaci víckrát, ať se seznámíte s flexibilitou modelu. Rovněž zkuste měnit variance jednotlivých šumů a pozorujte, jak se změny projevují (chce to pokaždé více běhů)."
   ]
  },
  {
   "cell_type": "markdown",
   "metadata": {},
   "source": [
    "## Úkol 1:\n",
    "\n",
    "Využijte Kalmanův filtr pro modelování výše uvedeného systému. Tj. sestavte matice (uveďte je zde), pusťte odhad a udělejte predikce i na např. 50 kroků za horizont dat. Vykreslete obrázky, přidejte diskusi o výsledcích."
   ]
  },
  {
   "cell_type": "markdown",
   "metadata": {},
   "source": [
    "## Úkol 2:\n",
    "\n",
    "V souboru '20180224_Gp_part_5m.txt' naleznete měření z přístroje zjišťujícího tok elektronů a protonů v slunečním větru. Tento instrument je umístěn v družici [GOES-15](https://en.wikipedia.org/wiki/GOES_15). Vyberte sloupec s měřeními \"Electrons at >2.0 Mev\" a zkuste jej namodelovat pomocí modelu lokálního lineárního trendu. To znamená, že budete muset vyladit i (neznámé) hodnoty variancí šumu. Nedá to moc práce, ale chce to použít mozek :)\n",
    "\n",
    "Výsledky opět vykreslete a diskutujte, nač jste přišli."
   ]
  }
 ],
 "metadata": {
  "kernelspec": {
   "display_name": "Python 3",
   "language": "python",
   "name": "python3"
  },
  "language_info": {
   "codemirror_mode": {
    "name": "ipython",
    "version": 3
   },
   "file_extension": ".py",
   "mimetype": "text/x-python",
   "name": "python",
   "nbconvert_exporter": "python",
   "pygments_lexer": "ipython3",
   "version": "3.8.3"
  }
 },
 "nbformat": 4,
 "nbformat_minor": 4
}
