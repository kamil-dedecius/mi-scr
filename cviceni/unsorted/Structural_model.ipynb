{
 "cells": [
  {
   "cell_type": "code",
   "execution_count": 1,
   "metadata": {},
   "outputs": [],
   "source": [
    "import numpy as np\n",
    "from scipy.stats import norm\n",
    "import matplotlib.pylab as plt\n",
    "import sys\n",
    "np.set_printoptions(precision=2)"
   ]
  },
  {
   "cell_type": "code",
   "execution_count": 2,
   "metadata": {},
   "outputs": [],
   "source": [
    "class KF():\n",
    "    def __init__(self, A, B, H, R, Q):\n",
    "        self.A = A\n",
    "        self.B = B\n",
    "        self.H = H\n",
    "        self.R = R\n",
    "        self.Q = Q\n",
    "        self.P = np.eye(self.Q.shape[0]) * 10000\n",
    "        self.x = np.ones(self.Q.shape[0])\n",
    "        self.log_x = []\n",
    "    \n",
    "    def predict(self, u=None):\n",
    "        xminus = self.A.dot(self.x)\n",
    "        Pminus = self.A.dot(self.P).dot(self.A.T) + self.Q\n",
    "        self.x = xminus\n",
    "        self.P = Pminus\n",
    "    \n",
    "    def correct(self, yt):\n",
    "        HPHT = self.H.dot(self.P).dot(self.H.T)\n",
    "        bracket_inv = np.linalg.inv(HPHT + self.R)\n",
    "        K = self.P.dot(self.H.T).dot(bracket_inv)\n",
    "        innovation = yt - self.H.dot(self.x)\n",
    "        xplus = self.x + K.dot(innovation)\n",
    "        bracket = np.eye(K.shape[0]) - K.dot(self.H)\n",
    "        KRKT = K.dot(self.R).dot(K.T)\n",
    "        Pplus = zavorka.dot(self.P).dot(bracket.T) + KRKT\n",
    "        self.x = xplus\n",
    "        self.P = Pplus\n",
    "    \n",
    "    def log(self):\n",
    "        self.log_x.append(self.x)"
   ]
  },
  {
   "cell_type": "markdown",
   "metadata": {},
   "source": [
    "# Structural models\n",
    "\n",
    "The structural models are state-space models that provide flexible modelling of various time series. In this task, we focus on the most simple yet very powerful model: the local linear trend model. We assume:\n",
    "- $y_t$ - observed variable\n",
    "- $\\mu$ - hidden mean of $y_t$ influenced by own previous value $\\mu_{t-1}$, a drift variable $\\nu_t$, and a noise $\\xi_t$\n",
    "- $\\nu_t$ - hidden drift, modelled as a random walk with noise $\\zeta_t$.\n",
    "\n",
    "All variables are assumed normal. That is, the state-space model equations read:"
   ]
  },
  {
   "cell_type": "markdown",
   "metadata": {},
   "source": [
    "$$\n",
    "\\begin{alignat}{2}\n",
    "y_t &= \\mu_t + \\varepsilon_t, \\qquad &\\varepsilon \\sim \\mathcal{N}(0, \\sigma_{\\varepsilon}^2), \\\\\n",
    "\\mu_t &= \\mu_{t-1} + \\nu_{t-1} + \\xi_t, \\qquad &\\xi_t \\sim \\mathcal{N}(0, \\sigma_{\\xi}^2), \\\\\n",
    "\\nu_t &= \\nu_{t-1} + \\zeta_t, \\qquad &\\zeta_t \\sim \\mathcal{N}(0, \\sigma_{\\zeta}^2).\n",
    "\\end{alignat}\n",
    "$$"
   ]
  },
  {
   "cell_type": "markdown",
   "metadata": {},
   "source": [
    "Note: $y_t$ is observed, while $\\mu_t$ and $\\nu_t$ are hidden states.\n",
    "\n",
    "Let us try to simulate this series:"
   ]
  },
  {
   "cell_type": "code",
   "execution_count": 3,
   "metadata": {},
   "outputs": [
    {
     "data": {
      "image/png": "[encoded data removed]",
      "text/plain": [
       "<Figure size 432x288 with 1 Axes>"
      ]
     },
     "metadata": {
      "needs_background": "light"
     },
     "output_type": "display_data"
    }
   ],
   "source": [
    "ndat = 300\n",
    "pred = 50\n",
    "sigma_epsilon = 10\n",
    "sigma_xi = .9\n",
    "sigma_zeta = .3\n",
    "mu = np.zeros(ndat)\n",
    "nu = np.zeros(ndat)\n",
    "y = np.zeros(ndat)\n",
    "\n",
    "for t in range(1, ndat):\n",
    "    nu[t] = nu[t-1] + norm.rvs(scale=sigma_zeta)\n",
    "    mu[t] = mu[t-1] + nu[t-1] + norm.rvs(scale=sigma_xi)\n",
    "    y[t] = mu[t] + norm.rvs(scale=sigma_epsilon)\n",
    "    \n",
    "plt.plot(y, label=r'$y_t$')\n",
    "plt.legend()\n",
    "plt.show()"
   ]
  },
  {
   "cell_type": "markdown",
   "metadata": {},
   "source": [
    "Try to run the simulation several times. Experiment with variances."
   ]
  },
  {
   "cell_type": "markdown",
   "metadata": {},
   "source": [
    "## Task 1 (12 pts.):\n",
    "\n",
    "Using the Kalman filter or the particle filter (or both), try to estimates states. That is:\n",
    "1. Formulate the state-space model in the matrix form.\n",
    "2. Prepare the Kalman filter (code above) or the particle filter.\n",
    "3. Feed the filter sequentially with data $y_t$ and estimate states.\n",
    "4. Discuss your results."
   ]
  },
  {
   "cell_type": "markdown",
   "metadata": {},
   "source": [
    "## Task 2 (13 pts.):\n",
    "\n",
    "The file '20180224_Gp_part_5m.txt' contains the record of measurements of the electron and proton flux in the solar wind. These measurements were obtained from an instrument in the [GOES-15](https://en.wikipedia.org/wiki/GOES_15) satelite. \n",
    "\n",
    "Select the column \"Electrons at >2.0 Mev\" and try to model it using the local linear trend model. The unknown variance of the noise can be tuned, e.g., by try-and-fail approach. It's quite easy."
   ]
  },
  {
   "cell_type": "code",
   "execution_count": null,
   "metadata": {},
   "outputs": [],
   "source": []
  }
 ],
 "metadata": {
  "kernelspec": {
   "display_name": "Python 3",
   "language": "python",
   "name": "python3"
  },
  "language_info": {
   "codemirror_mode": {
    "name": "ipython",
    "version": 3
   },
   "file_extension": ".py",
   "mimetype": "text/x-python",
   "name": "python",
   "nbconvert_exporter": "python",
   "pygments_lexer": "ipython3",
   "version": "3.9.1+"
  }
 },
 "nbformat": 4,
 "nbformat_minor": 4
}
