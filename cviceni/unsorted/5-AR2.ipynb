{
 "cells": [
  {
   "cell_type": "code",
   "execution_count": null,
   "metadata": {},
   "outputs": [],
   "source": [
    "import numpy as np\n",
    "from scipy.stats import norm\n",
    "import statsmodels.api as sm\n",
    "import matplotlib.pyplot as plt\n",
    "import sys\n",
    "sys.path.append('../zdrojaky')\n",
    "from tsplot import *"
   ]
  },
  {
   "cell_type": "markdown",
   "metadata": {},
   "source": [
    "# AR(2) model ve `statsmodels`\n",
    "\n",
    "Autoregresní model druhého řádu má tvar\n",
    "\n",
    "$$\n",
    "Y_t = \\phi_1 Y_{t-1} + \\phi_2 Y_{t-2} + \\varepsilon_t, \\qquad \\varepsilon_t \\sim \\mathcal{N}(0, \\sigma^2)\n",
    "$$\n",
    "\n",
    "Označme\n",
    "$$\n",
    "\\mathbf{X}_t = \n",
    "\\begin{bmatrix}\n",
    "Y_t \\\\ Y_{t-1}\n",
    "\\end{bmatrix}\n",
    ",\\qquad\n",
    "\\mathbf{w}_t =\n",
    "\\begin{bmatrix}\n",
    "\\varepsilon_t \\\\ 0\n",
    "\\end{bmatrix},\n",
    "$$\n",
    "\n",
    "potom\n",
    "\n",
    "$$\n",
    "\\begin{align}\n",
    "Y_t &= [1, 0]\\, \\mathbf{X}_t \\\\\n",
    "\\mathbf{X}_t &=\n",
    "\\begin{bmatrix}\n",
    "\\phi_1 & \\phi_2 \\\\\n",
    "1 & 0\n",
    "\\end{bmatrix}\n",
    "\\mathbf{X}_{t-1} + \\mathbf{w}_t.\n",
    "\\end{align}\n",
    "$$\n",
    "\n",
    "Parametry jsou tedy $\\sigma^2, \\phi_1, \\phi_2$"
   ]
  },
  {
   "cell_type": "code",
   "execution_count": null,
   "metadata": {},
   "outputs": [],
   "source": [
    "class AR2Model(sm.tsa.statespace.MLEModel):\n",
    "    def __init__(self, endog):\n",
    "        # Model order\n",
    "        k_states = ***\n",
    "        k_posdef = ***\n",
    "\n",
    "        # Initialize the statespace\n",
    "        super(AR2Model, self).__init__(\n",
    "            endog, k_states=k_states, k_posdef=k_posdef,\n",
    "            initialization='approximate_diffuse',\n",
    "            loglikelihood_burn=k_states\n",
    "        )\n",
    "\n",
    "        # Initialize the matrices\n",
    "        self.ssm['design', ***] = ***\n",
    "        self.ssm['transition', ***] = ***\n",
    "        self.ssm['selection', ***] = ***\n",
    "        \n",
    "\n",
    "    @property\n",
    "    def param_names(self):\n",
    "        return ['sigma2.process', 'phi.1', 'phi.2']\n",
    "\n",
    "    @property\n",
    "    def start_params(self):\n",
    "        return [np.std(self.endog), 0, 0]\n",
    "\n",
    "    def transform_params(self, params):\n",
    "        sigma2 = params[0]**2\n",
    "        return np.r_[sigma2, params[1], params[2]]\n",
    "\n",
    "    def untransform_params(self, params):\n",
    "        sigma2 = params[0]**0.5\n",
    "        return np.r_[sigma2, params[1], params[2]]\n",
    "\n",
    "    def update(self, params, *args, **kwargs):\n",
    "        params = super(AR2Model, self).update(params, *args, **kwargs)\n",
    "        \n",
    "        # State noise covariance\n",
    "        self.ssm['state_cov', ***] = params[***]\n",
    "\n",
    "        # Transition matrix\n",
    "        self.ssm['transition', ***] = params[***]   "
   ]
  },
  {
   "cell_type": "markdown",
   "metadata": {},
   "source": [
    "## Simulovaná testovací data\n",
    "\n",
    "Připravíme si testovací data AR(2) procesu s šumem $\\varepsilon_t \\sim \\mathcal{N}(0, 0.5)$ a koeficienty $\\phi_1 = -0.8, \\phi_2 = 0.2$."
   ]
  },
  {
   "cell_type": "code",
   "execution_count": null,
   "metadata": {},
   "outputs": [],
   "source": [
    "#%% Simulace\n",
    "np.random.seed(12)\n",
    "ndat = 200\n",
    "noise_var = 0.5\n",
    "noise = np.random.normal(***)   # Zde bude ulozen sum, at jej nemusime generovat v cyklu nize\n",
    "\n",
    "Y = np.zeros(ndat)\n",
    "Y[0:2] = np.array([.8, .5])     # Pocatecni hodnoty\n",
    "phi = np.array([-.8, .2])\n",
    "for t in range(2, ndat):\n",
    "    Y[t] = *** + noise[t]\n",
    "\n",
    "tsplot(Y)"
   ]
  },
  {
   "cell_type": "markdown",
   "metadata": {},
   "source": [
    "Zkusíme je prohnat modelem a odhadnout \"neznámé parametry\" z přímo z dat."
   ]
  },
  {
   "cell_type": "code",
   "execution_count": null,
   "metadata": {},
   "outputs": [],
   "source": [
    "model = AR2Model(Y)\n",
    "res = model.fit()\n",
    "print(res.summary())"
   ]
  },
  {
   "cell_type": "markdown",
   "metadata": {},
   "source": [
    "Stejně jako v předchozím příkladu zkusíme rovněž udělat predikce na dalších `nsteps = 20` kroků dopředu."
   ]
  },
  {
   "cell_type": "code",
   "execution_count": null,
   "metadata": {},
   "outputs": [],
   "source": [
    "nsteps = 20\n",
    "predict = res.get_prediction()\n",
    "forecast = res.get_forecast(nsteps)\n",
    "\n",
    "plt.figure(figsize=(15,4))\n",
    "plt.plot(Y, label='Y')\n",
    "plt.plot(predict.predicted_mean, label='Predicted')\n",
    "predict_ci = predict.conf_int(alpha=0.05)\n",
    "predict_index = np.arange(len(predict_ci))\n",
    "plt.fill_between(predict_index[2:], predict_ci.iloc[2:, 0], predict_ci.iloc[2:, 1], color='grey', alpha=0.1)\n",
    "plt.plot(np.arange(ndat, ndat+nsteps), forecast.predicted_mean, label='Forecast')\n",
    "forecast_ci = forecast.conf_int()\n",
    "forecast_index = np.arange(len(predict_ci), len(predict_ci) + len(forecast_ci))\n",
    "plt.fill_between(forecast_index, forecast_ci.iloc[:, 0], forecast_ci.iloc[:, 1], color='green', alpha=0.1)\n",
    "plt.legend()\n",
    "plt.show()"
   ]
  },
  {
   "cell_type": "code",
   "execution_count": null,
   "metadata": {},
   "outputs": [],
   "source": []
  }
 ],
 "metadata": {
  "kernelspec": {
   "display_name": "Python 3",
   "language": "python",
   "name": "python3"
  },
  "language_info": {
   "codemirror_mode": {
    "name": "ipython",
    "version": 3
   },
   "file_extension": ".py",
   "mimetype": "text/x-python",
   "name": "python",
   "nbconvert_exporter": "python",
   "pygments_lexer": "ipython3",
   "version": "3.8.3"
  }
 },
 "nbformat": 4,
 "nbformat_minor": 2
}
