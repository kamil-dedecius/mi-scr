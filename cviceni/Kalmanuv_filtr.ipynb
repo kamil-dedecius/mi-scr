{
 "cells": [
  {
   "cell_type": "code",
   "execution_count": null,
   "metadata": {},
   "outputs": [],
   "source": [
    "import numpy as np\n",
    "import matplotlib.pylab as plt\n",
    "import sys\n",
    "sys.path.insert(0, '../zdrojaky/kf')\n",
    "from trajectory import trajectory\n",
    "np.set_printoptions(precision=2)"
   ]
  },
  {
   "cell_type": "markdown",
   "metadata": {},
   "source": [
    "# Třída pro Kalmanův filtr\n",
    "\n",
    "Můžete vykopírovat a importovat ze souboru pro snazší ladění."
   ]
  },
  {
   "cell_type": "code",
   "execution_count": null,
   "metadata": {},
   "outputs": [],
   "source": [
    "class KF():\n",
    "    def __init__(self, A, B, H, R, Q):\n",
    "        self.A = A\n",
    "        self.B = B\n",
    "        self.H = H\n",
    "        self.R = R\n",
    "        self.Q = Q\n",
    "        self.P = *** matice s 1000 na diagonále\n",
    "        self.x = *** nulový vektor\n",
    "        self.log_x = []\n",
    "    \n",
    "    def predict(self, u=None):\n",
    "        xminus = ***\n",
    "        if u is not None:\n",
    "            xminus += self.B.dot(u)\n",
    "        Pminus = ***\n",
    "        self.x = xminus\n",
    "        self.P = Pminus\n",
    "    \n",
    "    def correct(self, yt):\n",
    "        HPHT = ***\n",
    "        zavorka_inv = ***\n",
    "        K = ***\n",
    "        innovation = ***\n",
    "        xplus = self.x + K.dot(innovation)\n",
    "        zavorka = ***\n",
    "        KRKT = ***\n",
    "        Pplus = zavorka.dot(self.P).dot(zavorka) + KRKT\n",
    "        self.x = xplus\n",
    "        self.P = Pplus\n",
    "    \n",
    "    def log(self):\n",
    "        self.log_x.append(self.x)"
   ]
  },
  {
   "cell_type": "markdown",
   "metadata": {},
   "source": [
    "# Cvičení 4: Sledování objektu ve 2D\n",
    "\n",
    "Cílem tohoto cvičení je filtrace polohy objektu pohybujícího se na ploše, tj. ve 2D. Cílem je odhadovat stavový vektor sestávající se z polohy v osách $x_1$ a $x_2$ a rychlostech v obou těchto osách.\n",
    "\n",
    "$$\n",
    "x_t =\n",
    "\\begin{bmatrix}\n",
    "x_{1,t} \\\\ \n",
    "x_{2,t} \\\\ \n",
    "v_{x_1,t} \\\\ \n",
    "v_{x_2,t}\n",
    "\\end{bmatrix}\n",
    "$$\n",
    "\n",
    "Víme, že pro polohu v první ose platí\n",
    "\n",
    "$$\n",
    "x_{1,t} = x_{1,t-1} + v_{x_1,t} dt + w_{x_1,t},\n",
    "$$\n",
    "\n",
    "a že analogicky platí totéž i pro polohu v ose druhé. Abychom se nemuseli zaobírat zrychlením, budeme uvažovat, že rychlost je stejná a její změny jsou způsobeny jen šumem,\n",
    "\n",
    "$$\n",
    "v_{x_1,t} = v_{x_1, t-1} + w_{vx_1, t}.\n",
    "$$\n",
    "\n",
    "Analogicky pro druhou složku rychlosti. K dispozici jsou jen měření polohy v obou osách a to v časovém kroku 0.1s.\n",
    "\n",
    "Potřebujeme tedy sestavit stavový model\n",
    "\n",
    "$$\n",
    "\\begin{align}\n",
    "x_t &= A_t x_{t-1} + B_t u_t + w_t, &w_t \\sim (0, Q_t),\\\\\n",
    "y_t &= H_t x_t + \\varepsilon_t, &\\varepsilon_t \\sim (0, R_t).\n",
    "\\end{align}\n",
    "$$\n",
    "\n",
    "**Úkol 1: Sestavte stavový model a určete matice**\n",
    "\n",
    "Kovarianční matice nám musí někdo dodat, níže jsou uvedeny."
   ]
  },
  {
   "cell_type": "markdown",
   "metadata": {},
   "source": [
    "\\begin{align*}\n",
    "    A &= ***\n",
    "    \\quad\n",
    "    &Q &= q\\cdot\n",
    "    \\begin{bmatrix}\n",
    "        \\frac{dt^3}{3}    & 0                 & \\frac{dt^{2}}{2}  & 0  \\\\\n",
    "        0                 & \\frac{dt^3}{3}    & 0                 & \\frac{dt^{2}}{2} \\\\\n",
    "        \\frac{dt^{2}}{2}  & 0                 & dt                & 0 \\\\\n",
    "        0                 & \\frac{dt^{2}}{2}  & 0                 & dt\n",
    "    \\end{bmatrix}\n",
    "    \\notag \\\\\n",
    "    H &= ***\n",
    "    \\quad\n",
    "    &R &=\n",
    "    r^{2}\\cdot\n",
    "    \\begin{bmatrix}\n",
    "        1 & 0 \\\\\n",
    "        0 & 1\n",
    "    \\end{bmatrix}\n",
    "\\end{align*}\n",
    "kde $dt = 1$, $q = .5$, $r=3$."
   ]
  },
  {
   "cell_type": "markdown",
   "metadata": {},
   "source": [
    "**Úkol 2: dodefinujte proměnné**"
   ]
  },
  {
   "cell_type": "code",
   "execution_count": null,
   "metadata": {},
   "outputs": [],
   "source": [
    "q = ***\n",
    "dt = ***\n",
    "r = ***\n",
    "A = ***\n",
    "Q = q * np.array([[dt**3/3, 0      , dt**2/2, 0      ],\n",
    "                  [0,       dt**3/3, 0,       dt**2/2],\n",
    "                  [dt**2/2, 0,       dt,      0      ],\n",
    "                  [0,       dt**2/2, 0,       dt     ]])\n",
    "H = ***\n",
    "R = ***"
   ]
  },
  {
   "cell_type": "markdown",
   "metadata": {},
   "source": [
    "**Úkol 3: doplňte za `code` libovolné číslo (slouží jako seed generátoru). V objektu `traj` budete mít trajektorii - atribut `Y` - o 100 řádcích, v každém je poloha v obou osách. Vykreslete ji křížky.**"
   ]
  },
  {
   "cell_type": "code",
   "execution_count": null,
   "metadata": {},
   "outputs": [],
   "source": [
    "code = ***\n",
    "traj = trajectory(code)\n",
    "plt.figure(figsize=(10, 10))\n",
    "plt.plot(***)\n",
    "plt.axis('equal')\n",
    "plt.show()"
   ]
  },
  {
   "cell_type": "markdown",
   "metadata": {},
   "source": [
    "Kalmanův filtr je napsán jako třída KF. Tu si jednoduše pustíme, provede výpočty za vás. Předávají se jí jednotlivá měření polohy, tj. řádky v `traj.Y.T`"
   ]
  },
  {
   "cell_type": "code",
   "execution_count": null,
   "metadata": {},
   "outputs": [],
   "source": [
    "kf = KF(***)\n",
    "for yt in traj.Y.T:\n",
    "    kf.predict()\n",
    "    kf.correct(yt)\n",
    "    kf.log()\n",
    "\n",
    "log_x = np.array(kf.log_x).T      # Zde najdeme odhad"
   ]
  },
  {
   "cell_type": "markdown",
   "metadata": {},
   "source": [
    "**Úkol 4: `log_x` má 4 řádky, v každém sloupci je jeden odhad stavu $x_{t}$. Vykreslete stejně jako výše naměřenou polohu a její filtrovaný odhad**"
   ]
  },
  {
   "cell_type": "code",
   "execution_count": null,
   "metadata": {},
   "outputs": [],
   "source": [
    "plt.figure(figsize=(10,10))\n",
    "plt.plot(***, '.', label='Měření')\n",
    "plt.plot(***, '-', color='red', label='Filtrovaný odhad')\n",
    "plt.plot(traj.X[0,:], traj.X[1,:], 'k', label='Skutečnost')\n",
    "plt.grid(True)\n",
    "plt.axis('equal')\n",
    "plt.legend()\n",
    "plt.show()"
   ]
  },
  {
   "cell_type": "markdown",
   "metadata": {},
   "source": [
    "**Úkol 5: V odhadech najdete i odhady rychlosti. Vykreslete je jako 2 subploty vedle sebe.**"
   ]
  },
  {
   "cell_type": "code",
   "execution_count": null,
   "metadata": {},
   "outputs": [],
   "source": [
    "plt.figure(figsize=(10, 4))\n",
    "plt.subplot(1,2,1)\n",
    "plt.plot(***, 'r')\n",
    "plt.subplot(1,2,2)\n",
    "plt.plot(***)\n",
    "plt.show()"
   ]
  },
  {
   "cell_type": "markdown",
   "metadata": {},
   "source": [
    "**Úkol 6: `traj` má atribut X, tedy `traj.X`, což je matice o 4 řádcích, obsahující skutečné hodnoty polohy a rychlosti, které jsme se snažili Kalmanovým filtrem odhadnout. Doplňte je do obrázků černě.**"
   ]
  },
  {
   "cell_type": "markdown",
   "metadata": {},
   "source": [
    "**Zbyde-li čas, zkuste:**\n",
    "\n",
    "- vykreslit rezidua odhadu\n",
    "- vynechat pár měření a postupovat jen s predikcí, nikoliv korekcí\n",
    "- použít nesprávné kovariance šumu\n",
    "- odstartovat ze špatného iniciálního odhadu stavu."
   ]
  }
 ],
 "metadata": {
  "kernelspec": {
   "display_name": "Python 3",
   "language": "python",
   "name": "python3"
  },
  "language_info": {
   "codemirror_mode": {
    "name": "ipython",
    "version": 3
   },
   "file_extension": ".py",
   "mimetype": "text/x-python",
   "name": "python",
   "nbconvert_exporter": "python",
   "pygments_lexer": "ipython3",
   "version": "3.7.2+"
  }
 },
 "nbformat": 4,
 "nbformat_minor": 2
}
