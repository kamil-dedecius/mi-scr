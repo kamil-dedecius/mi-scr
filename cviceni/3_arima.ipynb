{
 "cells": [
  {
   "cell_type": "code",
   "execution_count": null,
   "metadata": {},
   "outputs": [],
   "source": [
    "import numpy as np\n",
    "from scipy.stats.distributions import norm\n",
    "import matplotlib.pylab as plt\n",
    "import sys\n",
    "sys.path.append('../zdrojaky')\n",
    "from tsplot import tsplot\n",
    "import pandas as pd\n",
    "import statsmodels.tsa as tsa\n",
    "from statsmodels.tsa.arima_model import ARMA, ARIMA\n",
    "from statsmodels.api import qqplot\n",
    "import warnings; warnings.simplefilter('ignore')\n",
    "plt.rcParams['figure.figsize'] = [10, 5]"
   ]
  },
  {
   "cell_type": "markdown",
   "metadata": {},
   "source": [
    "# Odhad AR(I)MA modelu - hard way\n",
    "\n",
    "Cílem tohoto cvičení je ručně si ozkoušet, jak některé techniky fungují. Budeme proto diferencovat ručně, stejně tak integrovat atd.\n",
    "\n",
    "V souboru `arimadata.npz` najdete časovou řadu, imitující vývoj hodnoty akcií na trhu. Máme zkusit nafitovat odpovídající model, odhadnout jeho parametry a analyzovat rezidua. K tomu všemu využijeme `statsmodels`.\n",
    "\n",
    "**Úkol: do proměnné data natáhněte časovou řadu.**"
   ]
  },
  {
   "cell_type": "code",
   "execution_count": null,
   "metadata": {},
   "outputs": [],
   "source": [
    "fn = '../zdrojaky/arimadata.npz'\n",
    "data = np.load(fn)\n",
    "data = data['data']"
   ]
  },
  {
   "cell_type": "markdown",
   "metadata": {},
   "source": [
    "**Úkol: proveďte analýzu pomocí funkce `tsplot()` a diskutujte vlastnosti časové řady.**"
   ]
  },
  {
   "cell_type": "code",
   "execution_count": null,
   "metadata": {},
   "outputs": [],
   "source": [
    "plt.figure(figsize=(15,3))\n",
    "tsplot(data)"
   ]
  },
  {
   "cell_type": "markdown",
   "metadata": {},
   "source": [
    "**Úkol: pokud se to zdá být výhodné, diferencujte časovou řadu a analyzujte výsledek. Bylo by výhodné diferencovat jednou? Dvakrát?**"
   ]
  },
  {
   "cell_type": "code",
   "execution_count": null,
   "metadata": {},
   "outputs": [],
   "source": [
    "data_d1 = ***\n",
    "tsplot(data_d1)"
   ]
  },
  {
   "cell_type": "markdown",
   "metadata": {},
   "source": [
    "**Úkol: co soudit o výsledku? Jeví se jako stacionární časová řada? Jaký model budeme zkoušet?**\n",
    "\n",
    "**Úkol: rozhodnete-li se pro ARMA model, můžeme zkusit najít řád pomocí funkce `tsa.stattools.arma_order_select_ic()`. Porovnejte výsledky pro různá informační kritéria.**"
   ]
  },
  {
   "cell_type": "code",
   "execution_count": null,
   "metadata": {},
   "outputs": [],
   "source": [
    "tsa.stattools.arma_order_select_ic(data_d1, trend=***, ic=***, max_ar=***)"
   ]
  },
  {
   "cell_type": "markdown",
   "metadata": {},
   "source": [
    "**Úkol: nafitujte vybraný model (bez trendu). V metodě `summary()` naleznete vlastnosti modelu. Diskutujte o nich.**"
   ]
  },
  {
   "cell_type": "code",
   "execution_count": null,
   "metadata": {},
   "outputs": [],
   "source": [
    "arma = ARMA(data_d1, order=(***,***)).fit(trend=***)\n",
    "print(arma.summary())"
   ]
  },
  {
   "cell_type": "markdown",
   "metadata": {},
   "source": [
    "**Úkol: proveďte analýzu reziduí, tj. (1) vykreslete řadu, ACF a PACF funkcí `tsplot()`**"
   ]
  },
  {
   "cell_type": "code",
   "execution_count": null,
   "metadata": {},
   "outputs": [],
   "source": [
    "tsplot(arma.***)\n",
    "plt.show()"
   ]
  },
  {
   "cell_type": "markdown",
   "metadata": {},
   "source": [
    "**(2) vykreslete qq-plot funkcí `qqplot()` - prozkoumejte její možnosti.**"
   ]
  },
  {
   "cell_type": "code",
   "execution_count": null,
   "metadata": {},
   "outputs": [],
   "source": [
    "qqplot(arma.resid, line='45')\n",
    "plt.gca().set_aspect('equal', adjustable='box')\n",
    "plt.show()"
   ]
  },
  {
   "cell_type": "markdown",
   "metadata": {},
   "source": [
    "**(3) vykreslete histogram reziduí.**"
   ]
  },
  {
   "cell_type": "code",
   "execution_count": null,
   "metadata": {},
   "outputs": [],
   "source": [
    "plt.hist(arma.***, bins=30)\n",
    "plt.show()"
   ]
  },
  {
   "cell_type": "markdown",
   "metadata": {},
   "source": [
    "**4. `arma` umí vytvořit in-sample predikce pro pozorované hodnoty pomocí metody `arma.predict()`. Vykreslete je spolu s původními daty a přidejte predikci do budoucna na nějaký (třeba nesmyslný) počet kroků. Zkuste poté do kódu výše vložit offset `trend='c'` a výsledky porovnejte. Zjistěte, jak funguje argument `dynamic`**"
   ]
  },
  {
   "cell_type": "code",
   "execution_count": null,
   "metadata": {},
   "outputs": [],
   "source": [
    "fcast_steps = 300\n",
    "preds = arma.predict(dynamic=***, start=0, end=ndat+fcast_steps)\n",
    "plt.plot(np.***(preds), label='predikce')\n",
    "plt.plot(data, label='data')\n",
    "plt.legend()"
   ]
  },
  {
   "cell_type": "markdown",
   "metadata": {},
   "source": [
    "---\n",
    "---\n",
    "\n",
    "**Úkol: zkuste nafitovat model ARIMA pomocí `statsmodels.tsa.arima_model.ARIMA`**"
   ]
  },
  {
   "cell_type": "code",
   "execution_count": null,
   "metadata": {},
   "outputs": [],
   "source": [
    "res = ARIMA(data, (***,***,***)).fit(trend='***')\n",
    "print(res.summary())"
   ]
  }
 ],
 "metadata": {
  "kernelspec": {
   "display_name": "Python 3",
   "language": "python",
   "name": "python3"
  },
  "language_info": {
   "codemirror_mode": {
    "name": "ipython",
    "version": 3
   },
   "file_extension": ".py",
   "mimetype": "text/x-python",
   "name": "python",
   "nbconvert_exporter": "python",
   "pygments_lexer": "ipython3",
   "version": "3.8.3"
  }
 },
 "nbformat": 4,
 "nbformat_minor": 4
}
