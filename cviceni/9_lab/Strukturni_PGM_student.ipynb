{
 "cells": [
  {
   "cell_type": "code",
   "execution_count": null,
   "metadata": {},
   "outputs": [],
   "source": [
    "import numpy as np\n",
    "from scipy.stats import norm\n",
    "import matplotlib.pylab as plt\n",
    "np.set_printoptions(precision=2)"
   ]
  },
  {
   "cell_type": "markdown",
   "metadata": {},
   "source": [
    "# Power growth model\n",
    "\n",
    "Minule jsme si ukázali sílu strukturního modelu, konkrétně na lokálním lineárním modelu. Nyní si zkusíme model nelineární, na který budeme potřebovat nasadit rozšířený Kalmanův filtr (nebo nějaký jiný nelineární model). PGM model s driftem $k$ na $y_t$ má následující podobu (srovnejte s LLM):"
   ]
  },
  {
   "cell_type": "markdown",
   "metadata": {},
   "source": [
    "$$\n",
    "\\begin{alignat}{2}\n",
    "y_t &= k + \\mu_t + \\varepsilon_t, \\qquad &\\varepsilon \\sim \\mathcal{N}(0, \\sigma_{\\varepsilon}^2), \\\\\n",
    "\\mu_t &= \\mu_{t-1}^{1+\\nu_{t-1}} + \\xi_t, \\qquad &\\xi_t \\sim \\mathcal{N}(0, \\sigma_{\\xi}^2), \\\\\n",
    "\\nu_t &= \\rho\\nu_{t-1} + \\zeta_t, \\qquad &\\zeta_t \\sim \\mathcal{N}(0, \\sigma_{\\zeta}^2),\n",
    "\\end{alignat}\n",
    "$$\n",
    "\n",
    "kde $\\rho\\in[0,1]$ je \"discounting\" faktor."
   ]
  },
  {
   "cell_type": "markdown",
   "metadata": {},
   "source": [
    "Modely tohoto typu jsou populární např. v epidemiologii, kde se uvažuje namísto mocniny přímo exponenciální funkce (a odtud je další cesta k \"magickému\" reprodukčnímu číslu). Související proces bude logicky velmi citlivý na kombinace hodnot $\\nu_t$ a $\\mu_t$. Stačí, aby se chviličku udržela nevhodná kombinace a proces exploduje.\n",
    "\n",
    "Podívejme se na pár realizací. Pro simulaci si nastavíme rozumnou hodnotu $k$, aby nám později filtrace neskončila odmocňováním záporných čísel."
   ]
  },
  {
   "cell_type": "code",
   "execution_count": null,
   "metadata": {},
   "outputs": [],
   "source": [
    "ndat = 300\n",
    "npred = 50\n",
    "\n",
    "sigma_epsilon = 10\n",
    "sigma_xi = .1\n",
    "sigma_zeta = .01\n",
    "rho = 0.9\n",
    "k = 2\n",
    "mu = np.zeros(ndat); mu[0] = 100.\n",
    "nu = np.zeros(ndat)\n",
    "y = np.zeros(ndat)\n",
    "\n",
    "for t in range(1, ndat):\n",
    "    nu[t] = rho * nu[t-1] + norm.rvs(scale=sigma_zeta)\n",
    "    mu[t] = mu[t-1]**(1+nu[t-1]) + norm.rvs(scale=sigma_xi)\n",
    "    y[t] = k + mu[t] + norm.rvs(scale=sigma_epsilon)\n",
    "    if mu[t] < 0:\n",
    "        break\n",
    "    \n",
    "plt.figure(figsize=(10,6))\n",
    "plt.subplot(2,1,1)\n",
    "plt.plot(y, label=r'$y_t$')\n",
    "plt.legend()\n",
    "plt.subplot(2,1,2)\n",
    "plt.plot(1+nu, label=r'$1+\\nu_t$')\n",
    "plt.axhline(1, color='red')\n",
    "plt.legend()\n",
    "plt.show()"
   ]
  },
  {
   "cell_type": "markdown",
   "metadata": {},
   "source": [
    "Vzpomeňme na EKF z přednášky:\n",
    "\n",
    "**Inicializace:** Nastavíme $x_0$ (iniciální odhad stavu) a $P_0^+$ (iniciální kovariance odhadů).\n",
    "\n",
    "**Pro $t=1,2,\\ldots$:**\n",
    "\n",
    "    - Linearizace pro predikci\n",
    "$$\n",
    "\\begin{align}\n",
    "F_t &= f_t'(\\hat{x}_{t-1}^+).\n",
    "\\end{align}\n",
    "$$\n",
    "\n",
    "    - Predikce stavů (časový update)\n",
    "$$\n",
    "\\begin{align}\n",
    "\\hat{x}_t^{-} &= f_t(\\hat{x}_{t-1}^+, u_t),\\\\\n",
    "P_t^{-} &= F_t P_{t-1}^{+} F_t^\\intercal + Q_t.\n",
    "\\end{align}\n",
    "$$\n",
    "\n",
    "    - Linearizace pro korekci\n",
    "$$\n",
    "\\begin{align}\n",
    "H_t &= h_t'(\\hat{x}_{t}^-).\n",
    "\\end{align}\n",
    "$$\n",
    "\n",
    "    - Korekce (datový update) stavů pozorováním\n",
    "$$\n",
    "\\begin{aligned}\n",
    "K_t &= P_{t}^- H_t^\\intercal (H_t P_{t}^{-} H_t^\\intercal + R_t)^{-1},\\\\\n",
    "\\hat{x}_t^+ &= \\hat{x}_{t}^{-} + K_t\\left[y_t - h_t\\left(\\hat{x}_{t}^{-}\\right)\\right], \\\\\n",
    "P_t^{+} &= (I - K_t H_t) P_{t}^{-} (I - K_t H_t)^\\intercal + K_t R_t K_t^\\intercal.\n",
    "\\end{aligned}\n",
    "$$"
   ]
  },
  {
   "cell_type": "markdown",
   "metadata": {},
   "source": [
    "### Připomeňme náš model:\n",
    "\n",
    "$$\n",
    "\\begin{alignat}{2}\n",
    "y_t &= k + \\mu_t + \\varepsilon_t, \\qquad &\\varepsilon \\sim \\mathcal{N}(0, \\sigma_{\\varepsilon}^2), \\\\\n",
    "\\mu_t &= \\mu_{t-1}^{1+\\nu_{t-1}} + \\xi_t, \\qquad &\\xi_t \\sim \\mathcal{N}(0, \\sigma_{\\xi}^2), \\\\\n",
    "\\nu_t &= \\rho\\nu_{t-1} + \\zeta_t, \\qquad &\\zeta_t \\sim \\mathcal{N}(0, \\sigma_{\\zeta}^2),\n",
    "\\end{alignat}\n",
    "$$\n",
    "\n",
    "kde $x_t = [\\mu_t, \\nu_t]^\\intercal$. Rovnice pro pozorování $y_t$ je lineární, linearizovat nemusíme:\n",
    "\n",
    "$$\n",
    "\\begin{aligned}\n",
    "y_t &= H_t x_t + B_t u_t + \\varepsilon_t \\\\\n",
    "&= [1, 0]\n",
    "\\begin{bmatrix} \\mu_t \\\\ \\nu_t \\end{bmatrix} + 2 \\cdot 1 + \\varepsilon_t.\n",
    "\\end{aligned}\n",
    "$$\n",
    "\n",
    "Rovnice pro vývoj stavů už ale lineární není:\n",
    "\n",
    "$$\n",
    "\\begin{aligned}\n",
    "\\begin{bmatrix} \\mu_t \\\\ \\nu_t \\end{bmatrix}\n",
    "= \n",
    "\\begin{bmatrix} \\mu_{t-1}^{1+\\nu_{t-1}} \\\\ \\rho\\nu_{t-1} \\end{bmatrix}\n",
    "+ \\begin{bmatrix} \\xi_t \\\\ \\zeta_t \\end{bmatrix}\n",
    "\\end{aligned}\n",
    "$$"
   ]
  },
  {
   "cell_type": "markdown",
   "metadata": {},
   "source": [
    "Budeme tedy linearizovat. Musíme určit derivace dvourozměrné funkce $f_t()$ - prvního vektoru na pravé straně:\n",
    "\n",
    ">\n",
    "> **Úkol: linearizujte příslušnou funkci**\n",
    ">\n",
    "\n",
    "V EKF oproti klasickému lineárnímu KF:\n",
    "1. V predikci stavu použijeme **nelineární rovnici** na predikci $\\hat{x}_t^-$ a **matici** $F_t$ na predikci $P_t^-$. Pozor, matice $F_t$ je proměnná v čase a pokaždé musíme sestavit novou!\n",
    "2. Při updatu (korekci) použijeme **lineární rovnici měření** stejně jako v lineárních modelech, neboť jsme nic nelinerizovali.\n",
    "\n",
    "Pojďme si tedy upravit třídu `KF` na `EKF`.\n",
    "\n",
    ">\n",
    "> **Úkol: doplňte kód níže**\n",
    ">"
   ]
  },
  {
   "cell_type": "code",
   "execution_count": null,
   "metadata": {},
   "outputs": [],
   "source": [
    "class EKF():\n",
    "    def __init__(self, F, B, H, R, Q):\n",
    "        self.F = F                          ### Dtto jako A u linearniho KF\n",
    "        self.B = B\n",
    "        self.H = H\n",
    "        self.R = R\n",
    "        self.Q = Q\n",
    "        self.P = np.eye(self.Q.shape[0]) * 10\n",
    "        self.x = np.array([10, .5])\n",
    "        self.log_x = []\n",
    "        self.rho = 1                         ### ZDE jsme přidali rho\n",
    "    \n",
    "    def predict(self, u=None):               ### ZDE jsme změnili výpočet predikovaných veličin\n",
    "        mu_t = self.x[0]                     ### budu psát _t místo _{t-1}\n",
    "        nu_t = self.x[1]\n",
    "        F = ***\n",
    "        xminus = ***\n",
    "        Pminus = ***\n",
    "        self.x = xminus\n",
    "        self.P = Pminus\n",
    "    \n",
    "    def correct(self, yt):\n",
    "        HPHT = self.H.dot(self.P).dot(self.H.T)\n",
    "        zavorka_inv = np.linalg.inv(HPHT + self.R)\n",
    "        K = self.P.dot(self.H.T).dot(zavorka_inv)\n",
    "        innovation = yt - self.H.dot(self.x)\n",
    "        xplus = self.x + K.dot(innovation)\n",
    "        zavorka = np.eye(K.shape[0]) - K.dot(self.H)\n",
    "        KRKT = K.dot(self.R).dot(K.T)\n",
    "        Pplus = zavorka.dot(self.P).dot(zavorka.T) + KRKT\n",
    "        self.x = xplus\n",
    "        self.P = Pplus\n",
    "    \n",
    "    def log(self):\n",
    "        self.log_x.append(self.x)"
   ]
  },
  {
   "cell_type": "code",
   "execution_count": null,
   "metadata": {},
   "outputs": [],
   "source": [
    "Q = np.diag([sigma_xi**2, sigma_zeta**2])\n",
    "H = np.array([[1, 0]])\n",
    "R = np.atleast_2d(sigma_epsilon**2)\n",
    "\n",
    "kf = EKF(F=None, B=2., H=H, R=R, Q=Q)\n",
    "kf.rho = rho\n",
    "for t in range(ndat):\n",
    "    kf.predict(u=1)\n",
    "    kf.correct(np.atleast_1d(y[t]))\n",
    "    kf.log()\n",
    "    \n",
    "for t in range(npred):\n",
    "    kf.predict(u=1)\n",
    "    kf.log()\n",
    "\n",
    "log_x = np.array(kf.log_x).T"
   ]
  },
  {
   "cell_type": "markdown",
   "metadata": {},
   "source": [
    "### Predikce"
   ]
  },
  {
   "cell_type": "code",
   "execution_count": null,
   "metadata": {},
   "outputs": [],
   "source": [
    "plt.figure(figsize=(14,4))\n",
    "plt.plot(y, label=r'$y_t$')\n",
    "plt.plot(k + log_x[0].T, label=r'$\\hat{\\mu}_t + k$')\n",
    "plt.legend()"
   ]
  },
  {
   "cell_type": "markdown",
   "metadata": {},
   "source": [
    "### Odhady stavových veličin"
   ]
  },
  {
   "cell_type": "code",
   "execution_count": null,
   "metadata": {},
   "outputs": [],
   "source": [
    "plt.figure(figsize=(14,8))\n",
    "plt.subplot(2,1,1)\n",
    "plt.plot(mu, label=r'${\\mu}_t$')\n",
    "plt.plot(log_x[0].T, label=r'$\\hat{\\mu}_t$')\n",
    "plt.legend()\n",
    "plt.subplot(2,1,2)\n",
    "plt.plot(1+nu, label=r'$1+\\nu_t$')\n",
    "plt.plot(1+log_x[1].T, label=r'$1+\\hat{\\nu}_t$')\n",
    "plt.legend()"
   ]
  }
 ],
 "metadata": {
  "kernelspec": {
   "display_name": "Python 3",
   "language": "python",
   "name": "python3"
  },
  "language_info": {
   "codemirror_mode": {
    "name": "ipython",
    "version": 3
   },
   "file_extension": ".py",
   "mimetype": "text/x-python",
   "name": "python",
   "nbconvert_exporter": "python",
   "pygments_lexer": "ipython3",
   "version": "3.9.1"
  }
 },
 "nbformat": 4,
 "nbformat_minor": 4
}
