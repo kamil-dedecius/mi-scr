{
 "cells": [
  {
   "cell_type": "code",
   "execution_count": 2,
   "metadata": {},
   "outputs": [],
   "source": [
    "import numpy as np\n",
    "from scipy.stats import norm\n",
    "import matplotlib.pylab as plt\n",
    "import sys\n",
    "np.set_printoptions(precision=2)"
   ]
  },
  {
   "cell_type": "code",
   "execution_count": 3,
   "metadata": {},
   "outputs": [],
   "source": [
    "class KF():\n",
    "    def __init__(self, A, B, H, R, Q):\n",
    "        self.A = A\n",
    "        self.B = B\n",
    "        self.H = H\n",
    "        self.R = R\n",
    "        self.Q = Q\n",
    "        self.P = np.eye(self.Q.shape[0]) * 10000\n",
    "        self.x = np.ones(self.Q.shape[0])\n",
    "        self.log_x = []\n",
    "        \n",
    "    \n",
    "    def predict(self, u=None):\n",
    "        xminus = self.A.dot(self.x)\n",
    "        Pminus = self.A.dot(self.P).dot(self.A.T) + self.Q\n",
    "        self.x = xminus\n",
    "        self.P = Pminus\n",
    "    \n",
    "    def correct(self, yt):\n",
    "        HPHT = self.H.dot(self.P).dot(self.H.T)\n",
    "        zavorka_inv = np.linalg.inv(HPHT + self.R)\n",
    "        K = self.P.dot(self.H.T).dot(zavorka_inv)\n",
    "        innovation = yt - self.H.dot(self.x)\n",
    "        xplus = self.x + K.dot(innovation)\n",
    "        zavorka = np.eye(K.shape[0]) - K.dot(self.H)\n",
    "        KRKT = K.dot(self.R).dot(K.T)\n",
    "        Pplus = zavorka.dot(self.P).dot(zavorka.T) + KRKT\n",
    "        self.x = xplus\n",
    "        self.P = Pplus\n",
    "    \n",
    "    def log(self):\n",
    "        self.log_x.append(self.x)"
   ]
  },
  {
   "cell_type": "markdown",
   "metadata": {},
   "source": [
    "# Strukturní modely\n",
    "\n",
    "Už známe klasické modely časových řad typu ARIMA. Existuje ale ještě jedna možnost, jak časové řady modelovat, a sice prostřednictvím tzv. strukturních modelů. Ty jsou modely stavovými, ovšem namísto koeficientů AR či MA částí modelujme přímo vývoj střední hodnoty, sezónních složek atd.\n",
    "\n",
    "V tomto cvičení (které je současně testem) si zkusíme jeden z nejjednodušších a přitom ohromně mocných modelů: lokální lineární trend. Opět budeme mít pozorovanou veličinu $y_t$, která má tentokrát střední hodnotu - level - $l_t$ a je zatížena normálním šumem $\\varepsilon_t$. Střední hodnotu budeme rovněž modelovat, a sice jako veličinu, která je ovlivněna svou přechozí hodnotou $l_{t-1}$ a šumem $\\xi_t$, ale vstupuje do ní i drift $b_t$. Jedná se tedy o náhodnou procházku s driftem. A abychom dokázali pochytat i dynamiku na střední hodnotě, budeme i samotný drift modelovat jako náhodnou procházku. V řeči statového modelu to bude vypadat následovně (dobře rozmyslete!):"
   ]
  },
  {
   "cell_type": "markdown",
   "metadata": {},
   "source": [
    "$$\n",
    "\\begin{alignat}{2}\n",
    "y_t &= l_t + \\varepsilon_t, \\qquad &\\varepsilon \\sim \\mathcal{N}(0, \\sigma_{\\varepsilon}^2), \\\\\n",
    "l_t &= l_{t-1} + b_{t-1} + \\xi_t, \\qquad &\\xi_t \\sim \\mathcal{N}(0, \\sigma_{\\xi}^2), \\\\\n",
    "b_t &= b_{t-1} + \\zeta_t, \\qquad &\\zeta_t \\sim \\mathcal{N}(0, \\sigma_{\\zeta}^2).\n",
    "\\end{alignat}\n",
    "$$"
   ]
  },
  {
   "cell_type": "markdown",
   "metadata": {},
   "source": [
    "Je důležité myslet na to, že pozorovaná veličina je $y_t$, zatímco nepozorovatelné $l_t$ a $b_t$ budeme uvažovat jako stavy.\n",
    "\n",
    "Zkusíme si systém nasimulovat se známými hodnotami variancí (v kódu níže zadávám směrodatné odchylky kvůli scipy!):"
   ]
  },
  {
   "cell_type": "code",
   "execution_count": 37,
   "metadata": {},
   "outputs": [
    {
     "data": {
      "image/png": "[encoded data removed]",
      "text/plain": [
       "<Figure size 432x288 with 1 Axes>"
      ]
     },
     "metadata": {
      "needs_background": "light"
     },
     "output_type": "display_data"
    }
   ],
   "source": [
    "ndat = 300\n",
    "npred = 50\n",
    "sigma_epsilon = 10\n",
    "sigma_xi = .9\n",
    "sigma_zeta = .3\n",
    "l = np.zeros(ndat)\n",
    "b = np.zeros(ndat)\n",
    "y = np.zeros(ndat)\n",
    "\n",
    "for t in range(1, ndat):\n",
    "    b[t] = b[t-1] + norm.rvs(scale=sigma_zeta)\n",
    "    l[t] = l[t-1] + b[t-1] + norm.rvs(scale=sigma_xi)\n",
    "    y[t] = l[t] + norm.rvs(scale=sigma_epsilon)\n",
    "    \n",
    "plt.plot(y, label=r'$y_t$')\n",
    "plt.legend()\n",
    "plt.show()"
   ]
  },
  {
   "cell_type": "markdown",
   "metadata": {},
   "source": [
    "Zkuste si pustit simulaci víckrát, ať se seznámíte s flexibilitou modelu. Rovněž zkuste měnit variance jednotlivých šumů a pozorujte, jak se změny projevují (chce to pokaždé více běhů)."
   ]
  },
  {
   "cell_type": "markdown",
   "metadata": {},
   "source": [
    "## Úkol 1:\n",
    "\n",
    "Využijte Kalmanův filtr pro modelování výše uvedeného systému. Tj. sestavte matice (uveďte je zde), pusťte odhad a udělejte predikce i na např. 50 kroků za horizont dat."
   ]
  },
  {
   "cell_type": "code",
   "execution_count": null,
   "metadata": {},
   "outputs": [],
   "source": [
    "A = ***\n",
    "H = ***\n",
    "Q = ***\n",
    "R = ***   # pozor, musí být 2D"
   ]
  },
  {
   "cell_type": "code",
   "execution_count": null,
   "metadata": {},
   "outputs": [],
   "source": [
    "kf = KF(A=A, B=None, H=H, R=R, Q=Q)\n",
    "for t in range(ndat+npred):\n",
    "    kf.predict()\n",
    "    if t < ndat:\n",
    "        kf.correct(np.atleast_1d(y[t]))\n",
    "    kf.log()\n",
    "\n",
    "log_x = np.array(kf.log_x).T"
   ]
  },
  {
   "cell_type": "code",
   "execution_count": null,
   "metadata": {},
   "outputs": [],
   "source": [
    "plt.plot(y, label=r'$y_t$')\n",
    "plt.plot(log_x[0].T, label=r'$\\hat{\\mu}_t$')\n",
    "plt.legend()"
   ]
  },
  {
   "cell_type": "markdown",
   "metadata": {},
   "source": [
    "## Úkol 2:\n",
    "\n",
    "V souboru '20180224_Gp_part_5m.txt' naleznete měření z přístroje zjišťujícího tok elektronů a protonů v slunečním větru. Tento instrument je umístěn v družici [GOES-15](https://en.wikipedia.org/wiki/GOES_15). Vyberte sloupec s měřeními \"Electrons at >2.0 Mev\" a zkuste jej namodelovat pomocí modelu lokálního lineárního trendu. To znamená, že budete muset vyladit i (neznámé) hodnoty variancí šumu. Nedá to moc práce, ale chce to použít mozek :)"
   ]
  },
  {
   "cell_type": "code",
   "execution_count": null,
   "metadata": {},
   "outputs": [],
   "source": [
    "fn = './20180224_Gp_part_5m.txt'\n",
    "data = np.genfromtxt(fn, skip_header=26)\n",
    "E2 = data[:,-2]\n",
    "plt.plot(E2)"
   ]
  },
  {
   "cell_type": "code",
   "execution_count": null,
   "metadata": {},
   "outputs": [],
   "source": [
    "sigma_epsilon = ***\n",
    "sigma_xi = ***\n",
    "sigma_zeta = ***\n",
    "A = np.array([[1, 1],\n",
    "              [0, 1]])\n",
    "H = np.array([[1, 0]])\n",
    "R = np.atleast_2d(sigma_epsilon**2)\n",
    "Q = np.diag([sigma_xi**2, sigma_zeta**2])"
   ]
  },
  {
   "cell_type": "code",
   "execution_count": null,
   "metadata": {},
   "outputs": [],
   "source": [
    "kf_E2 = KF(A=A, B=None, H=H, R=R, Q=Q)\n",
    "kf_E2.x = [E2[0], 0]\n",
    "kf_E2.P = np.eye(2) * 1000\n",
    "print(kf_E2.x)\n",
    "for t, E2t in enumerate(E2):\n",
    "    kf_E2.predict()\n",
    "    kf_E2.correct(np.atleast_1d(E2t))\n",
    "    kf_E2.log()\n",
    "\n",
    "E2_log_x = np.array(kf_E2.log_x).T\n",
    "print(E2_log_x[:,:5])"
   ]
  }
 ],
 "metadata": {
  "kernelspec": {
   "display_name": "Python 3",
   "language": "python",
   "name": "python3"
  },
  "language_info": {
   "codemirror_mode": {
    "name": "ipython",
    "version": 3
   },
   "file_extension": ".py",
   "mimetype": "text/x-python",
   "name": "python",
   "nbconvert_exporter": "python",
   "pygments_lexer": "ipython3",
   "version": "3.9.1"
  }
 },
 "nbformat": 4,
 "nbformat_minor": 4
}
