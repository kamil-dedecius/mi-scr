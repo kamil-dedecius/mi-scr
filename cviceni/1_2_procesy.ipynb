{
 "cells": [
  {
   "cell_type": "code",
   "execution_count": null,
   "metadata": {},
   "outputs": [],
   "source": [
    "import numpy as np\n",
    "import matplotlib.pylab as plt"
   ]
  },
  {
   "cell_type": "markdown",
   "metadata": {},
   "source": [
    "# Simulace náhodných procesů\n",
    "\n",
    "Budeme simulovat několik náhodných procesů z přednášky."
   ]
  },
  {
   "cell_type": "markdown",
   "metadata": {},
   "source": [
    "### Bílý šum\n",
    "[Bílý šum](https://en.wikipedia.org/wiki/White_noise) je náhodný proces $\\{X_t\\}$, kde\n",
    "\n",
    "$$\n",
    "\\begin{aligned}\n",
    "\\mathbb{E}[X_t] &= 0, \\\\\n",
    "\\operatorname{var}(X_t) &= \\sigma^2 < \\infty,\\\\\n",
    "\\operatorname{cov}(X_t, X_{t+\\tau}) = \\gamma(\\tau) &= 0.\n",
    "\\end{aligned}\n",
    "$$\n",
    "\n",
    "**Úkol 1: Simulujte a vykreslete 4 realizace gaussovského bílého šumu, kde $X_t \\sim \\mathcal{N}(0, \\sigma^2),\\quad t=1,\\ldots,1000$.**"
   ]
  },
  {
   "cell_type": "code",
   "execution_count": null,
   "metadata": {},
   "outputs": [],
   "source": [
    "ndat = 1000\n",
    "x = ***\n",
    "plt.figure(figsize=(14,5))\n",
    "plt.plot(x)\n",
    "plt.show()"
   ]
  },
  {
   "cell_type": "markdown",
   "metadata": {},
   "source": [
    "## Náhodná procházka\n",
    "Uvažujme diskrétní bílý šum $Z_t \\sim \\mathcal{L}(0, \\sigma^2)$. Proces $\\{X_t\\}$ nazýváme [náhodnou procházkou](https://en.wikipedia.org/wiki/Random_walk), pokud\n",
    "$$\n",
    "\\begin{aligned}\n",
    "X_0 &= 0,\\\\\n",
    "X_t &= X_{t-1} + Z_t,\n",
    "\\end{aligned}\n",
    "$$\n",
    "\n",
    "a tedy $X_t = \\sum_{i=1}^t Z_i$.\n",
    "\n",
    "**Úkol 2: Simulujte a vykreslete 4 realizace náhodné procházky, kde $Z_t,\\quad t=1,\\ldots,1000$, je náhodný krok o délce 1 s pravděpodobností 0.5 a o délce -1 s pravděpodobností rovněž 0.5.**"
   ]
  },
  {
   "cell_type": "code",
   "execution_count": null,
   "metadata": {},
   "outputs": [],
   "source": [
    "ndat = 1000\n",
    "X = np.zeros((ndat, 4))\n",
    "for t in range(1, ndat):\n",
    "    X[t] = ***\n",
    "\n",
    "plt.figure(figsize=(14,4))\n",
    "plt.plot(X)\n",
    "plt.show()"
   ]
  }
 ],
 "metadata": {
  "kernelspec": {
   "display_name": "Python 3",
   "language": "python",
   "name": "python3"
  },
  "language_info": {
   "codemirror_mode": {
    "name": "ipython",
    "version": 3
   },
   "file_extension": ".py",
   "mimetype": "text/x-python",
   "name": "python",
   "nbconvert_exporter": "python",
   "pygments_lexer": "ipython3",
   "version": "3.8.3"
  }
 },
 "nbformat": 4,
 "nbformat_minor": 2
}
